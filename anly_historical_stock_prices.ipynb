{
 "cells": [
  {
   "cell_type": "markdown",
   "metadata": {},
   "source": [
    "# 必要なパッケージのインポート"
   ]
  },
  {
   "cell_type": "code",
   "execution_count": 1,
   "metadata": {},
   "outputs": [],
   "source": [
    "import os\n",
    "import pandas as pd"
   ]
  },
  {
   "cell_type": "markdown",
   "metadata": {},
   "source": [
    "# データの読み込み"
   ]
  },
  {
   "cell_type": "code",
   "execution_count": 2,
   "metadata": {},
   "outputs": [
    {
     "data": {
      "text/plain": [
       "'/Users/masamitsuochiai/repos/project-b'"
      ]
     },
     "execution_count": 2,
     "metadata": {},
     "output_type": "execute_result"
    }
   ],
   "source": [
    "os.getcwd()"
   ]
  },
  {
   "cell_type": "code",
   "execution_count": 3,
   "metadata": {},
   "outputs": [
    {
     "data": {
      "text/plain": [
       "['anly_historical_stock_prices.ipynb',\n",
       " 'periodic-table-datapackage_company.db',\n",
       " 'anly_macrotrends_info.ipynb',\n",
       " 'output',\n",
       " 'README.md',\n",
       " '.gitignore',\n",
       " 'get_stock_list.ipynb',\n",
       " '.ipynb_checkpoints',\n",
       " 'resource_files',\n",
       " '.git',\n",
       " 'tmp',\n",
       " 'periodic-table-datapackage_company-wk.db']"
      ]
     },
     "execution_count": 3,
     "metadata": {},
     "output_type": "execute_result"
    }
   ],
   "source": [
    "os.listdir()"
   ]
  },
  {
   "cell_type": "code",
   "execution_count": 5,
   "metadata": {},
   "outputs": [
    {
     "data": {
      "text/plain": [
       "['chromedriver_mac64.zip',\n",
       " 'historical_stocks.csv',\n",
       " 'chromedriver',\n",
       " 'historical_stock_prices.csv.zip']"
      ]
     },
     "execution_count": 5,
     "metadata": {},
     "output_type": "execute_result"
    }
   ],
   "source": [
    "os.listdir(\"./resource_files\")"
   ]
  },
  {
   "cell_type": "code",
   "execution_count": 7,
   "metadata": {},
   "outputs": [
    {
     "name": "stderr",
     "output_type": "stream",
     "text": [
      "/usr/local/var/pyenv/versions/3.7.3/lib/python3.7/site-packages/ipykernel_launcher.py:1: FutureWarning: read_table is deprecated, use read_csv instead.\n",
      "  \"\"\"Entry point for launching an IPython kernel.\n"
     ]
    }
   ],
   "source": [
    "df = pd.read_table(\"./resource_files/historical_stock_prices.csv.zip\", sep=\",\", header=0)"
   ]
  },
  {
   "cell_type": "markdown",
   "metadata": {},
   "source": [
    "# データ理解"
   ]
  },
  {
   "cell_type": "markdown",
   "metadata": {},
   "source": [
    "## データの概要"
   ]
  },
  {
   "cell_type": "code",
   "execution_count": 8,
   "metadata": {},
   "outputs": [
    {
     "data": {
      "text/plain": [
       "(20973889, 8)"
      ]
     },
     "execution_count": 8,
     "metadata": {},
     "output_type": "execute_result"
    }
   ],
   "source": [
    "df.shape"
   ]
  },
  {
   "cell_type": "code",
   "execution_count": 10,
   "metadata": {},
   "outputs": [
    {
     "data": {
      "text/plain": [
       "Index(['ticker', 'open', 'close', 'adj_close', 'low', 'high', 'volume',\n",
       "       'date'],\n",
       "      dtype='object')"
      ]
     },
     "execution_count": 10,
     "metadata": {},
     "output_type": "execute_result"
    }
   ],
   "source": [
    "df.columns"
   ]
  },
  {
   "cell_type": "code",
   "execution_count": 11,
   "metadata": {},
   "outputs": [
    {
     "data": {
      "text/html": [
       "<div>\n",
       "<style scoped>\n",
       "    .dataframe tbody tr th:only-of-type {\n",
       "        vertical-align: middle;\n",
       "    }\n",
       "\n",
       "    .dataframe tbody tr th {\n",
       "        vertical-align: top;\n",
       "    }\n",
       "\n",
       "    .dataframe thead th {\n",
       "        text-align: right;\n",
       "    }\n",
       "</style>\n",
       "<table border=\"1\" class=\"dataframe\">\n",
       "  <thead>\n",
       "    <tr style=\"text-align: right;\">\n",
       "      <th></th>\n",
       "      <th>ticker</th>\n",
       "      <th>open</th>\n",
       "      <th>close</th>\n",
       "      <th>adj_close</th>\n",
       "      <th>low</th>\n",
       "      <th>high</th>\n",
       "      <th>volume</th>\n",
       "      <th>date</th>\n",
       "    </tr>\n",
       "  </thead>\n",
       "  <tbody>\n",
       "    <tr>\n",
       "      <th>0</th>\n",
       "      <td>AHH</td>\n",
       "      <td>11.50</td>\n",
       "      <td>11.58</td>\n",
       "      <td>8.493155</td>\n",
       "      <td>11.25</td>\n",
       "      <td>11.68</td>\n",
       "      <td>4633900</td>\n",
       "      <td>2013-05-08</td>\n",
       "    </tr>\n",
       "    <tr>\n",
       "      <th>1</th>\n",
       "      <td>AHH</td>\n",
       "      <td>11.66</td>\n",
       "      <td>11.55</td>\n",
       "      <td>8.471151</td>\n",
       "      <td>11.50</td>\n",
       "      <td>11.66</td>\n",
       "      <td>275800</td>\n",
       "      <td>2013-05-09</td>\n",
       "    </tr>\n",
       "    <tr>\n",
       "      <th>2</th>\n",
       "      <td>AHH</td>\n",
       "      <td>11.55</td>\n",
       "      <td>11.60</td>\n",
       "      <td>8.507822</td>\n",
       "      <td>11.50</td>\n",
       "      <td>11.60</td>\n",
       "      <td>277100</td>\n",
       "      <td>2013-05-10</td>\n",
       "    </tr>\n",
       "    <tr>\n",
       "      <th>3</th>\n",
       "      <td>AHH</td>\n",
       "      <td>11.63</td>\n",
       "      <td>11.65</td>\n",
       "      <td>8.544494</td>\n",
       "      <td>11.55</td>\n",
       "      <td>11.65</td>\n",
       "      <td>147400</td>\n",
       "      <td>2013-05-13</td>\n",
       "    </tr>\n",
       "    <tr>\n",
       "      <th>4</th>\n",
       "      <td>AHH</td>\n",
       "      <td>11.60</td>\n",
       "      <td>11.53</td>\n",
       "      <td>8.456484</td>\n",
       "      <td>11.50</td>\n",
       "      <td>11.60</td>\n",
       "      <td>184100</td>\n",
       "      <td>2013-05-14</td>\n",
       "    </tr>\n",
       "  </tbody>\n",
       "</table>\n",
       "</div>"
      ],
      "text/plain": [
       "  ticker   open  close  adj_close    low   high   volume        date\n",
       "0    AHH  11.50  11.58   8.493155  11.25  11.68  4633900  2013-05-08\n",
       "1    AHH  11.66  11.55   8.471151  11.50  11.66   275800  2013-05-09\n",
       "2    AHH  11.55  11.60   8.507822  11.50  11.60   277100  2013-05-10\n",
       "3    AHH  11.63  11.65   8.544494  11.55  11.65   147400  2013-05-13\n",
       "4    AHH  11.60  11.53   8.456484  11.50  11.60   184100  2013-05-14"
      ]
     },
     "execution_count": 11,
     "metadata": {},
     "output_type": "execute_result"
    }
   ],
   "source": [
    "df.head()"
   ]
  },
  {
   "cell_type": "code",
   "execution_count": 12,
   "metadata": {},
   "outputs": [
    {
     "data": {
      "text/html": [
       "<div>\n",
       "<style scoped>\n",
       "    .dataframe tbody tr th:only-of-type {\n",
       "        vertical-align: middle;\n",
       "    }\n",
       "\n",
       "    .dataframe tbody tr th {\n",
       "        vertical-align: top;\n",
       "    }\n",
       "\n",
       "    .dataframe thead th {\n",
       "        text-align: right;\n",
       "    }\n",
       "</style>\n",
       "<table border=\"1\" class=\"dataframe\">\n",
       "  <thead>\n",
       "    <tr style=\"text-align: right;\">\n",
       "      <th></th>\n",
       "      <th>ticker</th>\n",
       "      <th>open</th>\n",
       "      <th>close</th>\n",
       "      <th>adj_close</th>\n",
       "      <th>low</th>\n",
       "      <th>high</th>\n",
       "      <th>volume</th>\n",
       "      <th>date</th>\n",
       "    </tr>\n",
       "  </thead>\n",
       "  <tbody>\n",
       "    <tr>\n",
       "      <th>20973884</th>\n",
       "      <td>NZF</td>\n",
       "      <td>14.60</td>\n",
       "      <td>14.59</td>\n",
       "      <td>14.59</td>\n",
       "      <td>14.58</td>\n",
       "      <td>14.62</td>\n",
       "      <td>137500</td>\n",
       "      <td>2018-08-20</td>\n",
       "    </tr>\n",
       "    <tr>\n",
       "      <th>20973885</th>\n",
       "      <td>NZF</td>\n",
       "      <td>14.60</td>\n",
       "      <td>14.58</td>\n",
       "      <td>14.58</td>\n",
       "      <td>14.57</td>\n",
       "      <td>14.61</td>\n",
       "      <td>151200</td>\n",
       "      <td>2018-08-21</td>\n",
       "    </tr>\n",
       "    <tr>\n",
       "      <th>20973886</th>\n",
       "      <td>NZF</td>\n",
       "      <td>14.58</td>\n",
       "      <td>14.59</td>\n",
       "      <td>14.59</td>\n",
       "      <td>14.57</td>\n",
       "      <td>14.63</td>\n",
       "      <td>185400</td>\n",
       "      <td>2018-08-22</td>\n",
       "    </tr>\n",
       "    <tr>\n",
       "      <th>20973887</th>\n",
       "      <td>NZF</td>\n",
       "      <td>14.60</td>\n",
       "      <td>14.57</td>\n",
       "      <td>14.57</td>\n",
       "      <td>14.57</td>\n",
       "      <td>14.64</td>\n",
       "      <td>135600</td>\n",
       "      <td>2018-08-23</td>\n",
       "    </tr>\n",
       "    <tr>\n",
       "      <th>20973888</th>\n",
       "      <td>NZF</td>\n",
       "      <td>14.60</td>\n",
       "      <td>14.69</td>\n",
       "      <td>14.69</td>\n",
       "      <td>14.59</td>\n",
       "      <td>14.69</td>\n",
       "      <td>180900</td>\n",
       "      <td>2018-08-24</td>\n",
       "    </tr>\n",
       "  </tbody>\n",
       "</table>\n",
       "</div>"
      ],
      "text/plain": [
       "         ticker   open  close  adj_close    low   high  volume        date\n",
       "20973884    NZF  14.60  14.59      14.59  14.58  14.62  137500  2018-08-20\n",
       "20973885    NZF  14.60  14.58      14.58  14.57  14.61  151200  2018-08-21\n",
       "20973886    NZF  14.58  14.59      14.59  14.57  14.63  185400  2018-08-22\n",
       "20973887    NZF  14.60  14.57      14.57  14.57  14.64  135600  2018-08-23\n",
       "20973888    NZF  14.60  14.69      14.69  14.59  14.69  180900  2018-08-24"
      ]
     },
     "execution_count": 12,
     "metadata": {},
     "output_type": "execute_result"
    }
   ],
   "source": [
    "df.tail()"
   ]
  },
  {
   "cell_type": "code",
   "execution_count": 13,
   "metadata": {},
   "outputs": [
    {
     "name": "stdout",
     "output_type": "stream",
     "text": [
      "<class 'pandas.core.frame.DataFrame'>\n",
      "RangeIndex: 20973889 entries, 0 to 20973888\n",
      "Data columns (total 8 columns):\n",
      "ticker       object\n",
      "open         float64\n",
      "close        float64\n",
      "adj_close    float64\n",
      "low          float64\n",
      "high         float64\n",
      "volume       int64\n",
      "date         object\n",
      "dtypes: float64(5), int64(1), object(2)\n",
      "memory usage: 1.3+ GB\n"
     ]
    }
   ],
   "source": [
    "df.info()"
   ]
  },
  {
   "cell_type": "markdown",
   "metadata": {},
   "source": [
    "## カラムごとの概要"
   ]
  },
  {
   "cell_type": "code",
   "execution_count": 14,
   "metadata": {},
   "outputs": [
    {
     "data": {
      "text/html": [
       "<div>\n",
       "<style scoped>\n",
       "    .dataframe tbody tr th:only-of-type {\n",
       "        vertical-align: middle;\n",
       "    }\n",
       "\n",
       "    .dataframe tbody tr th {\n",
       "        vertical-align: top;\n",
       "    }\n",
       "\n",
       "    .dataframe thead th {\n",
       "        text-align: right;\n",
       "    }\n",
       "</style>\n",
       "<table border=\"1\" class=\"dataframe\">\n",
       "  <thead>\n",
       "    <tr style=\"text-align: right;\">\n",
       "      <th></th>\n",
       "      <th>ticker</th>\n",
       "    </tr>\n",
       "  </thead>\n",
       "  <tbody>\n",
       "    <tr>\n",
       "      <th>count</th>\n",
       "      <td>20973889</td>\n",
       "    </tr>\n",
       "    <tr>\n",
       "      <th>nunique</th>\n",
       "      <td>5685</td>\n",
       "    </tr>\n",
       "  </tbody>\n",
       "</table>\n",
       "</div>"
      ],
      "text/plain": [
       "           ticker\n",
       "count    20973889\n",
       "nunique      5685"
      ]
     },
     "execution_count": 14,
     "metadata": {},
     "output_type": "execute_result"
    }
   ],
   "source": [
    "df.agg({\"ticker\": [\"count\", \"nunique\"]})"
   ]
  },
  {
   "cell_type": "code",
   "execution_count": 15,
   "metadata": {},
   "outputs": [
    {
     "data": {
      "text/html": [
       "<div>\n",
       "<style scoped>\n",
       "    .dataframe tbody tr th:only-of-type {\n",
       "        vertical-align: middle;\n",
       "    }\n",
       "\n",
       "    .dataframe tbody tr th {\n",
       "        vertical-align: top;\n",
       "    }\n",
       "\n",
       "    .dataframe thead th {\n",
       "        text-align: right;\n",
       "    }\n",
       "</style>\n",
       "<table border=\"1\" class=\"dataframe\">\n",
       "  <thead>\n",
       "    <tr style=\"text-align: right;\">\n",
       "      <th></th>\n",
       "      <th>date</th>\n",
       "    </tr>\n",
       "  </thead>\n",
       "  <tbody>\n",
       "    <tr>\n",
       "      <th>min</th>\n",
       "      <td>1970-01-02</td>\n",
       "    </tr>\n",
       "    <tr>\n",
       "      <th>max</th>\n",
       "      <td>2018-08-24</td>\n",
       "    </tr>\n",
       "  </tbody>\n",
       "</table>\n",
       "</div>"
      ],
      "text/plain": [
       "           date\n",
       "min  1970-01-02\n",
       "max  2018-08-24"
      ]
     },
     "execution_count": 15,
     "metadata": {},
     "output_type": "execute_result"
    }
   ],
   "source": [
    "df.agg({\"date\": [\"min\", \"max\"]})"
   ]
  },
  {
   "cell_type": "code",
   "execution_count": 19,
   "metadata": {},
   "outputs": [
    {
     "data": {
      "text/html": [
       "<div>\n",
       "<style scoped>\n",
       "    .dataframe tbody tr th:only-of-type {\n",
       "        vertical-align: middle;\n",
       "    }\n",
       "\n",
       "    .dataframe tbody tr th {\n",
       "        vertical-align: top;\n",
       "    }\n",
       "\n",
       "    .dataframe thead th {\n",
       "        text-align: right;\n",
       "    }\n",
       "</style>\n",
       "<table border=\"1\" class=\"dataframe\">\n",
       "  <thead>\n",
       "    <tr style=\"text-align: right;\">\n",
       "      <th></th>\n",
       "      <th>open</th>\n",
       "      <th>close</th>\n",
       "      <th>adj_close</th>\n",
       "      <th>low</th>\n",
       "      <th>high</th>\n",
       "      <th>volume</th>\n",
       "    </tr>\n",
       "  </thead>\n",
       "  <tbody>\n",
       "    <tr>\n",
       "      <th>min</th>\n",
       "      <td>4.000000e-04</td>\n",
       "      <td>2.000000e-04</td>\n",
       "      <td>2.282650e-09</td>\n",
       "      <td>1.000000e-04</td>\n",
       "      <td>4.000000e-04</td>\n",
       "      <td>1</td>\n",
       "    </tr>\n",
       "    <tr>\n",
       "      <th>max</th>\n",
       "      <td>2.034000e+06</td>\n",
       "      <td>1.779750e+06</td>\n",
       "      <td>1.894962e+19</td>\n",
       "      <td>1.440000e+06</td>\n",
       "      <td>2.070000e+06</td>\n",
       "      <td>4483504400</td>\n",
       "    </tr>\n",
       "  </tbody>\n",
       "</table>\n",
       "</div>"
      ],
      "text/plain": [
       "             open         close     adj_close           low          high  \\\n",
       "min  4.000000e-04  2.000000e-04  2.282650e-09  1.000000e-04  4.000000e-04   \n",
       "max  2.034000e+06  1.779750e+06  1.894962e+19  1.440000e+06  2.070000e+06   \n",
       "\n",
       "         volume  \n",
       "min           1  \n",
       "max  4483504400  "
      ]
     },
     "execution_count": 19,
     "metadata": {},
     "output_type": "execute_result"
    }
   ],
   "source": [
    "df.agg({\n",
    "    \"open\": [\"min\", \"max\"],\n",
    "    \"close\": [\"min\", \"max\"],\n",
    "    \"adj_close\": [\"min\", \"max\"],\n",
    "    \"low\": [\"min\", \"max\"],\n",
    "    \"high\": [\"min\", \"max\"],\n",
    "    \"volume\": [\"min\", \"max\"]\n",
    "})"
   ]
  },
  {
   "cell_type": "code",
   "execution_count": 23,
   "metadata": {},
   "outputs": [
    {
     "data": {
      "text/plain": [
       "1970-01-02      28\n",
       "1970-01-05      28\n",
       "1970-01-06      28\n",
       "1970-01-07      28\n",
       "1970-01-08      28\n",
       "1970-01-09      28\n",
       "1970-01-12      28\n",
       "1970-01-13      28\n",
       "1970-01-14      28\n",
       "1970-01-15      28\n",
       "1970-01-16      28\n",
       "1970-01-19      28\n",
       "1970-01-20      28\n",
       "1970-01-21      28\n",
       "1970-01-22      28\n",
       "1970-01-23      28\n",
       "1970-01-26      28\n",
       "1970-01-27      28\n",
       "1970-01-28      28\n",
       "1970-01-29      28\n",
       "1970-01-30      28\n",
       "1970-02-02      28\n",
       "1970-02-03      28\n",
       "1970-02-04      28\n",
       "1970-02-05      28\n",
       "1970-02-06      28\n",
       "1970-02-09      28\n",
       "1970-02-10      28\n",
       "1970-02-11      28\n",
       "1970-02-12      28\n",
       "              ... \n",
       "2018-07-16    5499\n",
       "2018-07-17    5514\n",
       "2018-07-18    5511\n",
       "2018-07-19    5512\n",
       "2018-07-20    5494\n",
       "2018-07-23    5490\n",
       "2018-07-24    5517\n",
       "2018-07-25    5489\n",
       "2018-07-26    5510\n",
       "2018-07-27    5498\n",
       "2018-07-30    5498\n",
       "2018-07-31    5499\n",
       "2018-08-01    5499\n",
       "2018-08-02    5499\n",
       "2018-08-03    5462\n",
       "2018-08-06    5468\n",
       "2018-08-07    5458\n",
       "2018-08-08    5466\n",
       "2018-08-09    5450\n",
       "2018-08-10    5467\n",
       "2018-08-13    5481\n",
       "2018-08-14    5452\n",
       "2018-08-15    5459\n",
       "2018-08-16    5452\n",
       "2018-08-17    5444\n",
       "2018-08-20    5450\n",
       "2018-08-21    5471\n",
       "2018-08-22    5464\n",
       "2018-08-23    5441\n",
       "2018-08-24    5479\n",
       "Name: date, Length: 12274, dtype: int64"
      ]
     },
     "execution_count": 23,
     "metadata": {},
     "output_type": "execute_result"
    }
   ],
   "source": [
    "df[\"date\"].value_counts().sort_index()"
   ]
  },
  {
   "cell_type": "code",
   "execution_count": 26,
   "metadata": {},
   "outputs": [
    {
     "data": {
      "text/plain": [
       "PENN     17\n",
       "EVOL     17\n",
       "CASA     17\n",
       "SMIT     17\n",
       "NSL      17\n",
       "MYOS     17\n",
       "ALQA     17\n",
       "SHLO     17\n",
       "KEYW     17\n",
       "IDSY     17\n",
       "OBE      17\n",
       "BGG      17\n",
       "ONE      17\n",
       "WAGE     17\n",
       "MGI      17\n",
       "LAUR     17\n",
       "BWXT     17\n",
       "VCYT     17\n",
       "OPOF     17\n",
       "HCSG     17\n",
       "PMTS     17\n",
       "LBRDK    17\n",
       "PIY      17\n",
       "ASGN     17\n",
       "PATI     17\n",
       "BKS      17\n",
       "CAI      17\n",
       "DTJ      17\n",
       "NMI      17\n",
       "LN       17\n",
       "         ..\n",
       "APTV      2\n",
       "RWGE      2\n",
       "EQH       2\n",
       "SMAR      2\n",
       "NINE      2\n",
       "KELYB     2\n",
       "PRT       2\n",
       "ROAD      2\n",
       "SLDD      2\n",
       "JSYN      2\n",
       "STXB      2\n",
       "KYE       2\n",
       "GPAQU     2\n",
       "CBX       2\n",
       "COLD      2\n",
       "CBO       2\n",
       "ASLN      2\n",
       "BRPAU     2\n",
       "BHAC      2\n",
       "YLDE      1\n",
       "ELJ       1\n",
       "OKDCC     1\n",
       "VETS      1\n",
       "BSA       1\n",
       "TCAP      1\n",
       "PMPT      1\n",
       "EAI       1\n",
       "AJXA      1\n",
       "SENEB     1\n",
       "IVFVC     1\n",
       "Name: ticker, Length: 5623, dtype: int64"
      ]
     },
     "execution_count": 26,
     "metadata": {},
     "output_type": "execute_result"
    }
   ],
   "source": [
    "df.query(\"date > '2018-08-01'\")[\"ticker\"].value_counts()"
   ]
  },
  {
   "cell_type": "markdown",
   "metadata": {},
   "source": [
    "## 欠損値の情報"
   ]
  },
  {
   "cell_type": "code",
   "execution_count": 16,
   "metadata": {},
   "outputs": [
    {
     "data": {
      "text/plain": [
       "ticker       0\n",
       "open         0\n",
       "close        0\n",
       "adj_close    0\n",
       "low          0\n",
       "high         0\n",
       "volume       0\n",
       "date         0\n",
       "dtype: int64"
      ]
     },
     "execution_count": 16,
     "metadata": {},
     "output_type": "execute_result"
    }
   ],
   "source": [
    "df.isnull().sum()"
   ]
  },
  {
   "cell_type": "markdown",
   "metadata": {},
   "source": [
    "# S&P 500銘柄に絞った場合のデータ理解"
   ]
  },
  {
   "cell_type": "markdown",
   "metadata": {},
   "source": [
    "## S&P 500銘柄一覧の読み込み"
   ]
  },
  {
   "cell_type": "code",
   "execution_count": 31,
   "metadata": {},
   "outputs": [
    {
     "data": {
      "text/plain": [
       "['s_and_p_macrotrends_info.csv', 's_and_p_stock_list.csv', 'wk']"
      ]
     },
     "execution_count": 31,
     "metadata": {},
     "output_type": "execute_result"
    }
   ],
   "source": [
    "os.listdir(\"./output\")"
   ]
  },
  {
   "cell_type": "code",
   "execution_count": 32,
   "metadata": {},
   "outputs": [
    {
     "name": "stderr",
     "output_type": "stream",
     "text": [
      "/usr/local/var/pyenv/versions/3.7.3/lib/python3.7/site-packages/ipykernel_launcher.py:1: FutureWarning: read_table is deprecated, use read_csv instead.\n",
      "  \"\"\"Entry point for launching an IPython kernel.\n"
     ]
    }
   ],
   "source": [
    "df_s_and_p_stock_list = pd.read_table(\"./output/s_and_p_stock_list.csv\", sep=\",\", header=0)"
   ]
  },
  {
   "cell_type": "code",
   "execution_count": 34,
   "metadata": {},
   "outputs": [],
   "source": [
    "s_and_p_symbol_list = df_s_and_p_stock_list[\"Symbol\"]"
   ]
  },
  {
   "cell_type": "markdown",
   "metadata": {},
   "source": [
    "## S&P 500銘柄の株価データを抽出して理解"
   ]
  },
  {
   "cell_type": "code",
   "execution_count": 38,
   "metadata": {},
   "outputs": [],
   "source": [
    "df_s_and_p = df.query(\"ticker in @s_and_p_symbol_list\")"
   ]
  },
  {
   "cell_type": "code",
   "execution_count": 39,
   "metadata": {},
   "outputs": [
    {
     "data": {
      "text/plain": [
       "(3431352, 8)"
      ]
     },
     "execution_count": 39,
     "metadata": {},
     "output_type": "execute_result"
    }
   ],
   "source": [
    "df_s_and_p.shape"
   ]
  },
  {
   "cell_type": "code",
   "execution_count": 40,
   "metadata": {},
   "outputs": [
    {
     "data": {
      "text/plain": [
       "484"
      ]
     },
     "execution_count": 40,
     "metadata": {},
     "output_type": "execute_result"
    }
   ],
   "source": [
    "df_s_and_p[\"ticker\"].nunique()"
   ]
  },
  {
   "cell_type": "code",
   "execution_count": 42,
   "metadata": {},
   "outputs": [
    {
     "data": {
      "text/html": [
       "<div>\n",
       "<style scoped>\n",
       "    .dataframe tbody tr th:only-of-type {\n",
       "        vertical-align: middle;\n",
       "    }\n",
       "\n",
       "    .dataframe tbody tr th {\n",
       "        vertical-align: top;\n",
       "    }\n",
       "\n",
       "    .dataframe thead th {\n",
       "        text-align: right;\n",
       "    }\n",
       "</style>\n",
       "<table border=\"1\" class=\"dataframe\">\n",
       "  <thead>\n",
       "    <tr style=\"text-align: right;\">\n",
       "      <th></th>\n",
       "      <th>date</th>\n",
       "    </tr>\n",
       "  </thead>\n",
       "  <tbody>\n",
       "    <tr>\n",
       "      <th>min</th>\n",
       "      <td>1970-01-02</td>\n",
       "    </tr>\n",
       "    <tr>\n",
       "      <th>max</th>\n",
       "      <td>2018-08-24</td>\n",
       "    </tr>\n",
       "  </tbody>\n",
       "</table>\n",
       "</div>"
      ],
      "text/plain": [
       "           date\n",
       "min  1970-01-02\n",
       "max  2018-08-24"
      ]
     },
     "execution_count": 42,
     "metadata": {},
     "output_type": "execute_result"
    }
   ],
   "source": [
    "df_s_and_p.agg({\"date\":[min, max]})"
   ]
  },
  {
   "cell_type": "code",
   "execution_count": 43,
   "metadata": {},
   "outputs": [
    {
     "data": {
      "text/plain": [
       "1970-01-02     22\n",
       "1970-01-05     22\n",
       "1970-01-06     22\n",
       "1970-01-07     22\n",
       "1970-01-08     22\n",
       "1970-01-09     22\n",
       "1970-01-12     22\n",
       "1970-01-13     22\n",
       "1970-01-14     22\n",
       "1970-01-15     22\n",
       "1970-01-16     22\n",
       "1970-01-19     22\n",
       "1970-01-20     22\n",
       "1970-01-21     22\n",
       "1970-01-22     22\n",
       "1970-01-23     22\n",
       "1970-01-26     22\n",
       "1970-01-27     22\n",
       "1970-01-28     22\n",
       "1970-01-29     22\n",
       "1970-01-30     22\n",
       "1970-02-02     22\n",
       "1970-02-03     22\n",
       "1970-02-04     22\n",
       "1970-02-05     22\n",
       "1970-02-06     22\n",
       "1970-02-09     22\n",
       "1970-02-10     22\n",
       "1970-02-11     22\n",
       "1970-02-12     22\n",
       "             ... \n",
       "2018-07-16    484\n",
       "2018-07-17    484\n",
       "2018-07-18    484\n",
       "2018-07-19    484\n",
       "2018-07-20    484\n",
       "2018-07-23    484\n",
       "2018-07-24    484\n",
       "2018-07-25    484\n",
       "2018-07-26    484\n",
       "2018-07-27    484\n",
       "2018-07-30    484\n",
       "2018-07-31    484\n",
       "2018-08-01    484\n",
       "2018-08-02    484\n",
       "2018-08-03    483\n",
       "2018-08-06    483\n",
       "2018-08-07    483\n",
       "2018-08-08    483\n",
       "2018-08-09    483\n",
       "2018-08-10    483\n",
       "2018-08-13    483\n",
       "2018-08-14    483\n",
       "2018-08-15    483\n",
       "2018-08-16    483\n",
       "2018-08-17    483\n",
       "2018-08-20    483\n",
       "2018-08-21    483\n",
       "2018-08-22    482\n",
       "2018-08-23    482\n",
       "2018-08-24    484\n",
       "Name: date, Length: 12274, dtype: int64"
      ]
     },
     "execution_count": 43,
     "metadata": {},
     "output_type": "execute_result"
    }
   ],
   "source": [
    "df_s_and_p[\"date\"].value_counts().sort_index()"
   ]
  },
  {
   "cell_type": "code",
   "execution_count": null,
   "metadata": {},
   "outputs": [],
   "source": []
  }
 ],
 "metadata": {
  "kernelspec": {
   "display_name": "Python 3",
   "language": "python",
   "name": "python3"
  },
  "language_info": {
   "codemirror_mode": {
    "name": "ipython",
    "version": 3
   },
   "file_extension": ".py",
   "mimetype": "text/x-python",
   "name": "python",
   "nbconvert_exporter": "python",
   "pygments_lexer": "ipython3",
   "version": "3.7.3"
  }
 },
 "nbformat": 4,
 "nbformat_minor": 4
}
