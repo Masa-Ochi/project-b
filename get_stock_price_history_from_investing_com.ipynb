{
 "cells": [
  {
   "cell_type": "markdown",
   "metadata": {},
   "source": [
    "# 必要なパッケージのインストール"
   ]
  },
  {
   "cell_type": "code",
   "execution_count": 1,
   "metadata": {},
   "outputs": [],
   "source": [
    "from selenium import webdriver\n",
    "from selenium.webdriver.chrome.options import Options\n",
    "from selenium.webdriver.common.keys import Keys\n",
    "from selenium.webdriver.support.ui import WebDriverWait\n",
    "from selenium.webdriver.common.by import By\n",
    "from selenium.webdriver.support import expected_conditions as EC\n",
    "from selenium.webdriver.support.ui import Select\n",
    "\n",
    "import pickle\n",
    "import os\n",
    "import pandas as pd\n",
    "import time, datetime"
   ]
  },
  {
   "cell_type": "markdown",
   "metadata": {},
   "source": [
    "# investing.comへのクローラーの設定"
   ]
  },
  {
   "cell_type": "markdown",
   "metadata": {},
   "source": [
    "## driverの設定"
   ]
  },
  {
   "cell_type": "code",
   "execution_count": 175,
   "metadata": {},
   "outputs": [
    {
     "name": "stderr",
     "output_type": "stream",
     "text": [
      "/usr/local/var/pyenv/versions/3.7.3/lib/python3.7/site-packages/ipykernel_launcher.py:13: DeprecationWarning: use options instead of chrome_options\n",
      "  del sys.path[0]\n"
     ]
    }
   ],
   "source": [
    "# headless optionの設定\n",
    "options = Options()\n",
    "\n",
    "# headlessの設定\n",
    "# options.add_argument(\"--headless\");\n",
    "\n",
    "# ファイルダウンロード先フォルダの設定\n",
    "download_dir = os.path.join(os.getcwd(), \"output/investing_com_historical_stock_price\")\n",
    "os.makedirs(download_dir, exist_ok=True) #フォルダ作成\n",
    "options.add_experimental_option(\"prefs\",{\"download.default_directory\" : download_dir})\n",
    "\n",
    "# driverの定義\n",
    "driver = webdriver.Chrome(executable_path=\"./resource_files/chromedriver\", chrome_options=options)"
   ]
  },
  {
   "cell_type": "code",
   "execution_count": 176,
   "metadata": {},
   "outputs": [],
   "source": [
    "wait = WebDriverWait(driver, 10)"
   ]
  },
  {
   "cell_type": "markdown",
   "metadata": {},
   "source": [
    "## investing.comへアクセス"
   ]
  },
  {
   "cell_type": "code",
   "execution_count": 23,
   "metadata": {},
   "outputs": [],
   "source": [
    "url = \"https://www.investing.com/\""
   ]
  },
  {
   "cell_type": "code",
   "execution_count": 24,
   "metadata": {},
   "outputs": [],
   "source": [
    "# investing.comのTopページへアクセス\n",
    "driver.get(url)"
   ]
  },
  {
   "cell_type": "markdown",
   "metadata": {},
   "source": [
    "# ログイン"
   ]
  },
  {
   "cell_type": "markdown",
   "metadata": {},
   "source": [
    "## ログイン情報の定義"
   ]
  },
  {
   "cell_type": "code",
   "execution_count": 96,
   "metadata": {},
   "outputs": [],
   "source": [
    "mail_str = \"masa.ochi.74@gmail.com\"\n",
    "pswd_str = \"1031projectB\""
   ]
  },
  {
   "cell_type": "markdown",
   "metadata": {},
   "source": [
    "## ログイン操作"
   ]
  },
  {
   "cell_type": "code",
   "execution_count": 97,
   "metadata": {},
   "outputs": [
    {
     "ename": "ElementClickInterceptedException",
     "evalue": "Message: element click intercepted: Element <a onclick=\"overlay.overlayLogin();\" href=\"javascript:void(0);\" class=\"login bold\">...</a> is not clickable at point (821, 51). Other element would receive the click: <div class=\"generalOverlay js-general-overlay displayNone\" style=\"display: block;\"></div>\n  (Session info: chrome=86.0.4240.183)\n",
     "output_type": "error",
     "traceback": [
      "\u001b[0;31m---------------------------------------------------------------------------\u001b[0m",
      "\u001b[0;31mElementClickInterceptedException\u001b[0m          Traceback (most recent call last)",
      "\u001b[0;32m<ipython-input-97-39da156c59b7>\u001b[0m in \u001b[0;36m<module>\u001b[0;34m\u001b[0m\n\u001b[1;32m      1\u001b[0m \u001b[0mlogin_btn\u001b[0m \u001b[0;34m=\u001b[0m \u001b[0mdriver\u001b[0m\u001b[0;34m.\u001b[0m\u001b[0mfind_element_by_css_selector\u001b[0m\u001b[0;34m(\u001b[0m\u001b[0;34m\"div.topBarText > a.login.bold\"\u001b[0m\u001b[0;34m)\u001b[0m\u001b[0;34m\u001b[0m\u001b[0;34m\u001b[0m\u001b[0m\n\u001b[0;32m----> 2\u001b[0;31m \u001b[0mlogin_btn\u001b[0m\u001b[0;34m.\u001b[0m\u001b[0mclick\u001b[0m\u001b[0;34m(\u001b[0m\u001b[0;34m)\u001b[0m\u001b[0;34m\u001b[0m\u001b[0;34m\u001b[0m\u001b[0m\n\u001b[0m",
      "\u001b[0;32m/usr/local/var/pyenv/versions/3.7.3/lib/python3.7/site-packages/selenium/webdriver/remote/webelement.py\u001b[0m in \u001b[0;36mclick\u001b[0;34m(self)\u001b[0m\n\u001b[1;32m     78\u001b[0m     \u001b[0;32mdef\u001b[0m \u001b[0mclick\u001b[0m\u001b[0;34m(\u001b[0m\u001b[0mself\u001b[0m\u001b[0;34m)\u001b[0m\u001b[0;34m:\u001b[0m\u001b[0;34m\u001b[0m\u001b[0;34m\u001b[0m\u001b[0m\n\u001b[1;32m     79\u001b[0m         \u001b[0;34m\"\"\"Clicks the element.\"\"\"\u001b[0m\u001b[0;34m\u001b[0m\u001b[0;34m\u001b[0m\u001b[0m\n\u001b[0;32m---> 80\u001b[0;31m         \u001b[0mself\u001b[0m\u001b[0;34m.\u001b[0m\u001b[0m_execute\u001b[0m\u001b[0;34m(\u001b[0m\u001b[0mCommand\u001b[0m\u001b[0;34m.\u001b[0m\u001b[0mCLICK_ELEMENT\u001b[0m\u001b[0;34m)\u001b[0m\u001b[0;34m\u001b[0m\u001b[0;34m\u001b[0m\u001b[0m\n\u001b[0m\u001b[1;32m     81\u001b[0m \u001b[0;34m\u001b[0m\u001b[0m\n\u001b[1;32m     82\u001b[0m     \u001b[0;32mdef\u001b[0m \u001b[0msubmit\u001b[0m\u001b[0;34m(\u001b[0m\u001b[0mself\u001b[0m\u001b[0;34m)\u001b[0m\u001b[0;34m:\u001b[0m\u001b[0;34m\u001b[0m\u001b[0;34m\u001b[0m\u001b[0m\n",
      "\u001b[0;32m/usr/local/var/pyenv/versions/3.7.3/lib/python3.7/site-packages/selenium/webdriver/remote/webelement.py\u001b[0m in \u001b[0;36m_execute\u001b[0;34m(self, command, params)\u001b[0m\n\u001b[1;32m    631\u001b[0m             \u001b[0mparams\u001b[0m \u001b[0;34m=\u001b[0m \u001b[0;34m{\u001b[0m\u001b[0;34m}\u001b[0m\u001b[0;34m\u001b[0m\u001b[0;34m\u001b[0m\u001b[0m\n\u001b[1;32m    632\u001b[0m         \u001b[0mparams\u001b[0m\u001b[0;34m[\u001b[0m\u001b[0;34m'id'\u001b[0m\u001b[0;34m]\u001b[0m \u001b[0;34m=\u001b[0m \u001b[0mself\u001b[0m\u001b[0;34m.\u001b[0m\u001b[0m_id\u001b[0m\u001b[0;34m\u001b[0m\u001b[0;34m\u001b[0m\u001b[0m\n\u001b[0;32m--> 633\u001b[0;31m         \u001b[0;32mreturn\u001b[0m \u001b[0mself\u001b[0m\u001b[0;34m.\u001b[0m\u001b[0m_parent\u001b[0m\u001b[0;34m.\u001b[0m\u001b[0mexecute\u001b[0m\u001b[0;34m(\u001b[0m\u001b[0mcommand\u001b[0m\u001b[0;34m,\u001b[0m \u001b[0mparams\u001b[0m\u001b[0;34m)\u001b[0m\u001b[0;34m\u001b[0m\u001b[0;34m\u001b[0m\u001b[0m\n\u001b[0m\u001b[1;32m    634\u001b[0m \u001b[0;34m\u001b[0m\u001b[0m\n\u001b[1;32m    635\u001b[0m     \u001b[0;32mdef\u001b[0m \u001b[0mfind_element\u001b[0m\u001b[0;34m(\u001b[0m\u001b[0mself\u001b[0m\u001b[0;34m,\u001b[0m \u001b[0mby\u001b[0m\u001b[0;34m=\u001b[0m\u001b[0mBy\u001b[0m\u001b[0;34m.\u001b[0m\u001b[0mID\u001b[0m\u001b[0;34m,\u001b[0m \u001b[0mvalue\u001b[0m\u001b[0;34m=\u001b[0m\u001b[0;32mNone\u001b[0m\u001b[0;34m)\u001b[0m\u001b[0;34m:\u001b[0m\u001b[0;34m\u001b[0m\u001b[0;34m\u001b[0m\u001b[0m\n",
      "\u001b[0;32m/usr/local/var/pyenv/versions/3.7.3/lib/python3.7/site-packages/selenium/webdriver/remote/webdriver.py\u001b[0m in \u001b[0;36mexecute\u001b[0;34m(self, driver_command, params)\u001b[0m\n\u001b[1;32m    319\u001b[0m         \u001b[0mresponse\u001b[0m \u001b[0;34m=\u001b[0m \u001b[0mself\u001b[0m\u001b[0;34m.\u001b[0m\u001b[0mcommand_executor\u001b[0m\u001b[0;34m.\u001b[0m\u001b[0mexecute\u001b[0m\u001b[0;34m(\u001b[0m\u001b[0mdriver_command\u001b[0m\u001b[0;34m,\u001b[0m \u001b[0mparams\u001b[0m\u001b[0;34m)\u001b[0m\u001b[0;34m\u001b[0m\u001b[0;34m\u001b[0m\u001b[0m\n\u001b[1;32m    320\u001b[0m         \u001b[0;32mif\u001b[0m \u001b[0mresponse\u001b[0m\u001b[0;34m:\u001b[0m\u001b[0;34m\u001b[0m\u001b[0;34m\u001b[0m\u001b[0m\n\u001b[0;32m--> 321\u001b[0;31m             \u001b[0mself\u001b[0m\u001b[0;34m.\u001b[0m\u001b[0merror_handler\u001b[0m\u001b[0;34m.\u001b[0m\u001b[0mcheck_response\u001b[0m\u001b[0;34m(\u001b[0m\u001b[0mresponse\u001b[0m\u001b[0;34m)\u001b[0m\u001b[0;34m\u001b[0m\u001b[0;34m\u001b[0m\u001b[0m\n\u001b[0m\u001b[1;32m    322\u001b[0m             response['value'] = self._unwrap_value(\n\u001b[1;32m    323\u001b[0m                 response.get('value', None))\n",
      "\u001b[0;32m/usr/local/var/pyenv/versions/3.7.3/lib/python3.7/site-packages/selenium/webdriver/remote/errorhandler.py\u001b[0m in \u001b[0;36mcheck_response\u001b[0;34m(self, response)\u001b[0m\n\u001b[1;32m    240\u001b[0m                 \u001b[0malert_text\u001b[0m \u001b[0;34m=\u001b[0m \u001b[0mvalue\u001b[0m\u001b[0;34m[\u001b[0m\u001b[0;34m'alert'\u001b[0m\u001b[0;34m]\u001b[0m\u001b[0;34m.\u001b[0m\u001b[0mget\u001b[0m\u001b[0;34m(\u001b[0m\u001b[0;34m'text'\u001b[0m\u001b[0;34m)\u001b[0m\u001b[0;34m\u001b[0m\u001b[0;34m\u001b[0m\u001b[0m\n\u001b[1;32m    241\u001b[0m             \u001b[0;32mraise\u001b[0m \u001b[0mexception_class\u001b[0m\u001b[0;34m(\u001b[0m\u001b[0mmessage\u001b[0m\u001b[0;34m,\u001b[0m \u001b[0mscreen\u001b[0m\u001b[0;34m,\u001b[0m \u001b[0mstacktrace\u001b[0m\u001b[0;34m,\u001b[0m \u001b[0malert_text\u001b[0m\u001b[0;34m)\u001b[0m\u001b[0;34m\u001b[0m\u001b[0;34m\u001b[0m\u001b[0m\n\u001b[0;32m--> 242\u001b[0;31m         \u001b[0;32mraise\u001b[0m \u001b[0mexception_class\u001b[0m\u001b[0;34m(\u001b[0m\u001b[0mmessage\u001b[0m\u001b[0;34m,\u001b[0m \u001b[0mscreen\u001b[0m\u001b[0;34m,\u001b[0m \u001b[0mstacktrace\u001b[0m\u001b[0;34m)\u001b[0m\u001b[0;34m\u001b[0m\u001b[0;34m\u001b[0m\u001b[0m\n\u001b[0m\u001b[1;32m    243\u001b[0m \u001b[0;34m\u001b[0m\u001b[0m\n\u001b[1;32m    244\u001b[0m     \u001b[0;32mdef\u001b[0m \u001b[0m_value_or_default\u001b[0m\u001b[0;34m(\u001b[0m\u001b[0mself\u001b[0m\u001b[0;34m,\u001b[0m \u001b[0mobj\u001b[0m\u001b[0;34m,\u001b[0m \u001b[0mkey\u001b[0m\u001b[0;34m,\u001b[0m \u001b[0mdefault\u001b[0m\u001b[0;34m)\u001b[0m\u001b[0;34m:\u001b[0m\u001b[0;34m\u001b[0m\u001b[0;34m\u001b[0m\u001b[0m\n",
      "\u001b[0;31mElementClickInterceptedException\u001b[0m: Message: element click intercepted: Element <a onclick=\"overlay.overlayLogin();\" href=\"javascript:void(0);\" class=\"login bold\">...</a> is not clickable at point (821, 51). Other element would receive the click: <div class=\"generalOverlay js-general-overlay displayNone\" style=\"display: block;\"></div>\n  (Session info: chrome=86.0.4240.183)\n"
     ]
    }
   ],
   "source": [
    "login_btn = driver.find_element_by_css_selector(\"div.topBarText > a.login.bold\")\n",
    "login_btn.click()"
   ]
  },
  {
   "cell_type": "code",
   "execution_count": 98,
   "metadata": {},
   "outputs": [],
   "source": [
    "login_form = driver.find_element_by_css_selector(\"form#loginPopupform\")\n",
    "# メールアドレスの入力\n",
    "form_mail = login_form.find_element_by_css_selector(\"input#loginFormUser_email\")\n",
    "form_mail.send_keys(mail_str)\n",
    "\n",
    "# パスワードの入力\n",
    "form_pswd = login_form.find_element_by_css_selector(\"input#loginForm_password\")\n",
    "form_pswd.send_keys(pswd_str)\n",
    "\n",
    "# エンター押下\n",
    "form_pswd.send_keys(Keys.RETURN)"
   ]
  },
  {
   "cell_type": "markdown",
   "metadata": {},
   "source": [
    "# 銘柄のhistoryデータ取得"
   ]
  },
  {
   "cell_type": "markdown",
   "metadata": {},
   "source": [
    "## S&P 500 銘柄のURLリスト取得"
   ]
  },
  {
   "cell_type": "code",
   "execution_count": 106,
   "metadata": {},
   "outputs": [],
   "source": [
    "driver.get(\"https://www.investing.com/equities/united-states\")"
   ]
  },
  {
   "cell_type": "code",
   "execution_count": 109,
   "metadata": {},
   "outputs": [],
   "source": [
    "wait.until(EC.element_to_be_clickable((By.CLASS_NAME, 'selectBox')))\n",
    "pull_down = Select(driver.find_element_by_css_selector(\".selectBox\"))\n",
    "pull_down.select_by_index(4)\n",
    "driver.implicitly_wait(30)"
   ]
  },
  {
   "cell_type": "code",
   "execution_count": 110,
   "metadata": {},
   "outputs": [],
   "source": [
    "stock_url_lst = []\n",
    "for el in driver.find_elements_by_css_selector(\"table.genTbl > tbody > tr > td > a\"):\n",
    "    stock_url_lst.append(el.get_attribute(\"href\"))"
   ]
  },
  {
   "cell_type": "code",
   "execution_count": 3,
   "metadata": {},
   "outputs": [
    {
     "data": {
      "text/plain": [
       "581"
      ]
     },
     "execution_count": 3,
     "metadata": {},
     "output_type": "execute_result"
    }
   ],
   "source": [
    "len(stock_url_lst)"
   ]
  },
  {
   "cell_type": "code",
   "execution_count": 112,
   "metadata": {},
   "outputs": [],
   "source": [
    "with open(\"./tmp/stock_price_history_url_lst.pkl\", \"wb\") as f:\n",
    "    pickle.dump(stock_url_lst, f)"
   ]
  },
  {
   "cell_type": "code",
   "execution_count": 2,
   "metadata": {},
   "outputs": [],
   "source": [
    "with open(\"./tmp/stock_price_history_url_lst.pkl\", \"rb\") as f:\n",
    "    stock_url_lst = pickle.load(f)"
   ]
  },
  {
   "cell_type": "markdown",
   "metadata": {},
   "source": [
    "## ヒストリーデータの取得"
   ]
  },
  {
   "cell_type": "markdown",
   "metadata": {},
   "source": [
    "### ヒストリーデータ参照画面へ遷移"
   ]
  },
  {
   "cell_type": "code",
   "execution_count": 113,
   "metadata": {},
   "outputs": [],
   "source": [
    "driver.get(stock_url_lst[0])"
   ]
  },
  {
   "cell_type": "code",
   "execution_count": null,
   "metadata": {},
   "outputs": [],
   "source": []
  },
  {
   "cell_type": "markdown",
   "metadata": {},
   "source": [
    "#### 銘柄Symbolの取得"
   ]
  },
  {
   "cell_type": "code",
   "execution_count": 114,
   "metadata": {},
   "outputs": [
    {
     "data": {
      "text/plain": [
       "<selenium.webdriver.remote.webelement.WebElement (session=\"4f49e9348c77bcddf0d8700336c560b4\", element=\"7a743ff4-fc7d-4eae-b3dc-131958c5b01a\")>"
      ]
     },
     "execution_count": 114,
     "metadata": {},
     "output_type": "execute_result"
    }
   ],
   "source": [
    "wait.until(EC.element_to_be_clickable((By.CLASS_NAME, 'newBigSubTabs')))"
   ]
  },
  {
   "cell_type": "code",
   "execution_count": 115,
   "metadata": {},
   "outputs": [],
   "source": [
    "symbol_name = driver.find_element_by_css_selector(\".float_lang_base_1.inlineblock\").text.split(\" \")[0]"
   ]
  },
  {
   "cell_type": "code",
   "execution_count": 116,
   "metadata": {},
   "outputs": [],
   "source": [
    "historical_data_url = driver.find_element_by_css_selector(\".arial_12.newBigSubTabs > li:nth-child(3) > a\").get_attribute(\"href\")\n",
    "driver.get(historical_data_url)"
   ]
  },
  {
   "cell_type": "markdown",
   "metadata": {},
   "source": [
    "### 期間を指定"
   ]
  },
  {
   "cell_type": "code",
   "execution_count": null,
   "metadata": {},
   "outputs": [],
   "source": []
  },
  {
   "cell_type": "code",
   "execution_count": 117,
   "metadata": {},
   "outputs": [],
   "source": [
    "calender_btn = driver.find_element_by_css_selector(\"div.float_lang_base_1#widget\")\n",
    "calender_btn.click()\n",
    "\n",
    "driver.implicitly_wait(10)\n",
    "start_date_input = driver.find_element_by_css_selector(\"input.newInput#startDate\")\n",
    "start_date_input.clear()\n",
    "start_date_input.send_keys(\"01/01/2018\")\n",
    "\n",
    "end_date_input = driver.find_element_by_css_selector(\"input.newInput#endDate\")\n",
    "end_date_input.clear()\n",
    "end_date_input.send_keys(\"09/30/2020\")\n",
    "\n",
    "apply_btn = driver.find_element_by_css_selector(\".newBtn.Arrow.LightGray.float_lang_base_2\")\n",
    "apply_btn.click()"
   ]
  },
  {
   "cell_type": "markdown",
   "metadata": {},
   "source": [
    "### ファイルダウンロード"
   ]
  },
  {
   "cell_type": "code",
   "execution_count": 118,
   "metadata": {},
   "outputs": [],
   "source": [
    "download_btn = driver.find_element_by_css_selector(\".newBtn.LightGray.downloadBlueIcon.js-download-data\")\n",
    "download_btn.click()"
   ]
  },
  {
   "cell_type": "markdown",
   "metadata": {},
   "source": [
    "# ファイルダウンロードのための関数作成"
   ]
  },
  {
   "cell_type": "code",
   "execution_count": 2,
   "metadata": {},
   "outputs": [],
   "source": [
    "def login_investing_com():\n",
    "    url = \"https://www.investing.com/\"\n",
    "    driver.get(url)\n",
    "    \n",
    "    mail_str = \"masa.ochi.74@gmail.com\"\n",
    "    pswd_str = \"1031projectB\"\n",
    "    \n",
    "    login_btn = driver.find_element_by_css_selector(\"div.topBarText > a.login.bold\")\n",
    "    login_btn.click()\n",
    "    login_form = driver.find_element_by_css_selector(\"form#loginPopupform\")\n",
    "    \n",
    "    # メールアドレスの入力\n",
    "    form_mail = login_form.find_element_by_css_selector(\"input#loginFormUser_email\")\n",
    "    form_mail.send_keys(mail_str)\n",
    "\n",
    "    # パスワードの入力\n",
    "    form_pswd = login_form.find_element_by_css_selector(\"input#loginForm_password\")\n",
    "    form_pswd.send_keys(pswd_str)\n",
    "\n",
    "    # エンター押下\n",
    "    form_pswd.send_keys(Keys.RETURN)"
   ]
  },
  {
   "cell_type": "code",
   "execution_count": 11,
   "metadata": {},
   "outputs": [],
   "source": [
    "# 詳細TOPページのURLを引数にとる関数\n",
    "def get_stock_price_history(url):\n",
    "    driver.get(url)\n",
    "    \n",
    "    driver.implicitly_wait(30)\n",
    "    symbol_name = driver.find_element_by_css_selector(\".float_lang_base_1.inlineblock\").text.split(\" \")[0]\n",
    "    driver.find_element_by_css_selector(\".arial_14.bold.newBigTabs > li:nth-child(1)\").click()\n",
    "    historical_data_url = driver.find_element_by_css_selector(\".arial_12.newBigSubTabs > li:nth-child(3) > a\").get_attribute(\"href\")\n",
    "    driver.get(historical_data_url)\n",
    "    \n",
    "    calender_btn = driver.find_element_by_css_selector(\"div.float_lang_base_1#widget\")\n",
    "    calender_btn.click()\n",
    "\n",
    "    start_date_input = driver.find_element_by_css_selector(\"input.newInput#startDate\")\n",
    "    start_date_input.clear()\n",
    "    start_date_input.send_keys(\"01/01/2018\")\n",
    "\n",
    "    end_date_input = driver.find_element_by_css_selector(\"input.newInput#endDate\")\n",
    "    end_date_input.clear()\n",
    "    end_date_input.send_keys(\"09/30/2020\")\n",
    "\n",
    "    apply_btn = driver.find_element_by_css_selector(\".newBtn.Arrow.LightGray.float_lang_base_2\")\n",
    "    apply_btn.click()\n",
    "    \n",
    "    time.sleep(5)\n",
    "    download_btn = driver.find_element_by_css_selector(\".newBtn.LightGray.downloadBlueIcon.js-download-data\")\n",
    "    download_btn.click()\n",
    "    \n",
    "    print(\"{0}: {1} is downloaded...!\".format(datetime.datetime.now(), symbol_name))"
   ]
  },
  {
   "cell_type": "code",
   "execution_count": 21,
   "metadata": {},
   "outputs": [
    {
     "name": "stderr",
     "output_type": "stream",
     "text": [
      "/usr/local/var/pyenv/versions/3.7.3/lib/python3.7/site-packages/ipykernel_launcher.py:13: DeprecationWarning: use options instead of chrome_options\n",
      "  del sys.path[0]\n"
     ]
    },
    {
     "name": "stdout",
     "output_type": "stream",
     "text": [
      "2020-11-05 17:53:12.561152: QCOM is downloaded...!\n"
     ]
    }
   ],
   "source": [
    "# headless optionの設定\n",
    "options = Options()\n",
    "\n",
    "# headlessの設定\n",
    "# options.add_argument(\"--headless\");\n",
    "\n",
    "# ファイルダウンロード先フォルダの設定\n",
    "download_dir = os.path.join(os.getcwd(), \"output/investing_com_historical_stock_price\")\n",
    "os.makedirs(download_dir, exist_ok=True) #フォルダ作成\n",
    "options.add_experimental_option(\"prefs\",{\"download.default_directory\" : download_dir})\n",
    "\n",
    "# driverの定義\n",
    "driver = webdriver.Chrome(executable_path=\"./resource_files/chromedriver\", chrome_options=options)\n",
    "\n",
    "login_investing_com()\n",
    "\n",
    "get_stock_price_history(stock_url_lst[495])"
   ]
  },
  {
   "cell_type": "code",
   "execution_count": 7,
   "metadata": {},
   "outputs": [],
   "source": [
    "# tmp_df = pd.read_table(\n",
    "#     os.path.join(\"./output/investing_com_historical_stock_price\", \n",
    "#                  os.listdir(\"./output/investing_com_historical_stock_price\")[1]), sep=\",\", header=0)"
   ]
  },
  {
   "cell_type": "code",
   "execution_count": 13,
   "metadata": {},
   "outputs": [
    {
     "data": {
      "text/plain": [
       "495"
      ]
     },
     "execution_count": 13,
     "metadata": {},
     "output_type": "execute_result"
    }
   ],
   "source": [
    "stock_url_lst.index(\"https://www.investing.com/equities/qualcomm-inc-earnings\")"
   ]
  },
  {
   "cell_type": "code",
   "execution_count": 27,
   "metadata": {},
   "outputs": [
    {
     "data": {
      "text/plain": [
       "['https://www.investing.com/equities/apple-computer-inc',\n",
       " 'https://www.investing.com/equities/general-electric',\n",
       " 'https://www.investing.com/equities/bank-of-america',\n",
       " 'https://www.investing.com/equities/adv-micro-device',\n",
       " 'https://www.investing.com/equities/ford-motor-co',\n",
       " 'https://www.investing.com/equities/american-airlines-group',\n",
       " 'https://www.investing.com/equities/wells-fargo',\n",
       " 'https://www.investing.com/equities/facebook-inc',\n",
       " 'https://www.investing.com/equities/twitter-inc',\n",
       " 'https://www.investing.com/equities/at-t',\n",
       " 'https://www.investing.com/equities/microsoft-corp',\n",
       " 'https://www.investing.com/equities/marathon-oil',\n",
       " 'https://www.investing.com/equities/exxon-mobil',\n",
       " 'https://www.investing.com/equities/pfizer',\n",
       " 'https://www.investing.com/equities/abbvie-inc',\n",
       " 'https://www.investing.com/equities/citigroup',\n",
       " 'https://www.investing.com/equities/intel-corp',\n",
       " 'https://www.investing.com/equities/carnival-corp-exch',\n",
       " 'https://www.investing.com/equities/bristol-myer-squiib',\n",
       " 'https://www.investing.com/equities/macys',\n",
       " 'https://www.investing.com/equities/hewlett-packard-enterprise-co',\n",
       " 'https://www.investing.com/equities/cisco-sys-inc',\n",
       " 'https://www.investing.com/equities/occidental-petro',\n",
       " 'https://www.investing.com/equities/jp-morgan-chase',\n",
       " 'https://www.investing.com/equities/freeport-mcm',\n",
       " 'https://www.investing.com/equities/united-continenta',\n",
       " 'https://www.investing.com/equities/morgan-stanley',\n",
       " 'https://www.investing.com/equities/verizon-communications',\n",
       " 'https://www.investing.com/equities/comcast-corp-new',\n",
       " 'https://www.investing.com/equities/halliburton-co',\n",
       " 'https://www.investing.com/equities/paypal-holdings-inc',\n",
       " 'https://www.investing.com/equities/huntgtn-bkshr',\n",
       " 'https://www.investing.com/equities/norwegian-cruise-line-holdings-ltd',\n",
       " 'https://www.investing.com/equities/charles-schwab',\n",
       " 'https://www.investing.com/equities/apache-corp',\n",
       " 'https://www.investing.com/equities/merck---co',\n",
       " 'https://www.investing.com/equities/biogen-idec-inc',\n",
       " 'https://www.investing.com/equities/delta-air-lines-new',\n",
       " 'https://www.investing.com/equities/cvs-corp',\n",
       " 'https://www.investing.com/equities/ebay-inc',\n",
       " 'https://www.investing.com/equities/micron-tech',\n",
       " 'https://www.investing.com/equities/kinder-morgan',\n",
       " 'https://www.investing.com/equities/devon-energy',\n",
       " 'https://www.investing.com/equities/schlumberger-ltd',\n",
       " 'https://www.investing.com/equities/regions-fin',\n",
       " 'https://www.investing.com/equities/boeing-co',\n",
       " 'https://www.investing.com/equities/nvidia-corp',\n",
       " 'https://www.investing.com/equities/nextera-energy-inc',\n",
       " 'https://www.investing.com/equities/united-health-group',\n",
       " 'https://www.investing.com/equities/nordstrom-inc',\n",
       " 'https://www.investing.com/equities/gen-motors',\n",
       " 'https://www.investing.com/equities/altria-group',\n",
       " 'https://www.investing.com/equities/centene',\n",
       " 'https://www.investing.com/equities/mosaic-company',\n",
       " 'https://www.investing.com/equities/gilead-sciences-inc',\n",
       " 'https://www.investing.com/equities/chevron',\n",
       " 'https://www.investing.com/equities/kohls-corp',\n",
       " 'https://www.investing.com/equities/caterpillar',\n",
       " 'https://www.investing.com/equities/eli-lilly-and-co',\n",
       " 'https://www.investing.com/equities/keycorp-new',\n",
       " 'https://www.investing.com/equities/starbucks-corp',\n",
       " 'https://www.investing.com/equities/conoco-phillips',\n",
       " 'https://www.investing.com/equities/xilinx-inc',\n",
       " 'https://www.investing.com/equities/oracle-corp',\n",
       " 'https://www.investing.com/equities/fox-corp',\n",
       " 'https://www.investing.com/equities/centurylink',\n",
       " 'https://www.investing.com/equities/amazon-com-inc',\n",
       " 'https://www.investing.com/equities/visa-inc',\n",
       " 'https://www.investing.com/equities/coca-cola-co',\n",
       " 'https://www.investing.com/equities/boston-scien-cp',\n",
       " 'https://www.investing.com/equities/newmont-mining',\n",
       " 'https://www.investing.com/equities/mgm-mirage',\n",
       " 'https://www.investing.com/equities/applied-matls-inc',\n",
       " 'https://www.investing.com/equities/activision-inc',\n",
       " 'https://www.investing.com/equities/johnson-johnson',\n",
       " 'https://www.investing.com/equities/cigna-corp',\n",
       " 'https://www.investing.com/equities/sth-west-airlines',\n",
       " 'https://www.investing.com/equities/johnson-controls',\n",
       " 'https://www.investing.com/equities/abbott-laboratories',\n",
       " 'https://www.investing.com/equities/viacom-cl-b',\n",
       " 'https://www.investing.com/equities/qualcomm-inc',\n",
       " 'https://www.investing.com/equities/macerich-co',\n",
       " 'https://www.investing.com/equities/lennar',\n",
       " 'https://www.investing.com/equities/salesforce-com',\n",
       " 'https://www.investing.com/equities/united-tech',\n",
       " 'https://www.investing.com/equities/walgreen-co',\n",
       " 'https://www.investing.com/equities/marathon-petroleum-corp.',\n",
       " 'https://www.investing.com/equities/kroger-co',\n",
       " 'https://www.investing.com/equities/citizens-financial-group-inc',\n",
       " 'https://www.investing.com/equities/disney',\n",
       " 'https://www.investing.com/equities/netflix,-inc.',\n",
       " 'https://www.investing.com/equities/us-bancorp',\n",
       " 'https://www.investing.com/equities/under-armour',\n",
       " 'https://www.investing.com/equities/metlife-inc',\n",
       " 'https://www.investing.com/equities/invesco-ltd',\n",
       " 'https://www.investing.com/equities/oneok',\n",
       " 'https://www.investing.com/equities/csx-corp',\n",
       " 'https://www.investing.com/equities/gap.inc',\n",
       " 'https://www.investing.com/equities/aes-corp',\n",
       " 'https://www.investing.com/equities/medtronic',\n",
       " 'https://www.investing.com/equities/coty-inc',\n",
       " 'https://www.investing.com/equities/peoples-united-financial',\n",
       " 'https://www.investing.com/equities/ibm',\n",
       " 'https://www.investing.com/equities/fifth-third-bk',\n",
       " 'https://www.investing.com/equities/ntl-oilwell-varc',\n",
       " 'https://www.investing.com/equities/bk-of-ny',\n",
       " 'https://www.investing.com/equities/valero-energy',\n",
       " 'https://www.investing.com/equities/baxter-intl',\n",
       " 'https://www.investing.com/equities/wal-mart-stores',\n",
       " 'https://www.investing.com/equities/mondelez-international-inc',\n",
       " 'https://www.investing.com/equities/lowes-companies',\n",
       " 'https://www.investing.com/equities/american-intl-group',\n",
       " 'https://www.investing.com/equities/zions-bancorp',\n",
       " 'https://www.investing.com/equities/wellpoint-inc',\n",
       " 'https://www.investing.com/equities/molson-coors',\n",
       " 'https://www.investing.com/equities/hewlett-pack',\n",
       " 'https://www.investing.com/equities/berkshire-hathaway',\n",
       " 'https://www.investing.com/equities/procter-gamble',\n",
       " 'https://www.investing.com/equities/synchrony-fin',\n",
       " 'https://www.investing.com/equities/exelon-corp',\n",
       " 'https://www.investing.com/equities/fmc-technologies-inc',\n",
       " 'https://www.investing.com/equities/texas-instru',\n",
       " 'https://www.investing.com/equities/mastercard-cl-a',\n",
       " 'https://www.investing.com/equities/kraft-foods-inc',\n",
       " 'https://www.investing.com/equities/metropcs-communications',\n",
       " 'https://www.investing.com/equities/union-pacific',\n",
       " 'https://www.investing.com/equities/baker-hughes',\n",
       " 'https://www.investing.com/equities/discovery-holding-co',\n",
       " 'https://www.investing.com/equities/cabot-oil---gas',\n",
       " 'https://www.investing.com/equities/colgate-palmo',\n",
       " 'https://www.investing.com/equities/american-express',\n",
       " 'https://www.investing.com/equities/goldman-sachs-group',\n",
       " 'https://www.investing.com/equities/nike',\n",
       " 'https://www.investing.com/equities/pulte-homes-inc',\n",
       " 'https://www.investing.com/equities/coach',\n",
       " 'https://www.investing.com/equities/tjx-co-inc',\n",
       " 'https://www.investing.com/equities/fiserv-inc',\n",
       " 'https://www.investing.com/equities/google-inc',\n",
       " 'https://www.investing.com/equities/symantec-corp',\n",
       " 'https://www.investing.com/equities/d.r.-horton-inc',\n",
       " 'https://www.investing.com/equities/comerica-inc',\n",
       " 'https://www.investing.com/equities/adobe-sys-inc',\n",
       " 'https://www.investing.com/equities/williams-cos',\n",
       " 'https://www.investing.com/equities/first-energy',\n",
       " 'https://www.investing.com/equities/aflac-inc',\n",
       " 'https://www.investing.com/equities/mylan-inc',\n",
       " 'https://www.investing.com/equities/corteva',\n",
       " 'https://www.investing.com/equities/eog-resources',\n",
       " 'https://www.investing.com/equities/emerson-elec',\n",
       " 'https://www.investing.com/equities/expedia',\n",
       " 'https://www.investing.com/equities/du-pont',\n",
       " 'https://www.investing.com/equities/western-digital',\n",
       " 'https://www.investing.com/equities/interpublic-grp',\n",
       " 'https://www.investing.com/equities/under-armour-c',\n",
       " 'https://www.investing.com/equities/fastenal-co',\n",
       " 'https://www.investing.com/equities/bb-t-corp',\n",
       " 'https://www.investing.com/equities/google-inc-c',\n",
       " 'https://www.investing.com/equities/vulcan-matrls',\n",
       " 'https://www.investing.com/equities/amgen-inc',\n",
       " 'https://www.investing.com/equities/hcp-inc',\n",
       " 'https://www.investing.com/equities/vertex-pharm',\n",
       " 'https://www.investing.com/equities/autodesk-inc',\n",
       " 'https://www.investing.com/equities/omnicom-gp-inc',\n",
       " 'https://www.investing.com/equities/wynn-resorts-ltd',\n",
       " 'https://www.investing.com/equities/simon-prop-grp',\n",
       " 'https://www.investing.com/equities/philip-morris-intl',\n",
       " 'https://www.investing.com/equities/hanesbrands',\n",
       " 'https://www.investing.com/equities/capital-one',\n",
       " 'https://www.investing.com/equities/western-union',\n",
       " 'https://www.investing.com/equities/target',\n",
       " 'https://www.investing.com/equities/michael-kors-holdings',\n",
       " 'https://www.investing.com/equities/unum-group',\n",
       " 'https://www.investing.com/equities/honeywell-intl',\n",
       " 'https://www.investing.com/equities/aon-corp',\n",
       " 'https://www.investing.com/equities/discover-financl',\n",
       " 'https://www.investing.com/equities/phillips-66-ltd',\n",
       " 'https://www.investing.com/equities/dow-chemical',\n",
       " 'https://www.investing.com/equities/corning-inc',\n",
       " 'https://www.investing.com/equities/united-rentals',\n",
       " 'https://www.investing.com/equities/edward-lifescience',\n",
       " 'https://www.investing.com/equities/marriott-intl',\n",
       " 'https://www.investing.com/equities/pepsico',\n",
       " 'https://www.investing.com/equities/cme-group-inc.',\n",
       " 'https://www.investing.com/equities/ingersoll-rand',\n",
       " 'https://www.investing.com/equities/franklin-res',\n",
       " 'https://www.investing.com/equities/royal-caribbean',\n",
       " 'https://www.investing.com/equities/3m-co',\n",
       " 'https://www.investing.com/equities/hollyfrontier-co',\n",
       " 'https://www.investing.com/equities/home-depot',\n",
       " 'https://www.investing.com/equities/weyerhaeuser',\n",
       " 'https://www.investing.com/equities/fox-corp-b',\n",
       " 'https://www.investing.com/equities/amcor-plc',\n",
       " 'https://www.investing.com/equities/hca-holdings-inc',\n",
       " 'https://www.investing.com/equities/united-parcel',\n",
       " 'https://www.investing.com/equities/westinghouse-air-brake-tech',\n",
       " 'https://www.investing.com/equities/centerpoint',\n",
       " 'https://www.investing.com/equities/intercontintlex',\n",
       " 'https://www.investing.com/equities/nielsen-holdings-nv',\n",
       " 'https://www.investing.com/equities/kimco-realty',\n",
       " 'https://www.investing.com/equities/fedex-corp',\n",
       " 'https://www.investing.com/equities/martin-marietta-materials-inc',\n",
       " 'https://www.investing.com/equities/limited-brands',\n",
       " 'https://www.investing.com/equities/costco-whsl-corp-new',\n",
       " 'https://www.investing.com/equities/prudential-fin',\n",
       " 'https://www.investing.com/equities/lockheed-martin',\n",
       " 'https://www.investing.com/equities/hilton-worldwide',\n",
       " 'https://www.investing.com/equities/mcdonalds',\n",
       " 'https://www.investing.com/equities/diamondback-energy-inc',\n",
       " 'https://www.investing.com/equities/zoetis-inc',\n",
       " 'https://www.investing.com/equities/borgwarner',\n",
       " 'https://www.investing.com/equities/ppl-corp',\n",
       " 'https://www.investing.com/equities/harris-corporation',\n",
       " 'https://www.investing.com/equities/linde-plc?cid=942017',\n",
       " 'https://www.investing.com/equities/eaton',\n",
       " 'https://www.investing.com/equities/cardinal-health',\n",
       " 'https://www.investing.com/equities/perrigo-co',\n",
       " 'https://www.investing.com/equities/seagate-technology',\n",
       " 'https://www.investing.com/equities/maxim-integrated',\n",
       " 'https://www.investing.com/equities/fidelity-natl-in',\n",
       " 'https://www.investing.com/equities/incyte-corp',\n",
       " 'https://www.investing.com/equities/conagra-foods',\n",
       " 'https://www.investing.com/equities/charter-communications',\n",
       " 'https://www.investing.com/equities/southern-co',\n",
       " 'https://www.investing.com/equities/sysco-corp',\n",
       " 'https://www.investing.com/equities/ni-source-inc',\n",
       " 'https://www.investing.com/equities/paychex-inc',\n",
       " 'https://www.investing.com/equities/humana-inc',\n",
       " 'https://www.investing.com/equities/digital-realty-trust-inc',\n",
       " 'https://www.investing.com/equities/skyworks-solutions-inc',\n",
       " 'https://www.investing.com/equities/lincoln-natl',\n",
       " 'https://www.investing.com/equities/tyson-foods',\n",
       " 'https://www.investing.com/equities/northrop-grumman',\n",
       " 'https://www.investing.com/equities/hartford-finl',\n",
       " 'https://www.investing.com/equities/juniper-networks-inc',\n",
       " 'https://www.investing.com/equities/global-payments',\n",
       " 'https://www.investing.com/equities/nucor',\n",
       " 'https://www.investing.com/equities/amer-tower-corp',\n",
       " 'https://www.investing.com/equities/marsh---mclennan',\n",
       " 'https://www.investing.com/equities/electronic-arts-inc',\n",
       " 'https://www.investing.com/equities/alexion-pharmaceuticals,-inc.',\n",
       " 'https://www.investing.com/equities/network-appliance-inc',\n",
       " 'https://www.investing.com/equities/analog-devices',\n",
       " 'https://www.investing.com/equities/alaska-air',\n",
       " 'https://www.investing.com/equities/pnc-fin-serv',\n",
       " 'https://www.investing.com/equities/monster-beverage',\n",
       " 'https://www.investing.com/equities/sl-green-realty',\n",
       " 'https://www.investing.com/equities/dominion-res',\n",
       " 'https://www.investing.com/equities/vornado-realty',\n",
       " 'https://www.investing.com/equities/westrock-co',\n",
       " 'https://www.investing.com/equities/auto-data-process',\n",
       " 'https://www.investing.com/equities/norfolk-southern',\n",
       " 'https://www.investing.com/equities/duke-energy',\n",
       " 'https://www.investing.com/equities/health-care-reit',\n",
       " 'https://www.investing.com/equities/hess-corp',\n",
       " 'https://www.investing.com/equities/markit-ltd',\n",
       " 'https://www.investing.com/equities/archer-daniels-mid',\n",
       " 'https://www.investing.com/equities/discovery-communications-(c)',\n",
       " 'https://www.investing.com/equities/xerox-corp',\n",
       " 'https://www.investing.com/equities/thermo-fisher-sc',\n",
       " 'https://www.investing.com/equities/delphi-automotive',\n",
       " 'https://www.investing.com/equities/amerisourcebergn',\n",
       " 'https://www.investing.com/equities/the-progressive',\n",
       " 'https://www.investing.com/equities/nrg-energy-inc',\n",
       " 'https://www.investing.com/equities/h---r-block-inc',\n",
       " 'https://www.investing.com/equities/akamai-technologies-inc',\n",
       " 'https://www.investing.com/equities/danaher-corp',\n",
       " 'https://www.investing.com/equities/cadence-design-system-inc',\n",
       " 'https://www.investing.com/equities/avago-technologies',\n",
       " 'https://www.investing.com/equities/udr',\n",
       " 'https://www.investing.com/equities/harley-davidson',\n",
       " 'https://www.investing.com/equities/first-republic-bank',\n",
       " 'https://www.investing.com/equities/cognizant-technology-solutio',\n",
       " 'https://www.investing.com/equities/newell-rubber',\n",
       " 'https://www.investing.com/equities/concho-resources-inc',\n",
       " 'https://www.investing.com/equities/apt-inv-manage',\n",
       " 'https://www.investing.com/equities/eq-resident',\n",
       " 'https://www.investing.com/equities/the-travelers-co',\n",
       " 'https://www.investing.com/equities/ross-stores-inc',\n",
       " 'https://www.investing.com/equities/dollar-general-corp',\n",
       " 'https://www.investing.com/equities/kimberly-clark',\n",
       " 'https://www.investing.com/equities/illumina,-inc.',\n",
       " 'https://www.investing.com/equities/cerner-corporatio',\n",
       " 'https://www.investing.com/equities/dardem-rest',\n",
       " 'https://www.investing.com/equities/general-dynam',\n",
       " 'https://www.investing.com/equities/tiffany---co',\n",
       " 'https://www.investing.com/equities/lam-research-corp',\n",
       " 'https://www.investing.com/equities/citrix-sys-inc',\n",
       " 'https://www.investing.com/equities/mckesson-corp',\n",
       " 'https://www.investing.com/equities/microchip-technology-inc',\n",
       " 'https://www.investing.com/equities/general-mills',\n",
       " 'https://www.investing.com/equities/quanta-services',\n",
       " 'https://www.investing.com/equities/ppg-industries',\n",
       " 'https://www.investing.com/equities/qorvo-inc',\n",
       " 'https://www.investing.com/equities/chubb-corp',\n",
       " 'https://www.investing.com/equities/accenture-ltd',\n",
       " 'https://www.investing.com/equities/m-t-bank-corp',\n",
       " 'https://www.investing.com/equities/american-electric',\n",
       " 'https://www.investing.com/equities/xcel-energy',\n",
       " 'https://www.investing.com/equities/masco-corp',\n",
       " 'https://www.investing.com/equities/ventas-inc',\n",
       " 'https://www.investing.com/equities/deere---co',\n",
       " 'https://www.investing.com/equities/intuit',\n",
       " 'https://www.investing.com/equities/republic-services-inc',\n",
       " 'https://www.investing.com/equities/cf-industries',\n",
       " 'https://www.investing.com/equities/hologic-inc',\n",
       " 'https://www.investing.com/equities/best-buy',\n",
       " 'https://www.investing.com/equities/principal-fin',\n",
       " 'https://www.investing.com/equities/waste-managemnt',\n",
       " 'https://www.investing.com/equities/albemarle',\n",
       " 'https://www.investing.com/equities/dish-network',\n",
       " 'https://www.investing.com/equities/allstate-corporation',\n",
       " 'https://www.investing.com/equities/hormel-foods-corp',\n",
       " 'https://www.investing.com/equities/helmerich---payne',\n",
       " 'https://www.investing.com/equities/state-street',\n",
       " 'https://www.investing.com/equities/intl-paper-co',\n",
       " 'https://www.investing.com/equities/kla-tencor-corp',\n",
       " 'https://www.investing.com/equities/foot-locker',\n",
       " 'https://www.investing.com/equities/amphenol-corp',\n",
       " 'https://www.investing.com/equities/paccar-inc',\n",
       " 'https://www.investing.com/equities/realty-income',\n",
       " 'https://www.investing.com/equities/fortive-corp',\n",
       " 'https://www.investing.com/equities/stanley-works',\n",
       " 'https://www.investing.com/equities/vf-corp',\n",
       " 'https://www.investing.com/equities/ball-corp',\n",
       " 'https://www.investing.com/equities/jacobs-engineer',\n",
       " 'https://www.investing.com/equities/expeditors-intl-wash-inc',\n",
       " 'https://www.investing.com/equities/clorox-co',\n",
       " 'https://www.investing.com/equities/pioneer-natural-resources',\n",
       " 'https://www.investing.com/equities/dollar-tree-inc',\n",
       " 'https://www.investing.com/equities/prologis',\n",
       " 'https://www.investing.com/equities/iron-mountain-inc',\n",
       " 'https://www.investing.com/equities/regeneron-phar.',\n",
       " 'https://www.investing.com/equities/xylem',\n",
       " 'https://www.investing.com/equities/t-rowe-price-gp',\n",
       " 'https://www.investing.com/equities/cummins-inc',\n",
       " 'https://www.investing.com/equities/henry-schein',\n",
       " 'https://www.investing.com/equities/crown-castle-int',\n",
       " 'https://www.investing.com/equities/quintis-trl-hlgs',\n",
       " 'https://www.investing.com/equities/arista-networks',\n",
       " 'https://www.investing.com/equities/lkq',\n",
       " 'https://www.investing.com/equities/pinnacle-west',\n",
       " 'https://www.investing.com/equities/c-h-robinson-worldwide-inc',\n",
       " 'https://www.investing.com/equities/alliant-energy',\n",
       " 'https://www.investing.com/equities/fortinet',\n",
       " 'https://www.investing.com/equities/kellogg-co.',\n",
       " 'https://www.investing.com/equities/intl-flav---frag',\n",
       " 'https://www.investing.com/equities/take-two-interactive',\n",
       " 'https://www.investing.com/equities/polo-ralph-laur',\n",
       " 'https://www.investing.com/equities/agilent-tech',\n",
       " 'https://www.investing.com/equities/align-technology',\n",
       " 'https://www.investing.com/equities/mcgraw-hill',\n",
       " 'https://www.investing.com/equities/yum!-brands-inc',\n",
       " 'https://www.investing.com/equities/leucadia-natl',\n",
       " 'https://www.investing.com/equities/universal-health-services',\n",
       " 'https://www.investing.com/equities/alliance-data-systems',\n",
       " 'https://www.investing.com/equities/carmax-inc',\n",
       " 'https://www.investing.com/equities/illinois-tool-wk-r',\n",
       " 'https://www.investing.com/equities/northern-trust',\n",
       " 'https://www.investing.com/equities/nektar-therapeutics',\n",
       " 'https://www.investing.com/equities/pvh',\n",
       " 'https://www.investing.com/equities/comp-science',\n",
       " 'https://www.investing.com/equities/fortune-brands-home---security',\n",
       " 'https://www.investing.com/equities/tripadvisor',\n",
       " 'https://www.investing.com/equities/te-connectivity',\n",
       " 'https://www.investing.com/equities/edison-intl',\n",
       " 'https://www.investing.com/equities/publ-svc-enter',\n",
       " 'https://www.investing.com/equities/extra-space-storage',\n",
       " 'https://www.investing.com/equities/regency-centers-corp',\n",
       " 'https://www.investing.com/equities/davita-inc',\n",
       " 'https://www.investing.com/equities/flir-systems',\n",
       " 'https://www.investing.com/equities/tractor-supply-company',\n",
       " 'https://www.investing.com/equities/equifax-inc',\n",
       " 'https://www.investing.com/equities/parkerhannifin',\n",
       " 'https://www.investing.com/equities/lyondellbasell-industries',\n",
       " 'https://www.investing.com/equities/textron-inc',\n",
       " 'https://www.investing.com/equities/estee-lauder',\n",
       " 'https://www.investing.com/equities/quest-diag',\n",
       " 'https://www.investing.com/equities/brown-forman-b',\n",
       " 'https://www.investing.com/equities/flowserve-corp',\n",
       " 'https://www.investing.com/equities/willis-group-holdings-plc',\n",
       " 'https://www.investing.com/equities/wisconsin-energy-corp',\n",
       " 'https://www.investing.com/equities/keysight-technologies',\n",
       " 'https://www.investing.com/equities/pentair',\n",
       " 'https://www.investing.com/equities/kansas-city-southern-inc',\n",
       " 'https://www.investing.com/equities/avalonbay-comm',\n",
       " 'https://www.investing.com/equities/intuitive-surgical-inc',\n",
       " 'https://www.investing.com/equities/arconic-inc',\n",
       " 'https://www.investing.com/equities/arthur-j.-gallagher---co',\n",
       " 'https://www.investing.com/equities/perkinelmer',\n",
       " 'https://www.investing.com/equities/boston-ppty',\n",
       " 'https://www.investing.com/equities/moodys-corp',\n",
       " 'https://www.investing.com/equities/air-prods---chem',\n",
       " 'https://www.investing.com/equities/news-corp.',\n",
       " 'https://www.investing.com/equities/synopsys-inc',\n",
       " 'https://www.investing.com/equities/alexandria-real-estate-equities',\n",
       " 'https://www.investing.com/equities/idexx-laboratorie',\n",
       " 'https://www.investing.com/equities/duke-realty-corp',\n",
       " 'https://www.investing.com/equities/garmin-ltd',\n",
       " 'https://www.investing.com/equities/becton-dickinsn',\n",
       " 'https://www.investing.com/equities/verisk-analytics-inc',\n",
       " 'https://www.investing.com/equities/zimmer-hldgs',\n",
       " 'https://www.investing.com/equities/constellation-a',\n",
       " 'https://www.investing.com/equities/nasdaq-omx-group',\n",
       " 'https://www.investing.com/equities/church---dwight',\n",
       " 'https://www.investing.com/equities/stryker',\n",
       " 'https://www.investing.com/equities/rollins-inc',\n",
       " 'https://www.investing.com/equities/varian-medical',\n",
       " 'https://www.investing.com/equities/copart-inc',\n",
       " 'https://www.investing.com/equities/cbre',\n",
       " 'https://www.investing.com/equities/cocnsol-edison',\n",
       " 'https://www.investing.com/equities/northeast-utilities',\n",
       " 'https://www.investing.com/equities/advance-auto-parts',\n",
       " 'https://www.investing.com/equities/chipotle-mexican-grill-inc',\n",
       " 'https://www.investing.com/equities/hasbro-inc',\n",
       " 'https://www.investing.com/equities/ametek-inc',\n",
       " 'https://www.investing.com/equities/essex-property-trust-inc',\n",
       " 'https://www.investing.com/equities/motorola-inc',\n",
       " 'https://www.investing.com/equities/cboe-holdings-inc',\n",
       " 'https://www.investing.com/equities/cimarex-energy',\n",
       " 'https://www.investing.com/equities/dte-energy',\n",
       " 'https://www.investing.com/equities/ameriprise-fincl',\n",
       " 'https://www.investing.com/equities/ecolab-inc',\n",
       " 'https://www.investing.com/equities/blackrock,-inc.-c',\n",
       " 'https://www.investing.com/equities/campbell-soup',\n",
       " 'https://www.investing.com/equities/mohawk-industries',\n",
       " 'https://www.investing.com/equities/eastman-chem',\n",
       " 'https://www.investing.com/equities/dentsply-intl-inc-new',\n",
       " 'https://www.investing.com/equities/cms-energy-corp',\n",
       " 'https://www.investing.com/equities/rockwell-automat',\n",
       " 'https://www.investing.com/equities/robert-half-intl',\n",
       " 'https://www.investing.com/equities/westar-energy',\n",
       " 'https://www.investing.com/equities/laboratory-corp-of-amer',\n",
       " 'https://www.investing.com/equities/ansys',\n",
       " 'https://www.investing.com/equities/entergy-corp',\n",
       " 'https://www.investing.com/equities/huntington-ingalls-industries-inc',\n",
       " 'https://www.investing.com/equities/verisign-inc',\n",
       " 'https://www.investing.com/equities/msci-inc',\n",
       " 'https://www.investing.com/equities/j.b.-hunt-transpo',\n",
       " 'https://www.investing.com/equities/ulta-salon-cosmetics---fragrance',\n",
       " 'https://www.investing.com/equities/roper-industries',\n",
       " 'https://www.investing.com/equities/ameren-corp',\n",
       " 'https://www.investing.com/equities/waters-corp',\n",
       " 'https://www.investing.com/equities/genuine-parts-co',\n",
       " 'https://www.investing.com/equities/leggett---platt',\n",
       " 'https://www.investing.com/equities/cintas-corp',\n",
       " 'https://www.investing.com/equities/federal-realty-investment-trust',\n",
       " 'https://www.investing.com/equities/cincinnati-fin',\n",
       " 'https://www.investing.com/equities/f5-networks-inc',\n",
       " 'https://www.investing.com/equities/atmos-energy-corp',\n",
       " 'https://www.investing.com/equities/gartner',\n",
       " 'https://www.investing.com/equities/fmc-corp',\n",
       " 'https://www.investing.com/equities/loews-corporation',\n",
       " 'https://www.investing.com/equities/sba-communications-corp',\n",
       " 'https://www.investing.com/equities/allegion-public',\n",
       " 'https://www.investing.com/equities/dover-corp',\n",
       " 'https://www.investing.com/equities/public-stg-mld',\n",
       " 'https://www.investing.com/equities/american-water-works-inc',\n",
       " 'https://www.investing.com/equities/hershey-co',\n",
       " 'https://www.investing.com/equities/sempra-energy',\n",
       " 'https://www.investing.com/equities/sherwinwilliams',\n",
       " 'https://www.investing.com/equities/a.o-smith-corp',\n",
       " 'https://www.investing.com/equities/lamb-weston-holdings-inc',\n",
       " 'https://www.investing.com/equities/whirl-pool-corp',\n",
       " 'https://www.investing.com/equities/jm-smucker-co',\n",
       " 'https://www.investing.com/equities/sealed-air',\n",
       " 'https://www.investing.com/equities/celanese',\n",
       " 'https://www.investing.com/equities/snapon-inc',\n",
       " 'https://www.investing.com/equities/resmed-inc',\n",
       " 'https://www.investing.com/equities/fleetcor-tech',\n",
       " 'https://www.investing.com/equities/priceline.com-inc',\n",
       " 'https://www.investing.com/equities/raymond-james-financial-inc',\n",
       " 'https://www.investing.com/equities/assurant',\n",
       " 'https://www.investing.com/equities/oreilly-automotive',\n",
       " 'https://www.investing.com/equities/news-corporation',\n",
       " 'https://www.investing.com/equities/svb-financial-gro',\n",
       " 'https://www.investing.com/equities/mid-america-apartment-communities',\n",
       " 'https://www.investing.com/equities/avery-dennison',\n",
       " 'https://www.investing.com/equities/equinix,-inc.',\n",
       " 'https://www.investing.com/equities/jack-henry---asso',\n",
       " 'https://www.investing.com/equities/broadridge-financial-solutions',\n",
       " 'https://www.investing.com/equities/w-w-grainger-inc',\n",
       " 'https://www.investing.com/equities/torchmark-corp',\n",
       " 'https://www.investing.com/equities/abiomed',\n",
       " 'https://www.investing.com/equities/teleflex-inc',\n",
       " 'https://www.investing.com/equities/packaging-corp',\n",
       " 'https://www.investing.com/equities/mccormick---co',\n",
       " 'https://www.investing.com/equities/ipg-photonics-corp.',\n",
       " 'https://www.investing.com/equities/everest-re-group-ltd',\n",
       " 'https://www.investing.com/equities/transdigm-group-inc',\n",
       " 'https://www.investing.com/equities/marketaxess-holdi',\n",
       " 'https://www.investing.com/equities/affiliated-managers-group-inc',\n",
       " 'https://www.investing.com/equities/autozone-inc',\n",
       " 'https://www.investing.com/equities/mettler-toledo-international-inc',\n",
       " 'https://www.investing.com/equities/cooper-companies-inc',\n",
       " 'https://www.investing.com/equities/host-hotels---res',\n",
       " 'https://www.investing.com/equities/qualcomm-inc-earnings',\n",
       " 'https://www.investing.com/equities/mercadolibre-earnings',\n",
       " 'https://www.investing.com/equities/baidu.com-earnings',\n",
       " 'https://www.investing.com/equities/public-stg-mld-earnings',\n",
       " 'https://www.investing.com/equities/metlife-inc-earnings',\n",
       " 'https://www.investing.com/equities/verisk-analytics-inc-earnings',\n",
       " 'https://www.investing.com/equities/allstate-corporation-earnings',\n",
       " 'https://www.investing.com/equities/american-water-works-inc-earnings',\n",
       " 'https://www.investing.com/equities/ansys-earnings',\n",
       " 'https://www.investing.com/equities/hilton-worldwide-earnings',\n",
       " 'https://www.investing.com/equities/hologic-inc-earnings',\n",
       " 'https://www.investing.com/equities/extra-space-storage-earnings',\n",
       " 'https://www.investing.com/equities/qorvo-inc-earnings',\n",
       " 'https://www.investing.com/equities/dish-network-earnings',\n",
       " 'https://www.investing.com/equities/pioneer-natural-resources-earnings',\n",
       " 'https://www.investing.com/equities/expedia-earnings',\n",
       " 'https://www.investing.com/equities/biomarin-pharmaceuticals-earnings',\n",
       " 'https://www.investing.com/equities/jack-henry---asso-earnings',\n",
       " 'https://www.investing.com/equities/liberty-global-inc-earnings',\n",
       " 'https://www.investing.com/equities/liberty-global-(c)-earnings',\n",
       " 'https://www.investing.com/equities/albemarle-earnings',\n",
       " 'https://www.investing.com/equities/centurylink-earnings',\n",
       " 'https://www.investing.com/equities/host-hotels---res-earnings',\n",
       " 'https://www.investing.com/equities/lincoln-natl-earnings',\n",
       " 'https://www.investing.com/equities/perrigo-co-earnings',\n",
       " 'https://www.investing.com/equities/cf-industries-earnings',\n",
       " 'https://www.investing.com/equities/apache-corp-earnings',\n",
       " 'https://www.investing.com/equities/marathon-oil-earnings',\n",
       " 'https://www.investing.com/equities/cimarex-energy-earnings',\n",
       " 'https://www.investing.com/indices/us-30-futures',\n",
       " 'https://www.investing.com/indices/us-spx-500-futures',\n",
       " 'https://www.investing.com/indices/us-30',\n",
       " 'https://www.investing.com/indices/us-spx-500',\n",
       " 'https://www.investing.com/indices/nasdaq-composite',\n",
       " 'https://www.investing.com/indices/volatility-s-p-500',\n",
       " 'https://www.investing.com/currencies/us-dollar-index',\n",
       " 'https://www.investing.com/commodities/crude-oil',\n",
       " 'https://www.investing.com/commodities/brent-oil',\n",
       " 'https://www.investing.com/commodities/natural-gas',\n",
       " 'https://www.investing.com/commodities/gold',\n",
       " 'https://www.investing.com/commodities/silver',\n",
       " 'https://www.investing.com/commodities/copper',\n",
       " 'https://www.investing.com/commodities/us-soybeans',\n",
       " 'https://www.investing.com/etfs/spdr-s-p-500',\n",
       " 'https://www.investing.com/etfs/ishares-russell-2000-index-etf',\n",
       " 'https://www.investing.com/etfs/powershares-qqqq',\n",
       " 'https://www.investing.com/etfs/direxion-daily-jr-gld-mnrs-bull-3x',\n",
       " 'https://www.investing.com/etfs/ishares-silver-trust',\n",
       " 'https://www.investing.com/etfs/proshares-ultra-vix-short-term-fut',\n",
       " 'https://www.investing.com/etfs/proshares-trust-ultrapro-qqq',\n",
       " 'https://www.investing.com/equities/apple-computer-inc',\n",
       " 'https://www.investing.com/equities/google-inc',\n",
       " 'https://www.investing.com/equities/tesla-motors',\n",
       " 'https://www.investing.com/equities/amazon-com-inc',\n",
       " 'https://www.investing.com/equities/netflix,-inc.',\n",
       " 'https://www.investing.com/equities/facebook-inc',\n",
       " 'https://www.investing.com/equities/bank-of-america',\n",
       " 'https://www.investing.com/currencies/eur-usd',\n",
       " 'https://www.investing.com/currencies/gbp-usd',\n",
       " 'https://www.investing.com/currencies/usd-jpy',\n",
       " 'https://www.investing.com/currencies/aud-usd',\n",
       " 'https://www.investing.com/currencies/usd-cad',\n",
       " 'https://www.investing.com/currencies/eur-jpy',\n",
       " 'https://www.investing.com/currencies/eur-chf',\n",
       " 'https://www.investing.com/equities/apple-computer-inc',\n",
       " 'https://www.investing.com/equities/nio-inc',\n",
       " 'https://www.investing.com/equities/apple-computer-inc',\n",
       " 'https://www.investing.com/equities/facebook-inc',\n",
       " 'https://www.investing.com/equities/tesla-motors',\n",
       " 'https://www.investing.com/equities/microsoft-corp',\n",
       " 'https://www.investing.com/equities/alibaba',\n",
       " 'https://www.investing.com/equities/amazon-com-inc',\n",
       " 'https://www.investing.com/equities/biogen-idec-inc',\n",
       " 'https://www.investing.com/equities/cigna-corp',\n",
       " 'https://www.investing.com/equities/eli-lilly-and-co',\n",
       " 'https://www.investing.com/equities/pinduoduo',\n",
       " 'https://www.investing.com/equities/united-health-group',\n",
       " 'https://www.investing.com/equities/docusign-inc',\n",
       " 'https://www.investing.com/equities/abbvie-inc',\n",
       " 'https://www.investing.com/equities/comerica-inc',\n",
       " 'https://www.investing.com/equities/zions-bancorp',\n",
       " 'https://www.investing.com/equities/vulcan-matrls',\n",
       " 'https://www.investing.com/equities/united-rentals',\n",
       " 'https://www.investing.com/equities/huntgtn-bkshr',\n",
       " 'https://www.investing.com/equities/peoples-united-financial',\n",
       " 'https://www.investing.com/equities/citizens-financial-group-inc']"
      ]
     },
     "execution_count": 27,
     "metadata": {},
     "output_type": "execute_result"
    }
   ],
   "source": [
    "stock_url_lst"
   ]
  },
  {
   "cell_type": "code",
   "execution_count": null,
   "metadata": {},
   "outputs": [
    {
     "name": "stderr",
     "output_type": "stream",
     "text": [
      "/usr/local/var/pyenv/versions/3.7.3/lib/python3.7/site-packages/ipykernel_launcher.py:13: DeprecationWarning: use options instead of chrome_options\n",
      "  del sys.path[0]\n"
     ]
    },
    {
     "name": "stdout",
     "output_type": "stream",
     "text": [
      "2020-11-05 17:54:38.431488: MELI is downloaded...!\n",
      "2020-11-05 17:54:52.515303: BIDU is downloaded...!\n",
      "2020-11-05 17:55:06.435107: PSA is downloaded...!\n",
      "2020-11-05 17:55:21.456470: MET is downloaded...!\n",
      "2020-11-05 17:55:39.502782: VRSK is downloaded...!\n",
      "2020-11-05 17:55:59.617828: ALL is downloaded...!\n",
      "2020-11-05 17:56:18.487404: AWK is downloaded...!\n",
      "2020-11-05 17:56:31.581298: ANSS is downloaded...!\n",
      "2020-11-05 17:56:47.274641: HLT is downloaded...!\n",
      "2020-11-05 17:57:01.064664: HOLX is downloaded...!\n",
      "2020-11-05 17:57:16.898006: EXR is downloaded...!\n",
      "2020-11-05 17:57:28.990533: QRVO is downloaded...!\n",
      "2020-11-05 17:58:20.148578: DISH is downloaded...!\n",
      "2020-11-05 17:58:38.824242: PXD is downloaded...!\n",
      "2020-11-05 17:58:52.850458: EXPE is downloaded...!\n",
      "2020-11-05 17:59:07.022709: BMRN is downloaded...!\n",
      "2020-11-05 17:59:22.128336: JKHY is downloaded...!\n",
      "2020-11-05 17:59:33.910296: LBTYA is downloaded...!\n",
      "2020-11-05 17:59:47.124740: LBTYK is downloaded...!\n",
      "2020-11-05 17:59:59.843362: ALB is downloaded...!\n",
      "2020-11-05 18:00:14.365538: LUMN is downloaded...!\n",
      "2020-11-05 18:00:27.573996: HST is downloaded...!\n",
      "2020-11-05 18:00:41.010294: LNC is downloaded...!\n",
      "2020-11-05 18:00:53.200821: PRGO is downloaded...!\n",
      "2020-11-05 18:01:09.303837: CF is downloaded...!\n",
      "2020-11-05 18:01:25.635020: APA is downloaded...!\n",
      "2020-11-05 18:01:43.065191: MRO is downloaded...!\n",
      "2020-11-05 18:02:02.734235: XEC is downloaded...!\n"
     ]
    }
   ],
   "source": [
    "# headless optionの設定\n",
    "options = Options()\n",
    "\n",
    "# headlessの設定\n",
    "# options.add_argument(\"--headless\");\n",
    "\n",
    "# ファイルダウンロード先フォルダの設定\n",
    "download_dir = os.path.join(os.getcwd(), \"output/investing_com_historical_stock_price\")\n",
    "os.makedirs(download_dir, exist_ok=True) #フォルダ作成\n",
    "options.add_experimental_option(\"prefs\",{\"download.default_directory\" : download_dir})\n",
    "\n",
    "# driverの定義\n",
    "driver = webdriver.Chrome(executable_path=\"./resource_files/chromedriver\", chrome_options=options)\n",
    "\n",
    "login_investing_com()\n",
    "i = 496\n",
    "while i < len(stock_url_lst):\n",
    "    try:\n",
    "        get_stock_price_history(stock_url_lst[i])\n",
    "        i = i + 1\n",
    "    except:\n",
    "        pass"
   ]
  },
  {
   "cell_type": "code",
   "execution_count": null,
   "metadata": {},
   "outputs": [],
   "source": [
    "driver.save_screenshot('search_results.png') "
   ]
  },
  {
   "cell_type": "code",
   "execution_count": 15,
   "metadata": {},
   "outputs": [],
   "source": [
    "duplicated_file = [s for s in os.listdir(\"./output/investing_com_historical_stock_price\") if '(1).csv' in s]"
   ]
  },
  {
   "cell_type": "code",
   "execution_count": 16,
   "metadata": {},
   "outputs": [
    {
     "data": {
      "text/plain": [
       "['AWK Historical Data (1).csv',\n",
       " 'JKHY Historical Data (1).csv',\n",
       " 'DISH Historical Data (1).csv',\n",
       " 'APA Historical Data (1).csv',\n",
       " 'ANSS Historical Data (1).csv',\n",
       " 'HST Historical Data (1).csv',\n",
       " 'EXPE Historical Data (1).csv',\n",
       " 'ALB Historical Data (1).csv',\n",
       " 'EXR Historical Data (1).csv',\n",
       " 'LNC Historical Data (1).csv',\n",
       " 'VRSK Historical Data (1).csv',\n",
       " 'LUMN Historical Data (1).csv',\n",
       " 'PRGO Historical Data (1).csv',\n",
       " 'MRO Historical Data (1).csv',\n",
       " 'PSA Historical Data (1).csv',\n",
       " 'MET Historical Data (1).csv',\n",
       " 'HLT Historical Data (1).csv',\n",
       " 'ALL Historical Data (1).csv',\n",
       " 'CF Historical Data (1).csv',\n",
       " 'QRVO Historical Data (1).csv',\n",
       " 'HOLX Historical Data (1).csv',\n",
       " 'XEC Historical Data (1).csv',\n",
       " 'PXD Historical Data (1).csv']"
      ]
     },
     "execution_count": 16,
     "metadata": {},
     "output_type": "execute_result"
    }
   ],
   "source": [
    "duplicated_file"
   ]
  },
  {
   "cell_type": "code",
   "execution_count": 18,
   "metadata": {},
   "outputs": [
    {
     "ename": "TypeError",
     "evalue": "remove: path should be string, bytes or os.PathLike, not list",
     "output_type": "error",
     "traceback": [
      "\u001b[0;31m---------------------------------------------------------------------------\u001b[0m",
      "\u001b[0;31mTypeError\u001b[0m                                 Traceback (most recent call last)",
      "\u001b[0;32m<ipython-input-18-72ad6a4efc2a>\u001b[0m in \u001b[0;36m<module>\u001b[0;34m\u001b[0m\n\u001b[0;32m----> 1\u001b[0;31m \u001b[0mos\u001b[0m\u001b[0;34m.\u001b[0m\u001b[0mremove\u001b[0m\u001b[0;34m(\u001b[0m\u001b[0;34m[\u001b[0m\u001b[0mos\u001b[0m\u001b[0;34m.\u001b[0m\u001b[0mpath\u001b[0m\u001b[0;34m.\u001b[0m\u001b[0mjoin\u001b[0m\u001b[0;34m(\u001b[0m\u001b[0;34m\"./output/investing_com_historical_stock_price\"\u001b[0m\u001b[0;34m,\u001b[0m \u001b[0ms\u001b[0m\u001b[0;34m)\u001b[0m \u001b[0;32mfor\u001b[0m \u001b[0ms\u001b[0m \u001b[0;32min\u001b[0m \u001b[0mduplicated_file\u001b[0m\u001b[0;34m]\u001b[0m\u001b[0;34m)\u001b[0m\u001b[0;34m\u001b[0m\u001b[0;34m\u001b[0m\u001b[0m\n\u001b[0m",
      "\u001b[0;31mTypeError\u001b[0m: remove: path should be string, bytes or os.PathLike, not list"
     ]
    }
   ],
   "source": [
    "os.remove([os.path.join(\"./output/investing_com_historical_stock_price\", s) for s in duplicated_file])"
   ]
  },
  {
   "cell_type": "code",
   "execution_count": 25,
   "metadata": {},
   "outputs": [],
   "source": [
    "for i in [os.path.join(\"./output/investing_com_historical_stock_price\", s) for s in duplicated_file]:\n",
    "    os.remove(i)"
   ]
  },
  {
   "cell_type": "markdown",
   "metadata": {},
   "source": [
    "# csvファイルのデータ読み込み"
   ]
  },
  {
   "cell_type": "code",
   "execution_count": 40,
   "metadata": {},
   "outputs": [],
   "source": [
    "os.chdir(\"./output/investing_com_historical_stock_price\")\n",
    "csv_files = os.listdir(\".\")"
   ]
  },
  {
   "cell_type": "code",
   "execution_count": 51,
   "metadata": {},
   "outputs": [
    {
     "data": {
      "text/plain": [
       "'PEP'"
      ]
     },
     "execution_count": 51,
     "metadata": {},
     "output_type": "execute_result"
    }
   ],
   "source": [
    "csv_files[0].split(\" \")[0]"
   ]
  },
  {
   "cell_type": "code",
   "execution_count": 53,
   "metadata": {},
   "outputs": [
    {
     "name": "stderr",
     "output_type": "stream",
     "text": [
      "/usr/local/var/pyenv/versions/3.7.3/lib/python3.7/site-packages/ipykernel_launcher.py:1: FutureWarning: read_table is deprecated, use read_csv instead.\n",
      "  \"\"\"Entry point for launching an IPython kernel.\n"
     ]
    }
   ],
   "source": [
    "tmp_df = pd.read_table(csv_files[0], sep=\",\", header=0)\n",
    "tmp_df[\"Symbol\"] = csv_files[0].split(\" \")[0]\n",
    "df = tmp_df"
   ]
  },
  {
   "cell_type": "code",
   "execution_count": 55,
   "metadata": {},
   "outputs": [
    {
     "name": "stderr",
     "output_type": "stream",
     "text": [
      "/usr/local/var/pyenv/versions/3.7.3/lib/python3.7/site-packages/ipykernel_launcher.py:2: FutureWarning: read_table is deprecated, use read_csv instead.\n",
      "  \n"
     ]
    }
   ],
   "source": [
    "for f in csv_files[1:]:\n",
    "    tmp_df = pd.read_table(f, sep=\",\", header=0)\n",
    "    tmp_df[\"Symbol\"] = f.split(\" \")[0]\n",
    "    df = df.append(tmp_df)"
   ]
  },
  {
   "cell_type": "code",
   "execution_count": 58,
   "metadata": {},
   "outputs": [
    {
     "data": {
      "text/plain": [
       "(344311, 8)"
      ]
     },
     "execution_count": 58,
     "metadata": {},
     "output_type": "execute_result"
    }
   ],
   "source": [
    "df.shape"
   ]
  },
  {
   "cell_type": "code",
   "execution_count": 107,
   "metadata": {},
   "outputs": [
    {
     "data": {
      "text/html": [
       "<div>\n",
       "<style scoped>\n",
       "    .dataframe tbody tr th:only-of-type {\n",
       "        vertical-align: middle;\n",
       "    }\n",
       "\n",
       "    .dataframe tbody tr th {\n",
       "        vertical-align: top;\n",
       "    }\n",
       "\n",
       "    .dataframe thead th {\n",
       "        text-align: right;\n",
       "    }\n",
       "</style>\n",
       "<table border=\"1\" class=\"dataframe\">\n",
       "  <thead>\n",
       "    <tr style=\"text-align: right;\">\n",
       "      <th></th>\n",
       "      <th>Date</th>\n",
       "      <th>Price</th>\n",
       "      <th>Open</th>\n",
       "      <th>High</th>\n",
       "      <th>Low</th>\n",
       "      <th>Vol.</th>\n",
       "      <th>Change %</th>\n",
       "      <th>Symbol</th>\n",
       "    </tr>\n",
       "  </thead>\n",
       "  <tbody>\n",
       "    <tr>\n",
       "      <th>0</th>\n",
       "      <td>Sep 30, 2020</td>\n",
       "      <td>138.6</td>\n",
       "      <td>137.96</td>\n",
       "      <td>139.19</td>\n",
       "      <td>136.93</td>\n",
       "      <td>7.06M</td>\n",
       "      <td>1.05%</td>\n",
       "      <td>PEP</td>\n",
       "    </tr>\n",
       "    <tr>\n",
       "      <th>1</th>\n",
       "      <td>Sep 29, 2020</td>\n",
       "      <td>137.16</td>\n",
       "      <td>138.72</td>\n",
       "      <td>139.54</td>\n",
       "      <td>137.15</td>\n",
       "      <td>4.33M</td>\n",
       "      <td>-0.59%</td>\n",
       "      <td>PEP</td>\n",
       "    </tr>\n",
       "    <tr>\n",
       "      <th>2</th>\n",
       "      <td>Sep 28, 2020</td>\n",
       "      <td>137.97</td>\n",
       "      <td>135.96</td>\n",
       "      <td>138.58</td>\n",
       "      <td>135.75</td>\n",
       "      <td>7.49M</td>\n",
       "      <td>3.31%</td>\n",
       "      <td>PEP</td>\n",
       "    </tr>\n",
       "    <tr>\n",
       "      <th>3</th>\n",
       "      <td>Sep 25, 2020</td>\n",
       "      <td>133.55</td>\n",
       "      <td>130.89</td>\n",
       "      <td>133.83</td>\n",
       "      <td>130.51</td>\n",
       "      <td>4.58M</td>\n",
       "      <td>1.50%</td>\n",
       "      <td>PEP</td>\n",
       "    </tr>\n",
       "    <tr>\n",
       "      <th>4</th>\n",
       "      <td>Sep 24, 2020</td>\n",
       "      <td>131.58</td>\n",
       "      <td>131.27</td>\n",
       "      <td>132.31</td>\n",
       "      <td>129.94</td>\n",
       "      <td>4.32M</td>\n",
       "      <td>0.44%</td>\n",
       "      <td>PEP</td>\n",
       "    </tr>\n",
       "  </tbody>\n",
       "</table>\n",
       "</div>"
      ],
      "text/plain": [
       "           Date   Price    Open    High     Low   Vol. Change % Symbol\n",
       "0  Sep 30, 2020   138.6  137.96  139.19  136.93  7.06M    1.05%    PEP\n",
       "1  Sep 29, 2020  137.16  138.72  139.54  137.15  4.33M   -0.59%    PEP\n",
       "2  Sep 28, 2020  137.97  135.96  138.58  135.75  7.49M    3.31%    PEP\n",
       "3  Sep 25, 2020  133.55  130.89  133.83  130.51  4.58M    1.50%    PEP\n",
       "4  Sep 24, 2020  131.58  131.27  132.31  129.94  4.32M    0.44%    PEP"
      ]
     },
     "execution_count": 107,
     "metadata": {},
     "output_type": "execute_result"
    }
   ],
   "source": [
    "df.head()"
   ]
  },
  {
   "cell_type": "code",
   "execution_count": 59,
   "metadata": {},
   "outputs": [
    {
     "data": {
      "text/html": [
       "<div>\n",
       "<style scoped>\n",
       "    .dataframe tbody tr th:only-of-type {\n",
       "        vertical-align: middle;\n",
       "    }\n",
       "\n",
       "    .dataframe tbody tr th {\n",
       "        vertical-align: top;\n",
       "    }\n",
       "\n",
       "    .dataframe thead th {\n",
       "        text-align: right;\n",
       "    }\n",
       "</style>\n",
       "<table border=\"1\" class=\"dataframe\">\n",
       "  <thead>\n",
       "    <tr style=\"text-align: right;\">\n",
       "      <th></th>\n",
       "      <th>Date</th>\n",
       "      <th>Price</th>\n",
       "      <th>Open</th>\n",
       "      <th>High</th>\n",
       "      <th>Low</th>\n",
       "      <th>Vol.</th>\n",
       "      <th>Change %</th>\n",
       "      <th>Symbol</th>\n",
       "    </tr>\n",
       "  </thead>\n",
       "  <tbody>\n",
       "    <tr>\n",
       "      <th>count</th>\n",
       "      <td>344311</td>\n",
       "      <td>344311.00</td>\n",
       "      <td>344311.0</td>\n",
       "      <td>344311.0</td>\n",
       "      <td>344311.0</td>\n",
       "      <td>344311</td>\n",
       "      <td>344311</td>\n",
       "      <td>344311</td>\n",
       "    </tr>\n",
       "    <tr>\n",
       "      <th>unique</th>\n",
       "      <td>708</td>\n",
       "      <td>43245.00</td>\n",
       "      <td>42559.0</td>\n",
       "      <td>43066.0</td>\n",
       "      <td>42517.0</td>\n",
       "      <td>56056</td>\n",
       "      <td>3601</td>\n",
       "      <td>500</td>\n",
       "    </tr>\n",
       "    <tr>\n",
       "      <th>top</th>\n",
       "      <td>Sep 23, 2020</td>\n",
       "      <td>53.17</td>\n",
       "      <td>80.0</td>\n",
       "      <td>45.0</td>\n",
       "      <td>28.0</td>\n",
       "      <td>1.03M</td>\n",
       "      <td>0.00%</td>\n",
       "      <td>CBOE</td>\n",
       "    </tr>\n",
       "    <tr>\n",
       "      <th>freq</th>\n",
       "      <td>500</td>\n",
       "      <td>48.00</td>\n",
       "      <td>98.0</td>\n",
       "      <td>59.0</td>\n",
       "      <td>55.0</td>\n",
       "      <td>1112</td>\n",
       "      <td>1795</td>\n",
       "      <td>708</td>\n",
       "    </tr>\n",
       "  </tbody>\n",
       "</table>\n",
       "</div>"
      ],
      "text/plain": [
       "                Date      Price      Open      High       Low    Vol.  \\\n",
       "count         344311  344311.00  344311.0  344311.0  344311.0  344311   \n",
       "unique           708   43245.00   42559.0   43066.0   42517.0   56056   \n",
       "top     Sep 23, 2020      53.17      80.0      45.0      28.0   1.03M   \n",
       "freq             500      48.00      98.0      59.0      55.0    1112   \n",
       "\n",
       "       Change %  Symbol  \n",
       "count    344311  344311  \n",
       "unique     3601     500  \n",
       "top       0.00%    CBOE  \n",
       "freq       1795     708  "
      ]
     },
     "execution_count": 59,
     "metadata": {},
     "output_type": "execute_result"
    }
   ],
   "source": [
    "df.describe()"
   ]
  },
  {
   "cell_type": "code",
   "execution_count": 94,
   "metadata": {},
   "outputs": [
    {
     "data": {
      "text/plain": [
       "False"
      ]
     },
     "execution_count": 94,
     "metadata": {},
     "output_type": "execute_result"
    }
   ],
   "source": [
    "np.array((df.groupby([\"Symbol\", \"Date\"]).size() > 1).to_list()).any()"
   ]
  },
  {
   "cell_type": "code",
   "execution_count": 96,
   "metadata": {},
   "outputs": [
    {
     "name": "stderr",
     "output_type": "stream",
     "text": [
      "/usr/local/var/pyenv/versions/3.7.3/lib/python3.7/site-packages/ipykernel_launcher.py:2: FutureWarning: read_table is deprecated, use read_csv instead.\n",
      "  \n"
     ]
    }
   ],
   "source": [
    "os.chdir(\"../../\")\n",
    "df_s_and_p_stock_list = pd.read_table(\"./output/s_and_p_stock_list.csv\", sep=\",\", header=0)"
   ]
  },
  {
   "cell_type": "code",
   "execution_count": 99,
   "metadata": {},
   "outputs": [],
   "source": [
    "s_and_p_stock_symbol = df_s_and_p_stock_list[\"Symbol\"]"
   ]
  },
  {
   "cell_type": "code",
   "execution_count": 104,
   "metadata": {},
   "outputs": [
    {
     "data": {
      "text/plain": [
       "22"
      ]
     },
     "execution_count": 104,
     "metadata": {},
     "output_type": "execute_result"
    }
   ],
   "source": [
    "df.query(\"Symbol not in @s_and_p_stock_symbol\")[\"Symbol\"].nunique()"
   ]
  },
  {
   "cell_type": "code",
   "execution_count": 105,
   "metadata": {},
   "outputs": [
    {
     "data": {
      "text/plain": [
       "478"
      ]
     },
     "execution_count": 105,
     "metadata": {},
     "output_type": "execute_result"
    }
   ],
   "source": [
    "df.query(\"Symbol in @s_and_p_stock_symbol\")[\"Symbol\"].nunique()"
   ]
  },
  {
   "cell_type": "markdown",
   "metadata": {},
   "source": [
    "# dfデータの整形"
   ]
  },
  {
   "cell_type": "code",
   "execution_count": 108,
   "metadata": {},
   "outputs": [
    {
     "data": {
      "text/html": [
       "<div>\n",
       "<style scoped>\n",
       "    .dataframe tbody tr th:only-of-type {\n",
       "        vertical-align: middle;\n",
       "    }\n",
       "\n",
       "    .dataframe tbody tr th {\n",
       "        vertical-align: top;\n",
       "    }\n",
       "\n",
       "    .dataframe thead th {\n",
       "        text-align: right;\n",
       "    }\n",
       "</style>\n",
       "<table border=\"1\" class=\"dataframe\">\n",
       "  <thead>\n",
       "    <tr style=\"text-align: right;\">\n",
       "      <th></th>\n",
       "      <th>Date</th>\n",
       "      <th>Price</th>\n",
       "      <th>Open</th>\n",
       "      <th>High</th>\n",
       "      <th>Low</th>\n",
       "      <th>Vol.</th>\n",
       "      <th>Change %</th>\n",
       "      <th>Symbol</th>\n",
       "    </tr>\n",
       "  </thead>\n",
       "  <tbody>\n",
       "    <tr>\n",
       "      <th>0</th>\n",
       "      <td>Sep 30, 2020</td>\n",
       "      <td>138.6</td>\n",
       "      <td>137.96</td>\n",
       "      <td>139.19</td>\n",
       "      <td>136.93</td>\n",
       "      <td>7.06M</td>\n",
       "      <td>1.05%</td>\n",
       "      <td>PEP</td>\n",
       "    </tr>\n",
       "    <tr>\n",
       "      <th>1</th>\n",
       "      <td>Sep 29, 2020</td>\n",
       "      <td>137.16</td>\n",
       "      <td>138.72</td>\n",
       "      <td>139.54</td>\n",
       "      <td>137.15</td>\n",
       "      <td>4.33M</td>\n",
       "      <td>-0.59%</td>\n",
       "      <td>PEP</td>\n",
       "    </tr>\n",
       "    <tr>\n",
       "      <th>2</th>\n",
       "      <td>Sep 28, 2020</td>\n",
       "      <td>137.97</td>\n",
       "      <td>135.96</td>\n",
       "      <td>138.58</td>\n",
       "      <td>135.75</td>\n",
       "      <td>7.49M</td>\n",
       "      <td>3.31%</td>\n",
       "      <td>PEP</td>\n",
       "    </tr>\n",
       "    <tr>\n",
       "      <th>3</th>\n",
       "      <td>Sep 25, 2020</td>\n",
       "      <td>133.55</td>\n",
       "      <td>130.89</td>\n",
       "      <td>133.83</td>\n",
       "      <td>130.51</td>\n",
       "      <td>4.58M</td>\n",
       "      <td>1.50%</td>\n",
       "      <td>PEP</td>\n",
       "    </tr>\n",
       "    <tr>\n",
       "      <th>4</th>\n",
       "      <td>Sep 24, 2020</td>\n",
       "      <td>131.58</td>\n",
       "      <td>131.27</td>\n",
       "      <td>132.31</td>\n",
       "      <td>129.94</td>\n",
       "      <td>4.32M</td>\n",
       "      <td>0.44%</td>\n",
       "      <td>PEP</td>\n",
       "    </tr>\n",
       "  </tbody>\n",
       "</table>\n",
       "</div>"
      ],
      "text/plain": [
       "           Date   Price    Open    High     Low   Vol. Change % Symbol\n",
       "0  Sep 30, 2020   138.6  137.96  139.19  136.93  7.06M    1.05%    PEP\n",
       "1  Sep 29, 2020  137.16  138.72  139.54  137.15  4.33M   -0.59%    PEP\n",
       "2  Sep 28, 2020  137.97  135.96  138.58  135.75  7.49M    3.31%    PEP\n",
       "3  Sep 25, 2020  133.55  130.89  133.83  130.51  4.58M    1.50%    PEP\n",
       "4  Sep 24, 2020  131.58  131.27  132.31  129.94  4.32M    0.44%    PEP"
      ]
     },
     "execution_count": 108,
     "metadata": {},
     "output_type": "execute_result"
    }
   ],
   "source": [
    "df.head()"
   ]
  },
  {
   "cell_type": "code",
   "execution_count": 119,
   "metadata": {},
   "outputs": [],
   "source": [
    "df = df.rename(columns={\"Date\": \"Date_str\"})"
   ]
  },
  {
   "cell_type": "code",
   "execution_count": 120,
   "metadata": {},
   "outputs": [
    {
     "data": {
      "text/html": [
       "<div>\n",
       "<style scoped>\n",
       "    .dataframe tbody tr th:only-of-type {\n",
       "        vertical-align: middle;\n",
       "    }\n",
       "\n",
       "    .dataframe tbody tr th {\n",
       "        vertical-align: top;\n",
       "    }\n",
       "\n",
       "    .dataframe thead th {\n",
       "        text-align: right;\n",
       "    }\n",
       "</style>\n",
       "<table border=\"1\" class=\"dataframe\">\n",
       "  <thead>\n",
       "    <tr style=\"text-align: right;\">\n",
       "      <th></th>\n",
       "      <th>Date_str</th>\n",
       "      <th>Price</th>\n",
       "      <th>Open</th>\n",
       "      <th>High</th>\n",
       "      <th>Low</th>\n",
       "      <th>Vol.</th>\n",
       "      <th>Change %</th>\n",
       "      <th>Symbol</th>\n",
       "    </tr>\n",
       "  </thead>\n",
       "  <tbody>\n",
       "    <tr>\n",
       "      <th>0</th>\n",
       "      <td>Sep 30, 2020</td>\n",
       "      <td>138.6</td>\n",
       "      <td>137.96</td>\n",
       "      <td>139.19</td>\n",
       "      <td>136.93</td>\n",
       "      <td>7.06M</td>\n",
       "      <td>1.05%</td>\n",
       "      <td>PEP</td>\n",
       "    </tr>\n",
       "    <tr>\n",
       "      <th>1</th>\n",
       "      <td>Sep 29, 2020</td>\n",
       "      <td>137.16</td>\n",
       "      <td>138.72</td>\n",
       "      <td>139.54</td>\n",
       "      <td>137.15</td>\n",
       "      <td>4.33M</td>\n",
       "      <td>-0.59%</td>\n",
       "      <td>PEP</td>\n",
       "    </tr>\n",
       "    <tr>\n",
       "      <th>2</th>\n",
       "      <td>Sep 28, 2020</td>\n",
       "      <td>137.97</td>\n",
       "      <td>135.96</td>\n",
       "      <td>138.58</td>\n",
       "      <td>135.75</td>\n",
       "      <td>7.49M</td>\n",
       "      <td>3.31%</td>\n",
       "      <td>PEP</td>\n",
       "    </tr>\n",
       "    <tr>\n",
       "      <th>3</th>\n",
       "      <td>Sep 25, 2020</td>\n",
       "      <td>133.55</td>\n",
       "      <td>130.89</td>\n",
       "      <td>133.83</td>\n",
       "      <td>130.51</td>\n",
       "      <td>4.58M</td>\n",
       "      <td>1.50%</td>\n",
       "      <td>PEP</td>\n",
       "    </tr>\n",
       "    <tr>\n",
       "      <th>4</th>\n",
       "      <td>Sep 24, 2020</td>\n",
       "      <td>131.58</td>\n",
       "      <td>131.27</td>\n",
       "      <td>132.31</td>\n",
       "      <td>129.94</td>\n",
       "      <td>4.32M</td>\n",
       "      <td>0.44%</td>\n",
       "      <td>PEP</td>\n",
       "    </tr>\n",
       "  </tbody>\n",
       "</table>\n",
       "</div>"
      ],
      "text/plain": [
       "       Date_str   Price    Open    High     Low   Vol. Change % Symbol\n",
       "0  Sep 30, 2020   138.6  137.96  139.19  136.93  7.06M    1.05%    PEP\n",
       "1  Sep 29, 2020  137.16  138.72  139.54  137.15  4.33M   -0.59%    PEP\n",
       "2  Sep 28, 2020  137.97  135.96  138.58  135.75  7.49M    3.31%    PEP\n",
       "3  Sep 25, 2020  133.55  130.89  133.83  130.51  4.58M    1.50%    PEP\n",
       "4  Sep 24, 2020  131.58  131.27  132.31  129.94  4.32M    0.44%    PEP"
      ]
     },
     "execution_count": 120,
     "metadata": {},
     "output_type": "execute_result"
    }
   ],
   "source": [
    "df.head()"
   ]
  },
  {
   "cell_type": "code",
   "execution_count": 121,
   "metadata": {},
   "outputs": [],
   "source": [
    "df = df.assign(Date = pd.to_datetime(df['Date_str']))"
   ]
  },
  {
   "cell_type": "code",
   "execution_count": 122,
   "metadata": {},
   "outputs": [
    {
     "data": {
      "text/html": [
       "<div>\n",
       "<style scoped>\n",
       "    .dataframe tbody tr th:only-of-type {\n",
       "        vertical-align: middle;\n",
       "    }\n",
       "\n",
       "    .dataframe tbody tr th {\n",
       "        vertical-align: top;\n",
       "    }\n",
       "\n",
       "    .dataframe thead th {\n",
       "        text-align: right;\n",
       "    }\n",
       "</style>\n",
       "<table border=\"1\" class=\"dataframe\">\n",
       "  <thead>\n",
       "    <tr style=\"text-align: right;\">\n",
       "      <th></th>\n",
       "      <th>Date_str</th>\n",
       "      <th>Price</th>\n",
       "      <th>Open</th>\n",
       "      <th>High</th>\n",
       "      <th>Low</th>\n",
       "      <th>Vol.</th>\n",
       "      <th>Change %</th>\n",
       "      <th>Symbol</th>\n",
       "      <th>Date</th>\n",
       "    </tr>\n",
       "  </thead>\n",
       "  <tbody>\n",
       "    <tr>\n",
       "      <th>0</th>\n",
       "      <td>Sep 30, 2020</td>\n",
       "      <td>138.6</td>\n",
       "      <td>137.96</td>\n",
       "      <td>139.19</td>\n",
       "      <td>136.93</td>\n",
       "      <td>7.06M</td>\n",
       "      <td>1.05%</td>\n",
       "      <td>PEP</td>\n",
       "      <td>2020-09-30</td>\n",
       "    </tr>\n",
       "    <tr>\n",
       "      <th>1</th>\n",
       "      <td>Sep 29, 2020</td>\n",
       "      <td>137.16</td>\n",
       "      <td>138.72</td>\n",
       "      <td>139.54</td>\n",
       "      <td>137.15</td>\n",
       "      <td>4.33M</td>\n",
       "      <td>-0.59%</td>\n",
       "      <td>PEP</td>\n",
       "      <td>2020-09-29</td>\n",
       "    </tr>\n",
       "    <tr>\n",
       "      <th>2</th>\n",
       "      <td>Sep 28, 2020</td>\n",
       "      <td>137.97</td>\n",
       "      <td>135.96</td>\n",
       "      <td>138.58</td>\n",
       "      <td>135.75</td>\n",
       "      <td>7.49M</td>\n",
       "      <td>3.31%</td>\n",
       "      <td>PEP</td>\n",
       "      <td>2020-09-28</td>\n",
       "    </tr>\n",
       "    <tr>\n",
       "      <th>3</th>\n",
       "      <td>Sep 25, 2020</td>\n",
       "      <td>133.55</td>\n",
       "      <td>130.89</td>\n",
       "      <td>133.83</td>\n",
       "      <td>130.51</td>\n",
       "      <td>4.58M</td>\n",
       "      <td>1.50%</td>\n",
       "      <td>PEP</td>\n",
       "      <td>2020-09-25</td>\n",
       "    </tr>\n",
       "    <tr>\n",
       "      <th>4</th>\n",
       "      <td>Sep 24, 2020</td>\n",
       "      <td>131.58</td>\n",
       "      <td>131.27</td>\n",
       "      <td>132.31</td>\n",
       "      <td>129.94</td>\n",
       "      <td>4.32M</td>\n",
       "      <td>0.44%</td>\n",
       "      <td>PEP</td>\n",
       "      <td>2020-09-24</td>\n",
       "    </tr>\n",
       "  </tbody>\n",
       "</table>\n",
       "</div>"
      ],
      "text/plain": [
       "       Date_str   Price    Open    High     Low   Vol. Change % Symbol  \\\n",
       "0  Sep 30, 2020   138.6  137.96  139.19  136.93  7.06M    1.05%    PEP   \n",
       "1  Sep 29, 2020  137.16  138.72  139.54  137.15  4.33M   -0.59%    PEP   \n",
       "2  Sep 28, 2020  137.97  135.96  138.58  135.75  7.49M    3.31%    PEP   \n",
       "3  Sep 25, 2020  133.55  130.89  133.83  130.51  4.58M    1.50%    PEP   \n",
       "4  Sep 24, 2020  131.58  131.27  132.31  129.94  4.32M    0.44%    PEP   \n",
       "\n",
       "        Date  \n",
       "0 2020-09-30  \n",
       "1 2020-09-29  \n",
       "2 2020-09-28  \n",
       "3 2020-09-25  \n",
       "4 2020-09-24  "
      ]
     },
     "execution_count": 122,
     "metadata": {},
     "output_type": "execute_result"
    }
   ],
   "source": [
    "df.head()"
   ]
  },
  {
   "cell_type": "code",
   "execution_count": 123,
   "metadata": {},
   "outputs": [
    {
     "data": {
      "text/html": [
       "<div>\n",
       "<style scoped>\n",
       "    .dataframe tbody tr th:only-of-type {\n",
       "        vertical-align: middle;\n",
       "    }\n",
       "\n",
       "    .dataframe tbody tr th {\n",
       "        vertical-align: top;\n",
       "    }\n",
       "\n",
       "    .dataframe thead th {\n",
       "        text-align: right;\n",
       "    }\n",
       "</style>\n",
       "<table border=\"1\" class=\"dataframe\">\n",
       "  <thead>\n",
       "    <tr style=\"text-align: right;\">\n",
       "      <th></th>\n",
       "      <th>Date_str</th>\n",
       "      <th>Price</th>\n",
       "      <th>Open</th>\n",
       "      <th>High</th>\n",
       "      <th>Low</th>\n",
       "      <th>Vol.</th>\n",
       "      <th>Change %</th>\n",
       "      <th>Symbol</th>\n",
       "      <th>Date</th>\n",
       "    </tr>\n",
       "  </thead>\n",
       "  <tbody>\n",
       "    <tr>\n",
       "      <th>687</th>\n",
       "      <td>Jan 08, 2018</td>\n",
       "      <td>308.26</td>\n",
       "      <td>308.95</td>\n",
       "      <td>309.34</td>\n",
       "      <td>307.56</td>\n",
       "      <td>660.79K</td>\n",
       "      <td>0.01%</td>\n",
       "      <td>NOC</td>\n",
       "      <td>2018-01-08</td>\n",
       "    </tr>\n",
       "    <tr>\n",
       "      <th>688</th>\n",
       "      <td>Jan 05, 2018</td>\n",
       "      <td>308.22</td>\n",
       "      <td>309.09</td>\n",
       "      <td>310.24</td>\n",
       "      <td>307.21</td>\n",
       "      <td>842.80K</td>\n",
       "      <td>-0.11%</td>\n",
       "      <td>NOC</td>\n",
       "      <td>2018-01-05</td>\n",
       "    </tr>\n",
       "    <tr>\n",
       "      <th>689</th>\n",
       "      <td>Jan 04, 2018</td>\n",
       "      <td>308.55</td>\n",
       "      <td>306.58</td>\n",
       "      <td>308.71</td>\n",
       "      <td>305.61</td>\n",
       "      <td>582.40K</td>\n",
       "      <td>0.62%</td>\n",
       "      <td>NOC</td>\n",
       "      <td>2018-01-04</td>\n",
       "    </tr>\n",
       "    <tr>\n",
       "      <th>690</th>\n",
       "      <td>Jan 03, 2018</td>\n",
       "      <td>306.65</td>\n",
       "      <td>304.74</td>\n",
       "      <td>307.25</td>\n",
       "      <td>304.61</td>\n",
       "      <td>722.05K</td>\n",
       "      <td>0.46%</td>\n",
       "      <td>NOC</td>\n",
       "      <td>2018-01-03</td>\n",
       "    </tr>\n",
       "    <tr>\n",
       "      <th>691</th>\n",
       "      <td>Jan 02, 2018</td>\n",
       "      <td>305.24</td>\n",
       "      <td>307.35</td>\n",
       "      <td>307.72</td>\n",
       "      <td>303.21</td>\n",
       "      <td>715.00K</td>\n",
       "      <td>-0.54%</td>\n",
       "      <td>NOC</td>\n",
       "      <td>2018-01-02</td>\n",
       "    </tr>\n",
       "  </tbody>\n",
       "</table>\n",
       "</div>"
      ],
      "text/plain": [
       "         Date_str   Price    Open    High     Low     Vol. Change % Symbol  \\\n",
       "687  Jan 08, 2018  308.26  308.95  309.34  307.56  660.79K    0.01%    NOC   \n",
       "688  Jan 05, 2018  308.22  309.09  310.24  307.21  842.80K   -0.11%    NOC   \n",
       "689  Jan 04, 2018  308.55  306.58  308.71  305.61  582.40K    0.62%    NOC   \n",
       "690  Jan 03, 2018  306.65  304.74  307.25  304.61  722.05K    0.46%    NOC   \n",
       "691  Jan 02, 2018  305.24  307.35  307.72  303.21  715.00K   -0.54%    NOC   \n",
       "\n",
       "          Date  \n",
       "687 2018-01-08  \n",
       "688 2018-01-05  \n",
       "689 2018-01-04  \n",
       "690 2018-01-03  \n",
       "691 2018-01-02  "
      ]
     },
     "execution_count": 123,
     "metadata": {},
     "output_type": "execute_result"
    }
   ],
   "source": [
    "df.tail()"
   ]
  },
  {
   "cell_type": "code",
   "execution_count": 139,
   "metadata": {},
   "outputs": [],
   "source": [
    "df = df.assign(Volume = df[\"Vol.\"].apply(lambda a: str(a).replace(\"K\", \"0\").replace(\"M\", \"0000\").replace(\".\", \"\")))"
   ]
  },
  {
   "cell_type": "code",
   "execution_count": 140,
   "metadata": {},
   "outputs": [
    {
     "data": {
      "text/html": [
       "<div>\n",
       "<style scoped>\n",
       "    .dataframe tbody tr th:only-of-type {\n",
       "        vertical-align: middle;\n",
       "    }\n",
       "\n",
       "    .dataframe tbody tr th {\n",
       "        vertical-align: top;\n",
       "    }\n",
       "\n",
       "    .dataframe thead th {\n",
       "        text-align: right;\n",
       "    }\n",
       "</style>\n",
       "<table border=\"1\" class=\"dataframe\">\n",
       "  <thead>\n",
       "    <tr style=\"text-align: right;\">\n",
       "      <th></th>\n",
       "      <th>Date_str</th>\n",
       "      <th>Price</th>\n",
       "      <th>Open</th>\n",
       "      <th>High</th>\n",
       "      <th>Low</th>\n",
       "      <th>Vol.</th>\n",
       "      <th>Change %</th>\n",
       "      <th>Symbol</th>\n",
       "      <th>Date</th>\n",
       "      <th>Volume</th>\n",
       "    </tr>\n",
       "  </thead>\n",
       "  <tbody>\n",
       "    <tr>\n",
       "      <th>0</th>\n",
       "      <td>Sep 30, 2020</td>\n",
       "      <td>138.6</td>\n",
       "      <td>137.96</td>\n",
       "      <td>139.19</td>\n",
       "      <td>136.93</td>\n",
       "      <td>7.06M</td>\n",
       "      <td>1.05%</td>\n",
       "      <td>PEP</td>\n",
       "      <td>2020-09-30</td>\n",
       "      <td>7060000</td>\n",
       "    </tr>\n",
       "    <tr>\n",
       "      <th>1</th>\n",
       "      <td>Sep 29, 2020</td>\n",
       "      <td>137.16</td>\n",
       "      <td>138.72</td>\n",
       "      <td>139.54</td>\n",
       "      <td>137.15</td>\n",
       "      <td>4.33M</td>\n",
       "      <td>-0.59%</td>\n",
       "      <td>PEP</td>\n",
       "      <td>2020-09-29</td>\n",
       "      <td>4330000</td>\n",
       "    </tr>\n",
       "    <tr>\n",
       "      <th>2</th>\n",
       "      <td>Sep 28, 2020</td>\n",
       "      <td>137.97</td>\n",
       "      <td>135.96</td>\n",
       "      <td>138.58</td>\n",
       "      <td>135.75</td>\n",
       "      <td>7.49M</td>\n",
       "      <td>3.31%</td>\n",
       "      <td>PEP</td>\n",
       "      <td>2020-09-28</td>\n",
       "      <td>7490000</td>\n",
       "    </tr>\n",
       "    <tr>\n",
       "      <th>3</th>\n",
       "      <td>Sep 25, 2020</td>\n",
       "      <td>133.55</td>\n",
       "      <td>130.89</td>\n",
       "      <td>133.83</td>\n",
       "      <td>130.51</td>\n",
       "      <td>4.58M</td>\n",
       "      <td>1.50%</td>\n",
       "      <td>PEP</td>\n",
       "      <td>2020-09-25</td>\n",
       "      <td>4580000</td>\n",
       "    </tr>\n",
       "    <tr>\n",
       "      <th>4</th>\n",
       "      <td>Sep 24, 2020</td>\n",
       "      <td>131.58</td>\n",
       "      <td>131.27</td>\n",
       "      <td>132.31</td>\n",
       "      <td>129.94</td>\n",
       "      <td>4.32M</td>\n",
       "      <td>0.44%</td>\n",
       "      <td>PEP</td>\n",
       "      <td>2020-09-24</td>\n",
       "      <td>4320000</td>\n",
       "    </tr>\n",
       "  </tbody>\n",
       "</table>\n",
       "</div>"
      ],
      "text/plain": [
       "       Date_str   Price    Open    High     Low   Vol. Change % Symbol  \\\n",
       "0  Sep 30, 2020   138.6  137.96  139.19  136.93  7.06M    1.05%    PEP   \n",
       "1  Sep 29, 2020  137.16  138.72  139.54  137.15  4.33M   -0.59%    PEP   \n",
       "2  Sep 28, 2020  137.97  135.96  138.58  135.75  7.49M    3.31%    PEP   \n",
       "3  Sep 25, 2020  133.55  130.89  133.83  130.51  4.58M    1.50%    PEP   \n",
       "4  Sep 24, 2020  131.58  131.27  132.31  129.94  4.32M    0.44%    PEP   \n",
       "\n",
       "        Date   Volume  \n",
       "0 2020-09-30  7060000  \n",
       "1 2020-09-29  4330000  \n",
       "2 2020-09-28  7490000  \n",
       "3 2020-09-25  4580000  \n",
       "4 2020-09-24  4320000  "
      ]
     },
     "execution_count": 140,
     "metadata": {},
     "output_type": "execute_result"
    }
   ],
   "source": [
    "df.head()"
   ]
  },
  {
   "cell_type": "code",
   "execution_count": 141,
   "metadata": {},
   "outputs": [
    {
     "data": {
      "text/html": [
       "<div>\n",
       "<style scoped>\n",
       "    .dataframe tbody tr th:only-of-type {\n",
       "        vertical-align: middle;\n",
       "    }\n",
       "\n",
       "    .dataframe tbody tr th {\n",
       "        vertical-align: top;\n",
       "    }\n",
       "\n",
       "    .dataframe thead th {\n",
       "        text-align: right;\n",
       "    }\n",
       "</style>\n",
       "<table border=\"1\" class=\"dataframe\">\n",
       "  <thead>\n",
       "    <tr style=\"text-align: right;\">\n",
       "      <th></th>\n",
       "      <th>Date_str</th>\n",
       "      <th>Price</th>\n",
       "      <th>Open</th>\n",
       "      <th>High</th>\n",
       "      <th>Low</th>\n",
       "      <th>Vol.</th>\n",
       "      <th>Change %</th>\n",
       "      <th>Symbol</th>\n",
       "      <th>Date</th>\n",
       "      <th>Volume</th>\n",
       "    </tr>\n",
       "  </thead>\n",
       "  <tbody>\n",
       "    <tr>\n",
       "      <th>687</th>\n",
       "      <td>Jan 08, 2018</td>\n",
       "      <td>308.26</td>\n",
       "      <td>308.95</td>\n",
       "      <td>309.34</td>\n",
       "      <td>307.56</td>\n",
       "      <td>660.79K</td>\n",
       "      <td>0.01%</td>\n",
       "      <td>NOC</td>\n",
       "      <td>2018-01-08</td>\n",
       "      <td>660790</td>\n",
       "    </tr>\n",
       "    <tr>\n",
       "      <th>688</th>\n",
       "      <td>Jan 05, 2018</td>\n",
       "      <td>308.22</td>\n",
       "      <td>309.09</td>\n",
       "      <td>310.24</td>\n",
       "      <td>307.21</td>\n",
       "      <td>842.80K</td>\n",
       "      <td>-0.11%</td>\n",
       "      <td>NOC</td>\n",
       "      <td>2018-01-05</td>\n",
       "      <td>842800</td>\n",
       "    </tr>\n",
       "    <tr>\n",
       "      <th>689</th>\n",
       "      <td>Jan 04, 2018</td>\n",
       "      <td>308.55</td>\n",
       "      <td>306.58</td>\n",
       "      <td>308.71</td>\n",
       "      <td>305.61</td>\n",
       "      <td>582.40K</td>\n",
       "      <td>0.62%</td>\n",
       "      <td>NOC</td>\n",
       "      <td>2018-01-04</td>\n",
       "      <td>582400</td>\n",
       "    </tr>\n",
       "    <tr>\n",
       "      <th>690</th>\n",
       "      <td>Jan 03, 2018</td>\n",
       "      <td>306.65</td>\n",
       "      <td>304.74</td>\n",
       "      <td>307.25</td>\n",
       "      <td>304.61</td>\n",
       "      <td>722.05K</td>\n",
       "      <td>0.46%</td>\n",
       "      <td>NOC</td>\n",
       "      <td>2018-01-03</td>\n",
       "      <td>722050</td>\n",
       "    </tr>\n",
       "    <tr>\n",
       "      <th>691</th>\n",
       "      <td>Jan 02, 2018</td>\n",
       "      <td>305.24</td>\n",
       "      <td>307.35</td>\n",
       "      <td>307.72</td>\n",
       "      <td>303.21</td>\n",
       "      <td>715.00K</td>\n",
       "      <td>-0.54%</td>\n",
       "      <td>NOC</td>\n",
       "      <td>2018-01-02</td>\n",
       "      <td>715000</td>\n",
       "    </tr>\n",
       "  </tbody>\n",
       "</table>\n",
       "</div>"
      ],
      "text/plain": [
       "         Date_str   Price    Open    High     Low     Vol. Change % Symbol  \\\n",
       "687  Jan 08, 2018  308.26  308.95  309.34  307.56  660.79K    0.01%    NOC   \n",
       "688  Jan 05, 2018  308.22  309.09  310.24  307.21  842.80K   -0.11%    NOC   \n",
       "689  Jan 04, 2018  308.55  306.58  308.71  305.61  582.40K    0.62%    NOC   \n",
       "690  Jan 03, 2018  306.65  304.74  307.25  304.61  722.05K    0.46%    NOC   \n",
       "691  Jan 02, 2018  305.24  307.35  307.72  303.21  715.00K   -0.54%    NOC   \n",
       "\n",
       "          Date  Volume  \n",
       "687 2018-01-08  660790  \n",
       "688 2018-01-05  842800  \n",
       "689 2018-01-04  582400  \n",
       "690 2018-01-03  722050  \n",
       "691 2018-01-02  715000  "
      ]
     },
     "execution_count": 141,
     "metadata": {},
     "output_type": "execute_result"
    }
   ],
   "source": [
    "df.tail()"
   ]
  },
  {
   "cell_type": "code",
   "execution_count": 142,
   "metadata": {},
   "outputs": [],
   "source": [
    "df_save = df[[\"Symbol\", \"Open\", \"Price\", \"Low\", \"High\", \"Volume\", \"Date\"]]"
   ]
  },
  {
   "cell_type": "code",
   "execution_count": 145,
   "metadata": {},
   "outputs": [],
   "source": [
    "df_save.columns = [\"ticker\", \"open\", \"close\", \"low\", \"high\", \"volume\", \"date\"]"
   ]
  },
  {
   "cell_type": "code",
   "execution_count": 146,
   "metadata": {},
   "outputs": [
    {
     "data": {
      "text/html": [
       "<div>\n",
       "<style scoped>\n",
       "    .dataframe tbody tr th:only-of-type {\n",
       "        vertical-align: middle;\n",
       "    }\n",
       "\n",
       "    .dataframe tbody tr th {\n",
       "        vertical-align: top;\n",
       "    }\n",
       "\n",
       "    .dataframe thead th {\n",
       "        text-align: right;\n",
       "    }\n",
       "</style>\n",
       "<table border=\"1\" class=\"dataframe\">\n",
       "  <thead>\n",
       "    <tr style=\"text-align: right;\">\n",
       "      <th></th>\n",
       "      <th>ticker</th>\n",
       "      <th>open</th>\n",
       "      <th>close</th>\n",
       "      <th>low</th>\n",
       "      <th>high</th>\n",
       "      <th>volume</th>\n",
       "      <th>date</th>\n",
       "    </tr>\n",
       "  </thead>\n",
       "  <tbody>\n",
       "    <tr>\n",
       "      <th>0</th>\n",
       "      <td>PEP</td>\n",
       "      <td>137.96</td>\n",
       "      <td>138.6</td>\n",
       "      <td>136.93</td>\n",
       "      <td>139.19</td>\n",
       "      <td>7060000</td>\n",
       "      <td>2020-09-30</td>\n",
       "    </tr>\n",
       "    <tr>\n",
       "      <th>1</th>\n",
       "      <td>PEP</td>\n",
       "      <td>138.72</td>\n",
       "      <td>137.16</td>\n",
       "      <td>137.15</td>\n",
       "      <td>139.54</td>\n",
       "      <td>4330000</td>\n",
       "      <td>2020-09-29</td>\n",
       "    </tr>\n",
       "    <tr>\n",
       "      <th>2</th>\n",
       "      <td>PEP</td>\n",
       "      <td>135.96</td>\n",
       "      <td>137.97</td>\n",
       "      <td>135.75</td>\n",
       "      <td>138.58</td>\n",
       "      <td>7490000</td>\n",
       "      <td>2020-09-28</td>\n",
       "    </tr>\n",
       "    <tr>\n",
       "      <th>3</th>\n",
       "      <td>PEP</td>\n",
       "      <td>130.89</td>\n",
       "      <td>133.55</td>\n",
       "      <td>130.51</td>\n",
       "      <td>133.83</td>\n",
       "      <td>4580000</td>\n",
       "      <td>2020-09-25</td>\n",
       "    </tr>\n",
       "    <tr>\n",
       "      <th>4</th>\n",
       "      <td>PEP</td>\n",
       "      <td>131.27</td>\n",
       "      <td>131.58</td>\n",
       "      <td>129.94</td>\n",
       "      <td>132.31</td>\n",
       "      <td>4320000</td>\n",
       "      <td>2020-09-24</td>\n",
       "    </tr>\n",
       "  </tbody>\n",
       "</table>\n",
       "</div>"
      ],
      "text/plain": [
       "  ticker    open   close     low    high   volume       date\n",
       "0    PEP  137.96   138.6  136.93  139.19  7060000 2020-09-30\n",
       "1    PEP  138.72  137.16  137.15  139.54  4330000 2020-09-29\n",
       "2    PEP  135.96  137.97  135.75  138.58  7490000 2020-09-28\n",
       "3    PEP  130.89  133.55  130.51  133.83  4580000 2020-09-25\n",
       "4    PEP  131.27  131.58  129.94  132.31  4320000 2020-09-24"
      ]
     },
     "execution_count": 146,
     "metadata": {},
     "output_type": "execute_result"
    }
   ],
   "source": [
    "df_save.head()"
   ]
  },
  {
   "cell_type": "code",
   "execution_count": 147,
   "metadata": {},
   "outputs": [],
   "source": [
    "df_save.to_csv(\"./output/s_and_p_stock_price_history_from_investing_com.csv\")"
   ]
  },
  {
   "cell_type": "code",
   "execution_count": null,
   "metadata": {},
   "outputs": [],
   "source": []
  },
  {
   "cell_type": "code",
   "execution_count": null,
   "metadata": {},
   "outputs": [],
   "source": []
  }
 ],
 "metadata": {
  "kernelspec": {
   "display_name": "Python 3",
   "language": "python",
   "name": "python3"
  },
  "language_info": {
   "codemirror_mode": {
    "name": "ipython",
    "version": 3
   },
   "file_extension": ".py",
   "mimetype": "text/x-python",
   "name": "python",
   "nbconvert_exporter": "python",
   "pygments_lexer": "ipython3",
   "version": "3.7.3"
  }
 },
 "nbformat": 4,
 "nbformat_minor": 4
}
