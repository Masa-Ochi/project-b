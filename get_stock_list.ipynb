{
 "cells": [
  {
   "cell_type": "code",
   "execution_count": 22,
   "metadata": {},
   "outputs": [],
   "source": [
    "# 必要なパッケージのインストール"
   ]
  },
  {
   "cell_type": "code",
   "execution_count": 1,
   "metadata": {},
   "outputs": [],
   "source": [
    "#!pip install datapackage\n",
    "#!pip install SQLAlchemy\n",
    "#!pip install tableschema-sql"
   ]
  },
  {
   "cell_type": "code",
   "execution_count": 23,
   "metadata": {},
   "outputs": [],
   "source": [
    "# 銘柄データを取得してSQLLiteで保存\n",
    "# 参考（https://rainbow-engine.com/python-sqlalchemy-importcsv/）"
   ]
  },
  {
   "cell_type": "code",
   "execution_count": 15,
   "metadata": {},
   "outputs": [],
   "source": [
    "from sqlalchemy import create_engine\n",
    "engine = create_engine('sqlite:///periodic-table-datapackage_company.db')"
   ]
  },
  {
   "cell_type": "code",
   "execution_count": 20,
   "metadata": {},
   "outputs": [
    {
     "name": "stdout",
     "output_type": "stream",
     "text": [
      "['validation_report', 'constituents_csv', 'constituents_json', 's-and-p-500-companies_zip', 'constituents']\n"
     ]
    }
   ],
   "source": [
    "from datapackage import Package\n",
    "package = Package('https://datahub.io/core/s-and-p-500-companies/datapackage.json')"
   ]
  },
  {
   "cell_type": "code",
   "execution_count": 21,
   "metadata": {},
   "outputs": [
    {
     "data": {
      "text/plain": [
       "Storage <Engine(sqlite:///periodic-table-datapackage_company.db)/None>"
      ]
     },
     "execution_count": 21,
     "metadata": {},
     "output_type": "execute_result"
    }
   ],
   "source": [
    "package.save(storage='sql', engine=engine)"
   ]
  },
  {
   "cell_type": "code",
   "execution_count": 35,
   "metadata": {},
   "outputs": [],
   "source": [
    "# 銘柄情報テーブルの内容確認"
   ]
  },
  {
   "cell_type": "code",
   "execution_count": 33,
   "metadata": {},
   "outputs": [],
   "source": [
    "from sqlalchemy import Table, Column, Integer, String, MetaData\n",
    "tbl = Table('constituents_csv', MetaData(), autoload_with=engine)"
   ]
  },
  {
   "cell_type": "code",
   "execution_count": 34,
   "metadata": {},
   "outputs": [
    {
     "name": "stdout",
     "output_type": "stream",
     "text": [
      "['Symbol', 'Name', 'Sector']\n"
     ]
    }
   ],
   "source": [
    "print(tbl.c.keys())"
   ]
  },
  {
   "cell_type": "code",
   "execution_count": 38,
   "metadata": {},
   "outputs": [
    {
     "name": "stdout",
     "output_type": "stream",
     "text": [
      "[(505,)]\n"
     ]
    }
   ],
   "source": [
    "print(list(engine.execute('SELECT count() from constituents_csv')))"
   ]
  },
  {
   "cell_type": "code",
   "execution_count": 26,
   "metadata": {},
   "outputs": [],
   "source": [
    "# SQLで銘柄情報を取得"
   ]
  },
  {
   "cell_type": "code",
   "execution_count": 37,
   "metadata": {
    "collapsed": true
   },
   "outputs": [
    {
     "name": "stdout",
     "output_type": "stream",
     "text": [
      "[('MMM',), ('AOS',), ('ABT',), ('ABBV',), ('ABMD',), ('ACN',), ('ATVI',), ('ADBE',), ('AAP',), ('AMD',), ('AES',), ('AFL',), ('A',), ('APD',), ('AKAM',), ('ALK',), ('ALB',), ('ARE',), ('ALXN',), ('ALGN',), ('ALLE',), ('LNT',), ('ALL',), ('GOOGL',), ('GOOG',), ('MO',), ('AMZN',), ('AMCR',), ('AEE',), ('AAL',), ('AEP',), ('AXP',), ('AIG',), ('AMT',), ('AWK',), ('AMP',), ('ABC',), ('AME',), ('AMGN',), ('APH',), ('ADI',), ('ANSS',), ('ANTM',), ('AON',), ('APA',), ('AIV',), ('AAPL',), ('AMAT',), ('APTV',), ('ADM',), ('ANET',), ('AJG',), ('AIZ',), ('T',), ('ATO',), ('ADSK',), ('ADP',), ('AZO',), ('AVB',), ('AVY',), ('BKR',), ('BLL',), ('BAC',), ('BAX',), ('BDX',), ('BRK.B',), ('BBY',), ('BIO',), ('BIIB',), ('BLK',), ('BA',), ('BKNG',), ('BWA',), ('BXP',), ('BSX',), ('BMY',), ('AVGO',), ('BR',), ('BF.B',), ('CHRW',), ('COG',), ('CDNS',), ('CPB',), ('COF',), ('CAH',), ('KMX',), ('CCL',), ('CARR',), ('CAT',), ('CBOE',), ('CBRE',), ('CDW',), ('CE',), ('CNC',), ('CNP',), ('CTL',), ('CERN',), ('CF',), ('SCHW',), ('CHTR',), ('CVX',), ('CMG',), ('CB',), ('CHD',), ('CI',), ('CINF',), ('CTAS',), ('CSCO',), ('C',), ('CFG',), ('CTXS',), ('CME',), ('CMS',), ('KO',), ('CTSH',), ('CL',), ('CMCSA',), ('CMA',), ('CAG',), ('CXO',), ('COP',), ('ED',), ('STZ',), ('CPRT',), ('GLW',), ('CTVA',), ('COST',), ('COTY',), ('CCI',), ('CSX',), ('CMI',), ('CVS',), ('DHI',), ('DHR',), ('DRI',), ('DVA',), ('DE',), ('DAL',), ('XRAY',), ('DVN',), ('DXCM',), ('FANG',), ('DLR',), ('DFS',), ('DISCA',), ('DISCK',), ('DISH',), ('DG',), ('DLTR',), ('D',), ('DPZ',), ('DOV',), ('DOW',), ('DTE',), ('DUK',), ('DRE',), ('DD',), ('DXC',), ('ETFC',), ('EMN',), ('ETN',), ('EBAY',), ('ECL',), ('EIX',), ('EW',), ('EA',), ('EMR',), ('ETR',), ('EOG',), ('EFX',), ('EQIX',), ('EQR',), ('ESS',), ('EL',), ('RE',), ('EVRG',), ('ES',), ('EXC',), ('EXPE',), ('EXPD',), ('EXR',), ('XOM',), ('FFIV',), ('FB',), ('FAST',), ('FRT',), ('FDX',), ('FIS',), ('FITB',), ('FRC',), ('FE',), ('FISV',), ('FLT',), ('FLIR',), ('FLS',), ('FMC',), ('F',), ('FTNT',), ('FTV',), ('FBHS',), ('FOXA',), ('FOX',), ('BEN',), ('FCX',), ('GPS',), ('GRMN',), ('IT',), ('GD',), ('GE',), ('GIS',), ('GM',), ('GPC',), ('GILD',), ('GPN',), ('GL',), ('GS',), ('GWW',), ('HRB',), ('HAL',), ('HBI',), ('HIG',), ('HAS',), ('HCA',), ('PEAK',), ('HSIC',), ('HES',), ('HPE',), ('HLT',), ('HFC',), ('HOLX',), ('HD',), ('HON',), ('HRL',), ('HST',), ('HWM',), ('HPQ',), ('HUM',), ('HBAN',), ('HII',), ('IEX',), ('IDXX',), ('INFO',), ('ITW',), ('ILMN',), ('INCY',), ('IR',), ('INTC',), ('ICE',), ('IBM',), ('IFF',), ('IP',), ('IPG',), ('INTU',), ('ISRG',), ('IVZ',), ('IPGP',), ('IQV',), ('IRM',), ('JBHT',), ('JKHY',), ('J',), ('SJM',), ('JNJ',), ('JCI',), ('JPM',), ('JNPR',), ('KSU',), ('K',), ('KEY',), ('KEYS',), ('KMB',), ('KIM',), ('KMI',), ('KLAC',), ('KSS',), ('KHC',), ('KR',), ('LB',), ('LHX',), ('LH',), ('LRCX',), ('LW',), ('LVS',), ('LEG',), ('LDOS',), ('LEN',), ('LLY',), ('LNC',), ('LIN',), ('LYV',), ('LKQ',), ('LMT',), ('L',), ('LOW',), ('LYB',), ('MTB',), ('MRO',), ('MPC',), ('MKTX',), ('MAR',), ('MMC',), ('MLM',), ('MAS',), ('MA',), ('MXIM',), ('MKC',), ('MCD',), ('MCK',), ('MDT',), ('MRK',), ('MET',), ('MTD',), ('MGM',), ('MCHP',), ('MU',), ('MSFT',), ('MAA',), ('MHK',), ('TAP',), ('MDLZ',), ('MNST',), ('MCO',), ('MS',), ('MSI',), ('MSCI',), ('MYL',), ('NDAQ',), ('NOV',), ('NTAP',), ('NFLX',), ('NWL',), ('NEM',), ('NWSA',), ('NWS',), ('NEE',), ('NLSN',), ('NKE',), ('NI',), ('NBL',), ('NSC',), ('NTRS',), ('NOC',), ('NLOK',), ('NCLH',), ('NRG',), ('NUE',), ('NVDA',), ('NVR',), ('ORLY',), ('OXY',), ('ODFL',), ('OMC',), ('OKE',), ('ORCL',), ('OTIS',), ('PCAR',), ('PKG',), ('PH',), ('PAYX',), ('PAYC',), ('PYPL',), ('PNR',), ('PBCT',), ('PEP',), ('PKI',), ('PRGO',), ('PFE',), ('PM',), ('PSX',), ('PNW',), ('PXD',), ('PNC',), ('PPG',), ('PPL',), ('PFG',), ('PG',), ('PGR',), ('PLD',), ('PRU',), ('PEG',), ('PSA',), ('PHM',), ('PVH',), ('QRVO',), ('QCOM',), ('PWR',), ('DGX',), ('RL',), ('RJF',), ('RTX',), ('O',), ('REG',), ('REGN',), ('RF',), ('RSG',), ('RMD',), ('RHI',), ('ROK',), ('ROL',), ('ROP',), ('ROST',), ('RCL',), ('SPGI',), ('CRM',), ('SBAC',), ('SLB',), ('STX',), ('SEE',), ('SRE',), ('NOW',), ('SHW',), ('SPG',), ('SWKS',), ('SLG',), ('SNA',), ('SO',), ('LUV',), ('SWK',), ('SBUX',), ('STT',), ('STE',), ('SYK',), ('SIVB',), ('SYF',), ('SNPS',), ('SYY',), ('TMUS',), ('TROW',), ('TTWO',), ('TPR',), ('TGT',), ('TEL',), ('FTI',), ('TDY',), ('TFX',), ('TXN',), ('TXT',), ('BK',), ('CLX',), ('COO',), ('HSY',), ('MOS',), ('TRV',), ('DIS',), ('TMO',), ('TIF',), ('TJX',), ('TSCO',), ('TT',), ('TDG',), ('TFC',), ('TWTR',), ('TYL',), ('TSN',), ('USB',), ('UDR',), ('ULTA',), ('UAA',), ('UA',), ('UNP',), ('UAL',), ('UNH',), ('UPS',), ('URI',), ('UHS',), ('UNM',), ('VLO',), ('VAR',), ('VTR',), ('VRSN',), ('VRSK',), ('VZ',), ('VRTX',), ('VFC',), ('VIAC',), ('V',), ('VNO',), ('VMC',), ('WRB',), ('WAB',), ('WBA',), ('WMT',), ('WM',), ('WAT',), ('WEC',), ('WFC',), ('WELL',), ('WST',), ('WDC',), ('WU',), ('WRK',), ('WY',), ('WHR',), ('WMB',), ('WLTW',), ('WYNN',), ('XEL',), ('XRX',), ('XLNX',), ('XYL',), ('YUM',), ('ZBRA',), ('ZBH',), ('ZION',), ('ZTS',)]\n"
     ]
    }
   ],
   "source": [
    "#print(list(engine.execute('SELECT * from constituents_csv where Name like \\'%Bank%\\'')))\n",
    "print(list(engine.execute('SELECT Symbol from constituents_csv')))"
   ]
  }
 ],
 "metadata": {
  "kernelspec": {
   "display_name": "Python 3",
   "language": "python",
   "name": "python3"
  },
  "language_info": {
   "codemirror_mode": {
    "name": "ipython",
    "version": 3
   },
   "file_extension": ".py",
   "mimetype": "text/x-python",
   "name": "python",
   "nbconvert_exporter": "python",
   "pygments_lexer": "ipython3",
   "version": "3.7.3"
  }
 },
 "nbformat": 4,
 "nbformat_minor": 2
}
