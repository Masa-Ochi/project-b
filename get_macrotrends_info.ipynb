{
 "cells": [
  {
   "cell_type": "markdown",
   "metadata": {},
   "source": [
    "# 必要なパッケージのインストール"
   ]
  },
  {
   "cell_type": "code",
   "execution_count": 1,
   "metadata": {},
   "outputs": [],
   "source": [
    "#!pip install pandas\n",
    "#!pip install datapackage\n",
    "#!pip install SQLAlchemy\n",
    "#!pip install tableschema-sql"
   ]
  },
  {
   "cell_type": "markdown",
   "metadata": {},
   "source": [
    "# 銘柄データを取得してSQLLiteで保存\n",
    "# 参考（https://rainbow-engine.com/python-sqlalchemy-importcsv/）"
   ]
  },
  {
   "cell_type": "code",
   "execution_count": 119,
   "metadata": {},
   "outputs": [],
   "source": [
    "from sqlalchemy import create_engine\n",
    "engine = create_engine('sqlite:///periodic-table-datapackage_company.db')"
   ]
  },
  {
   "cell_type": "code",
   "execution_count": 120,
   "metadata": {},
   "outputs": [],
   "source": [
    "from datapackage import Package\n",
    "package = Package('https://datahub.io/core/s-and-p-500-companies/datapackage.json')\n",
    "#package.resource_names"
   ]
  },
  {
   "cell_type": "code",
   "execution_count": 121,
   "metadata": {},
   "outputs": [
    {
     "data": {
      "text/plain": [
       "Storage <Engine(sqlite:///periodic-table-datapackage_company.db)/None>"
      ]
     },
     "execution_count": 121,
     "metadata": {},
     "output_type": "execute_result"
    }
   ],
   "source": [
    "package.save(storage='sql', engine=engine)"
   ]
  },
  {
   "cell_type": "markdown",
   "metadata": {},
   "source": [
    "# 銘柄情報テーブルの内容確認"
   ]
  },
  {
   "cell_type": "code",
   "execution_count": 123,
   "metadata": {},
   "outputs": [],
   "source": [
    "from sqlalchemy import Table, Column, Integer, String, MetaData\n",
    "tbl = Table('constituents_csv', MetaData(), autoload_with=engine)"
   ]
  },
  {
   "cell_type": "code",
   "execution_count": 124,
   "metadata": {},
   "outputs": [
    {
     "name": "stdout",
     "output_type": "stream",
     "text": [
      "['Symbol', 'Name', 'Sector']\n"
     ]
    }
   ],
   "source": [
    "print(tbl.c.keys())"
   ]
  },
  {
   "cell_type": "code",
   "execution_count": 125,
   "metadata": {},
   "outputs": [
    {
     "name": "stdout",
     "output_type": "stream",
     "text": [
      "[(505,)]\n"
     ]
    }
   ],
   "source": [
    "print(list(engine.execute('SELECT count() from constituents_csv')))"
   ]
  },
  {
   "cell_type": "markdown",
   "metadata": {},
   "source": [
    "# SQLで銘柄情報を取得"
   ]
  },
  {
   "cell_type": "code",
   "execution_count": 127,
   "metadata": {
    "scrolled": true
   },
   "outputs": [
    {
     "name": "stdout",
     "output_type": "stream",
     "text": [
      "[('MMM',), ('AOS',), ('ABT',), ('ABBV',), ('ABMD',), ('ACN',), ('ATVI',), ('ADBE',), ('AAP',), ('AMD',)]\n"
     ]
    }
   ],
   "source": [
    "#print(list(engine.execute('SELECT * from constituents_csv where Name like \\'%Bank%\\'')))\n",
    "print(list(engine.execute('SELECT Symbol from constituents_csv limit 10')))"
   ]
  },
  {
   "cell_type": "markdown",
   "metadata": {},
   "source": [
    "# DataFrame形式で作成"
   ]
  },
  {
   "cell_type": "code",
   "execution_count": 214,
   "metadata": {},
   "outputs": [],
   "source": [
    "import pandas as pd\n",
    "df = pd.DataFrame(list(engine.execute('SELECT * from constituents_csv')))\n",
    "df.columns = ['Symbol', 'Name', 'Sector']\n",
    "df.set_index(\"Symbol\",inplace=True)"
   ]
  },
  {
   "cell_type": "code",
   "execution_count": 216,
   "metadata": {},
   "outputs": [],
   "source": [
    "df.to_csv(\"./output/s_and_p_stock_list.csv\")"
   ]
  },
  {
   "cell_type": "code",
   "execution_count": 33,
   "metadata": {},
   "outputs": [],
   "source": [
    "# 追加情報付きのデータ取得"
   ]
  },
  {
   "cell_type": "code",
   "execution_count": 2,
   "metadata": {},
   "outputs": [],
   "source": [
    "from datapackage import Package\n",
    "package = Package('https://datahub.io/core/s-and-p-500-companies-financials/datapackage.json')"
   ]
  },
  {
   "cell_type": "code",
   "execution_count": 34,
   "metadata": {},
   "outputs": [],
   "source": [
    "## 取得したデータ内容の確認とCS"
   ]
  },
  {
   "cell_type": "code",
   "execution_count": 17,
   "metadata": {},
   "outputs": [
    {
     "data": {
      "text/plain": [
       "['validation_report',\n",
       " 'constituents_csv',\n",
       " 'constituents-financials_csv',\n",
       " 'constituents_json',\n",
       " 'constituents-financials_json',\n",
       " 's-and-p-500-companies-financials_zip',\n",
       " 'constituents',\n",
       " 'constituents-financials']"
      ]
     },
     "execution_count": 17,
     "metadata": {},
     "output_type": "execute_result"
    }
   ],
   "source": [
    "package.resource_names\n",
    "# package.get_resource('constituents-financials_csv').read()"
   ]
  },
  {
   "cell_type": "code",
   "execution_count": 27,
   "metadata": {
    "scrolled": true
   },
   "outputs": [
    {
     "data": {
      "text/plain": [
       "Storage <Engine(sqlite:///periodic-table-datapackage_company-wk.db)/None>"
      ]
     },
     "execution_count": 27,
     "metadata": {},
     "output_type": "execute_result"
    }
   ],
   "source": [
    "engine = create_engine('sqlite:///periodic-table-datapackage_company-wk.db')\n",
    "package.save(storage='sql', engine=engine)"
   ]
  },
  {
   "cell_type": "markdown",
   "metadata": {},
   "source": [
    "# 1970~2018年の株価データの確認"
   ]
  },
  {
   "cell_type": "code",
   "execution_count": 57,
   "metadata": {},
   "outputs": [],
   "source": [
    "import pandas as pd\n",
    "df = pd.read_csv('./resource_files/historical_stock_prices.csv.zip', sep=',', header=0)"
   ]
  },
  {
   "cell_type": "code",
   "execution_count": 58,
   "metadata": {},
   "outputs": [
    {
     "name": "stdout",
     "output_type": "stream",
     "text": [
      "<class 'pandas.core.frame.DataFrame'>\n",
      "RangeIndex: 20973889 entries, 0 to 20973888\n",
      "Data columns (total 8 columns):\n",
      "ticker       object\n",
      "open         float64\n",
      "close        float64\n",
      "adj_close    float64\n",
      "low          float64\n",
      "high         float64\n",
      "volume       int64\n",
      "date         object\n",
      "dtypes: float64(5), int64(1), object(2)\n",
      "memory usage: 1.3+ GB\n"
     ]
    }
   ],
   "source": [
    "df.info()"
   ]
  },
  {
   "cell_type": "code",
   "execution_count": 60,
   "metadata": {},
   "outputs": [
    {
     "data": {
      "text/html": [
       "<div>\n",
       "<style scoped>\n",
       "    .dataframe tbody tr th:only-of-type {\n",
       "        vertical-align: middle;\n",
       "    }\n",
       "\n",
       "    .dataframe tbody tr th {\n",
       "        vertical-align: top;\n",
       "    }\n",
       "\n",
       "    .dataframe thead th {\n",
       "        text-align: right;\n",
       "    }\n",
       "</style>\n",
       "<table border=\"1\" class=\"dataframe\">\n",
       "  <thead>\n",
       "    <tr style=\"text-align: right;\">\n",
       "      <th></th>\n",
       "      <th>ticker</th>\n",
       "      <th>open</th>\n",
       "      <th>close</th>\n",
       "      <th>adj_close</th>\n",
       "      <th>low</th>\n",
       "      <th>high</th>\n",
       "      <th>volume</th>\n",
       "      <th>date</th>\n",
       "    </tr>\n",
       "  </thead>\n",
       "  <tbody>\n",
       "    <tr>\n",
       "      <th>0</th>\n",
       "      <td>AHH</td>\n",
       "      <td>11.50</td>\n",
       "      <td>11.58</td>\n",
       "      <td>8.493155</td>\n",
       "      <td>11.25</td>\n",
       "      <td>11.68</td>\n",
       "      <td>4633900</td>\n",
       "      <td>2013-05-08</td>\n",
       "    </tr>\n",
       "    <tr>\n",
       "      <th>1</th>\n",
       "      <td>AHH</td>\n",
       "      <td>11.66</td>\n",
       "      <td>11.55</td>\n",
       "      <td>8.471151</td>\n",
       "      <td>11.50</td>\n",
       "      <td>11.66</td>\n",
       "      <td>275800</td>\n",
       "      <td>2013-05-09</td>\n",
       "    </tr>\n",
       "    <tr>\n",
       "      <th>2</th>\n",
       "      <td>AHH</td>\n",
       "      <td>11.55</td>\n",
       "      <td>11.60</td>\n",
       "      <td>8.507822</td>\n",
       "      <td>11.50</td>\n",
       "      <td>11.60</td>\n",
       "      <td>277100</td>\n",
       "      <td>2013-05-10</td>\n",
       "    </tr>\n",
       "    <tr>\n",
       "      <th>3</th>\n",
       "      <td>AHH</td>\n",
       "      <td>11.63</td>\n",
       "      <td>11.65</td>\n",
       "      <td>8.544494</td>\n",
       "      <td>11.55</td>\n",
       "      <td>11.65</td>\n",
       "      <td>147400</td>\n",
       "      <td>2013-05-13</td>\n",
       "    </tr>\n",
       "    <tr>\n",
       "      <th>4</th>\n",
       "      <td>AHH</td>\n",
       "      <td>11.60</td>\n",
       "      <td>11.53</td>\n",
       "      <td>8.456484</td>\n",
       "      <td>11.50</td>\n",
       "      <td>11.60</td>\n",
       "      <td>184100</td>\n",
       "      <td>2013-05-14</td>\n",
       "    </tr>\n",
       "  </tbody>\n",
       "</table>\n",
       "</div>"
      ],
      "text/plain": [
       "  ticker   open  close  adj_close    low   high   volume        date\n",
       "0    AHH  11.50  11.58   8.493155  11.25  11.68  4633900  2013-05-08\n",
       "1    AHH  11.66  11.55   8.471151  11.50  11.66   275800  2013-05-09\n",
       "2    AHH  11.55  11.60   8.507822  11.50  11.60   277100  2013-05-10\n",
       "3    AHH  11.63  11.65   8.544494  11.55  11.65   147400  2013-05-13\n",
       "4    AHH  11.60  11.53   8.456484  11.50  11.60   184100  2013-05-14"
      ]
     },
     "execution_count": 60,
     "metadata": {},
     "output_type": "execute_result"
    }
   ],
   "source": [
    "df.head()"
   ]
  },
  {
   "cell_type": "code",
   "execution_count": 61,
   "metadata": {
    "scrolled": true
   },
   "outputs": [
    {
     "data": {
      "text/html": [
       "<div>\n",
       "<style scoped>\n",
       "    .dataframe tbody tr th:only-of-type {\n",
       "        vertical-align: middle;\n",
       "    }\n",
       "\n",
       "    .dataframe tbody tr th {\n",
       "        vertical-align: top;\n",
       "    }\n",
       "\n",
       "    .dataframe thead th {\n",
       "        text-align: right;\n",
       "    }\n",
       "</style>\n",
       "<table border=\"1\" class=\"dataframe\">\n",
       "  <thead>\n",
       "    <tr style=\"text-align: right;\">\n",
       "      <th></th>\n",
       "      <th>ticker</th>\n",
       "      <th>open</th>\n",
       "      <th>close</th>\n",
       "      <th>adj_close</th>\n",
       "      <th>low</th>\n",
       "      <th>high</th>\n",
       "      <th>volume</th>\n",
       "      <th>date</th>\n",
       "    </tr>\n",
       "  </thead>\n",
       "  <tbody>\n",
       "    <tr>\n",
       "      <th>20973884</th>\n",
       "      <td>NZF</td>\n",
       "      <td>14.60</td>\n",
       "      <td>14.59</td>\n",
       "      <td>14.59</td>\n",
       "      <td>14.58</td>\n",
       "      <td>14.62</td>\n",
       "      <td>137500</td>\n",
       "      <td>2018-08-20</td>\n",
       "    </tr>\n",
       "    <tr>\n",
       "      <th>20973885</th>\n",
       "      <td>NZF</td>\n",
       "      <td>14.60</td>\n",
       "      <td>14.58</td>\n",
       "      <td>14.58</td>\n",
       "      <td>14.57</td>\n",
       "      <td>14.61</td>\n",
       "      <td>151200</td>\n",
       "      <td>2018-08-21</td>\n",
       "    </tr>\n",
       "    <tr>\n",
       "      <th>20973886</th>\n",
       "      <td>NZF</td>\n",
       "      <td>14.58</td>\n",
       "      <td>14.59</td>\n",
       "      <td>14.59</td>\n",
       "      <td>14.57</td>\n",
       "      <td>14.63</td>\n",
       "      <td>185400</td>\n",
       "      <td>2018-08-22</td>\n",
       "    </tr>\n",
       "    <tr>\n",
       "      <th>20973887</th>\n",
       "      <td>NZF</td>\n",
       "      <td>14.60</td>\n",
       "      <td>14.57</td>\n",
       "      <td>14.57</td>\n",
       "      <td>14.57</td>\n",
       "      <td>14.64</td>\n",
       "      <td>135600</td>\n",
       "      <td>2018-08-23</td>\n",
       "    </tr>\n",
       "    <tr>\n",
       "      <th>20973888</th>\n",
       "      <td>NZF</td>\n",
       "      <td>14.60</td>\n",
       "      <td>14.69</td>\n",
       "      <td>14.69</td>\n",
       "      <td>14.59</td>\n",
       "      <td>14.69</td>\n",
       "      <td>180900</td>\n",
       "      <td>2018-08-24</td>\n",
       "    </tr>\n",
       "  </tbody>\n",
       "</table>\n",
       "</div>"
      ],
      "text/plain": [
       "         ticker   open  close  adj_close    low   high  volume        date\n",
       "20973884    NZF  14.60  14.59      14.59  14.58  14.62  137500  2018-08-20\n",
       "20973885    NZF  14.60  14.58      14.58  14.57  14.61  151200  2018-08-21\n",
       "20973886    NZF  14.58  14.59      14.59  14.57  14.63  185400  2018-08-22\n",
       "20973887    NZF  14.60  14.57      14.57  14.57  14.64  135600  2018-08-23\n",
       "20973888    NZF  14.60  14.69      14.69  14.59  14.69  180900  2018-08-24"
      ]
     },
     "execution_count": 61,
     "metadata": {},
     "output_type": "execute_result"
    }
   ],
   "source": [
    "df.tail()"
   ]
  },
  {
   "cell_type": "code",
   "execution_count": 64,
   "metadata": {},
   "outputs": [
    {
     "data": {
      "text/html": [
       "<div>\n",
       "<style scoped>\n",
       "    .dataframe tbody tr th:only-of-type {\n",
       "        vertical-align: middle;\n",
       "    }\n",
       "\n",
       "    .dataframe tbody tr th {\n",
       "        vertical-align: top;\n",
       "    }\n",
       "\n",
       "    .dataframe thead th {\n",
       "        text-align: right;\n",
       "    }\n",
       "</style>\n",
       "<table border=\"1\" class=\"dataframe\">\n",
       "  <thead>\n",
       "    <tr style=\"text-align: right;\">\n",
       "      <th></th>\n",
       "      <th>date</th>\n",
       "    </tr>\n",
       "  </thead>\n",
       "  <tbody>\n",
       "    <tr>\n",
       "      <th>min</th>\n",
       "      <td>1970-01-02</td>\n",
       "    </tr>\n",
       "    <tr>\n",
       "      <th>max</th>\n",
       "      <td>2018-08-24</td>\n",
       "    </tr>\n",
       "  </tbody>\n",
       "</table>\n",
       "</div>"
      ],
      "text/plain": [
       "           date\n",
       "min  1970-01-02\n",
       "max  2018-08-24"
      ]
     },
     "execution_count": 64,
     "metadata": {},
     "output_type": "execute_result"
    }
   ],
   "source": [
    "df.agg({\"date\":[min,max]})"
   ]
  },
  {
   "cell_type": "code",
   "execution_count": 63,
   "metadata": {},
   "outputs": [
    {
     "data": {
      "text/html": [
       "<div>\n",
       "<style scoped>\n",
       "    .dataframe tbody tr th:only-of-type {\n",
       "        vertical-align: middle;\n",
       "    }\n",
       "\n",
       "    .dataframe tbody tr th {\n",
       "        vertical-align: top;\n",
       "    }\n",
       "\n",
       "    .dataframe thead th {\n",
       "        text-align: right;\n",
       "    }\n",
       "</style>\n",
       "<table border=\"1\" class=\"dataframe\">\n",
       "  <thead>\n",
       "    <tr style=\"text-align: right;\">\n",
       "      <th></th>\n",
       "      <th>date</th>\n",
       "    </tr>\n",
       "  </thead>\n",
       "  <tbody>\n",
       "    <tr>\n",
       "      <th>min</th>\n",
       "      <td>1970-01-02</td>\n",
       "    </tr>\n",
       "    <tr>\n",
       "      <th>max</th>\n",
       "      <td>2018-08-24</td>\n",
       "    </tr>\n",
       "  </tbody>\n",
       "</table>\n",
       "</div>"
      ],
      "text/plain": [
       "           date\n",
       "min  1970-01-02\n",
       "max  2018-08-24"
      ]
     },
     "execution_count": 63,
     "metadata": {},
     "output_type": "execute_result"
    }
   ],
   "source": [
    "df.query(\"ticker=='MMM'\").agg({\"date\":[min,max]})"
   ]
  },
  {
   "cell_type": "markdown",
   "metadata": {},
   "source": [
    "# Macrotrendsからデータを抽出"
   ]
  },
  {
   "cell_type": "markdown",
   "metadata": {
    "toc-hr-collapsed": true
   },
   "source": [
    "## クローラーの準備"
   ]
  },
  {
   "cell_type": "markdown",
   "metadata": {},
   "source": [
    "### 必要なパッケージのインストール"
   ]
  },
  {
   "cell_type": "code",
   "execution_count": 90,
   "metadata": {},
   "outputs": [],
   "source": [
    "# !pip install selenium"
   ]
  },
  {
   "cell_type": "code",
   "execution_count": 16,
   "metadata": {},
   "outputs": [],
   "source": [
    "import os\n",
    "import pandas as pd"
   ]
  },
  {
   "cell_type": "code",
   "execution_count": 2,
   "metadata": {},
   "outputs": [
    {
     "name": "stderr",
     "output_type": "stream",
     "text": [
      "/usr/local/var/pyenv/versions/3.7.3/lib/python3.7/site-packages/ipykernel_launcher.py:7: DeprecationWarning: use options instead of chrome_options\n",
      "  import sys\n"
     ]
    }
   ],
   "source": [
    "from selenium import webdriver\n",
    "from selenium.webdriver.chrome.options import Options\n",
    "# headless optionの設定\n",
    "options = Options()\n",
    "options.add_argument(\"--headless\");\n",
    "# driverの定義\n",
    "driver = webdriver.Chrome(executable_path=\"./resource_files/chromedriver\", chrome_options=options)"
   ]
  },
  {
   "cell_type": "markdown",
   "metadata": {},
   "source": [
    "## Macrotrendsへのクローラーの設定"
   ]
  },
  {
   "cell_type": "code",
   "execution_count": 4,
   "metadata": {},
   "outputs": [],
   "source": [
    "url = \"https://www.macrotrends.net/stocks/charts/\""
   ]
  },
  {
   "cell_type": "code",
   "execution_count": 5,
   "metadata": {},
   "outputs": [],
   "source": [
    "# MacrotrendsのTopページへアクセス\n",
    "driver.get(os.path.join(url, \"MMM\"))\n",
    "target_url = driver.current_url\n",
    "\n",
    "# 以降、Topページからの検索はjQueryでうまく実行できないため、銘柄ごとのURLを取得して、必要な情報のパスを追加してアクセスする"
   ]
  },
  {
   "cell_type": "markdown",
   "metadata": {},
   "source": [
    "## データ取得処理のサンプル"
   ]
  },
  {
   "cell_type": "code",
   "execution_count": 298,
   "metadata": {},
   "outputs": [
    {
     "data": {
      "text/plain": [
       "['2020-09-30', '8,350']"
      ]
     },
     "execution_count": 298,
     "metadata": {},
     "output_type": "execute_result"
    }
   ],
   "source": [
    "## revenue\n",
    "driver.get(os.path.join(target_url, \"revenue\"))\n",
    "elements = driver.find_elements_by_css_selector('#style-1 > .col-xs-6:nth-child(2) > .historical_data_table.table > tbody > tr')\n",
    "\n",
    "# サンプルの取得例\n",
    "elements[0].text.split(\" $\")"
   ]
  },
  {
   "cell_type": "code",
   "execution_count": 307,
   "metadata": {},
   "outputs": [
    {
     "data": {
      "text/plain": [
       "['2020-09-30', '$8,350']"
      ]
     },
     "execution_count": 307,
     "metadata": {},
     "output_type": "execute_result"
    }
   ],
   "source": [
    "list(map(lambda f: f.text, elements[0].find_elements_by_css_selector('td')))"
   ]
  },
  {
   "cell_type": "code",
   "execution_count": 240,
   "metadata": {
    "scrolled": true
   },
   "outputs": [
    {
     "data": {
      "text/html": [
       "<div>\n",
       "<style scoped>\n",
       "    .dataframe tbody tr th:only-of-type {\n",
       "        vertical-align: middle;\n",
       "    }\n",
       "\n",
       "    .dataframe tbody tr th {\n",
       "        vertical-align: top;\n",
       "    }\n",
       "\n",
       "    .dataframe thead th {\n",
       "        text-align: right;\n",
       "    }\n",
       "</style>\n",
       "<table border=\"1\" class=\"dataframe\">\n",
       "  <thead>\n",
       "    <tr style=\"text-align: right;\">\n",
       "      <th></th>\n",
       "      <th>SYMBOL</th>\n",
       "      <th>INDICATOR</th>\n",
       "      <th>DATE</th>\n",
       "      <th>VALUE</th>\n",
       "      <th>UNIT</th>\n",
       "    </tr>\n",
       "  </thead>\n",
       "  <tbody>\n",
       "    <tr>\n",
       "      <th>58</th>\n",
       "      <td>MMM</td>\n",
       "      <td>cost-goods-sold</td>\n",
       "      <td>2006-03-31</td>\n",
       "      <td>5,595</td>\n",
       "      <td>$</td>\n",
       "    </tr>\n",
       "    <tr>\n",
       "      <th>59</th>\n",
       "      <td>MMM</td>\n",
       "      <td>cost-goods-sold</td>\n",
       "      <td>2005-12-31</td>\n",
       "      <td>5,325</td>\n",
       "      <td>$</td>\n",
       "    </tr>\n",
       "    <tr>\n",
       "      <th>60</th>\n",
       "      <td>MMM</td>\n",
       "      <td>cost-goods-sold</td>\n",
       "      <td>2005-09-30</td>\n",
       "      <td>5,382</td>\n",
       "      <td>$</td>\n",
       "    </tr>\n",
       "    <tr>\n",
       "      <th>61</th>\n",
       "      <td>MMM</td>\n",
       "      <td>cost-goods-sold</td>\n",
       "      <td>2005-06-30</td>\n",
       "      <td>5,294</td>\n",
       "      <td>$</td>\n",
       "    </tr>\n",
       "    <tr>\n",
       "      <th>62</th>\n",
       "      <td>MMM</td>\n",
       "      <td>cost-goods-sold</td>\n",
       "      <td>2005-03-31</td>\n",
       "      <td>5,166</td>\n",
       "      <td>$</td>\n",
       "    </tr>\n",
       "  </tbody>\n",
       "</table>\n",
       "</div>"
      ],
      "text/plain": [
       "   SYMBOL        INDICATOR        DATE  VALUE UNIT\n",
       "58    MMM  cost-goods-sold  2006-03-31  5,595    $\n",
       "59    MMM  cost-goods-sold  2005-12-31  5,325    $\n",
       "60    MMM  cost-goods-sold  2005-09-30  5,382    $\n",
       "61    MMM  cost-goods-sold  2005-06-30  5,294    $\n",
       "62    MMM  cost-goods-sold  2005-03-31  5,166    $"
      ]
     },
     "execution_count": 240,
     "metadata": {},
     "output_type": "execute_result"
    }
   ],
   "source": [
    "## revenue (rule 2)\n",
    "driver.get(os.path.join(target_url, \"revenue\"))\n",
    "elements = driver.find_elements_by_css_selector('#style-1 > .col-xs-6:nth-child(2) > .historical_data_table.table > tbody > tr')\n",
    "\n",
    "# サンプルの取得例\n",
    "# elements[0].text.split(\" $\")\n",
    "\n",
    "# サンプルdfの生成例\n",
    "df =pd.DataFrame([], columns=[\"SYMBOL\", \"INDICATOR\", \"DATE\", \"VALUE\", \"UNIT\"])\n",
    "for i in range(0, len(elements)):\n",
    "    indicator = \"cost-goods-sold\"\n",
    "    date_val, val = elements[i].text.split(\" $\")\n",
    "    df = df.append({'SYMBOL': \"MMM\", 'INDICATOR': indicator, 'DATE': date_val, 'VALUE': val, \"UNIT\": \"$\"}, ignore_index=True)\n",
    "df.tail()"
   ]
  },
  {
   "cell_type": "code",
   "execution_count": 242,
   "metadata": {},
   "outputs": [
    {
     "data": {
      "text/html": [
       "<div>\n",
       "<style scoped>\n",
       "    .dataframe tbody tr th:only-of-type {\n",
       "        vertical-align: middle;\n",
       "    }\n",
       "\n",
       "    .dataframe tbody tr th {\n",
       "        vertical-align: top;\n",
       "    }\n",
       "\n",
       "    .dataframe thead th {\n",
       "        text-align: right;\n",
       "    }\n",
       "</style>\n",
       "<table border=\"1\" class=\"dataframe\">\n",
       "  <thead>\n",
       "    <tr style=\"text-align: right;\">\n",
       "      <th></th>\n",
       "      <th>SYMBOL</th>\n",
       "      <th>INDICATOR</th>\n",
       "      <th>DATE</th>\n",
       "      <th>VALUE</th>\n",
       "      <th>UNIT</th>\n",
       "    </tr>\n",
       "  </thead>\n",
       "  <tbody>\n",
       "    <tr>\n",
       "      <th>55</th>\n",
       "      <td>MMM</td>\n",
       "      <td>cost-goods-sold</td>\n",
       "      <td>2006-12-31</td>\n",
       "      <td>48.90</td>\n",
       "      <td>%</td>\n",
       "    </tr>\n",
       "    <tr>\n",
       "      <th>56</th>\n",
       "      <td>MMM</td>\n",
       "      <td>cost-goods-sold</td>\n",
       "      <td>2006-09-30</td>\n",
       "      <td>50.27</td>\n",
       "      <td>%</td>\n",
       "    </tr>\n",
       "    <tr>\n",
       "      <th>57</th>\n",
       "      <td>MMM</td>\n",
       "      <td>cost-goods-sold</td>\n",
       "      <td>2006-06-30</td>\n",
       "      <td>50.80</td>\n",
       "      <td>%</td>\n",
       "    </tr>\n",
       "    <tr>\n",
       "      <th>58</th>\n",
       "      <td>MMM</td>\n",
       "      <td>cost-goods-sold</td>\n",
       "      <td>2006-03-31</td>\n",
       "      <td>51.01</td>\n",
       "      <td>%</td>\n",
       "    </tr>\n",
       "    <tr>\n",
       "      <th>59</th>\n",
       "      <td>MMM</td>\n",
       "      <td>cost-goods-sold</td>\n",
       "      <td>2005-12-31</td>\n",
       "      <td>50.83</td>\n",
       "      <td>%</td>\n",
       "    </tr>\n",
       "  </tbody>\n",
       "</table>\n",
       "</div>"
      ],
      "text/plain": [
       "   SYMBOL        INDICATOR        DATE  VALUE UNIT\n",
       "55    MMM  cost-goods-sold  2006-12-31  48.90    %\n",
       "56    MMM  cost-goods-sold  2006-09-30  50.27    %\n",
       "57    MMM  cost-goods-sold  2006-06-30  50.80    %\n",
       "58    MMM  cost-goods-sold  2006-03-31  51.01    %\n",
       "59    MMM  cost-goods-sold  2005-12-31  50.83    %"
      ]
     },
     "execution_count": 242,
     "metadata": {},
     "output_type": "execute_result"
    }
   ],
   "source": [
    "## gross-margin (rule 1)\n",
    "driver.get(os.path.join(target_url, \"gross-margin\"))\n",
    "elements = driver.find_elements_by_css_selector('#style-1 > .table:nth-child(1) > tbody > tr')\n",
    "\n",
    "# サンプルの取得例\n",
    "# elements[0].text.split(\" \")\n",
    "\n",
    "# # サンプルdfの生成例\n",
    "df =pd.DataFrame([], columns=[\"SYMBOL\", \"INDICATOR\", \"DATE\", \"VALUE\", \"UNIT\"])\n",
    "for i in range(0, len(elements)):\n",
    "    indicator = \"cost-goods-sold\"\n",
    "    date_val, _, _, val = elements[i].text.split(\" \")\n",
    "    val = val.split(\"%\")[0]\n",
    "    df = df.append({'SYMBOL': \"MMM\", 'INDICATOR': indicator, 'DATE': date_val, 'VALUE': val, \"UNIT\": \"%\"}, ignore_index=True)\n",
    "df.tail()"
   ]
  },
  {
   "cell_type": "markdown",
   "metadata": {},
   "source": [
    "## まとめて取得するための設定"
   ]
  },
  {
   "cell_type": "code",
   "execution_count": 8,
   "metadata": {
    "code_folding": []
   },
   "outputs": [],
   "source": [
    "macrotrends_scrapying_rules = [\n",
    "    {\n",
    "        \"CATEGORY\": \"Revenue&Profit\",\n",
    "        \"INDICATORS\": [\n",
    "            {\"INDICATOR\": \"revenue\", \"RULE\": 2, \"UNIT\": \"$\"}\n",
    "            , {\"INDICATOR\": \"gross-profit\", \"RULE\": 2, \"UNIT\": \"$\"}\n",
    "            , {\"INDICATOR\": \"operating-income\", \"RULE\": 2, \"UNIT\": \"$\"}\n",
    "            , {\"INDICATOR\": \"ebitda\", \"RULE\": 2, \"UNIT\": \"$\"}\n",
    "            , {\"INDICATOR\": \"net-income\", \"RULE\": 2, \"UNIT\": \"$\"}\n",
    "            , {\"INDICATOR\": \"eps-earnings-per-share-diluted\", \"RULE\": 2, \"UNIT\": \"$\"}\n",
    "            , {\"INDICATOR\": \"shares-outstanding\", \"RULE\": 2, \"UNIT\": \"\"}]\n",
    "    },\n",
    "    {\n",
    "        \"CATEGORY\": \"Assets&Liabilityies\",\n",
    "        \"INDICATORS\": [\n",
    "            {\"INDICATOR\": \"total-assets\", \"RULE\": 2, \"UNIT\": \"$\"}\n",
    "            , {\"INDICATOR\": \"cash-on-hand\", \"RULE\": 2, \"UNIT\": \"$\"}\n",
    "            , {\"INDICATOR\": \"long-term-debt\", \"RULE\": 2, \"UNIT\": \"$\"}\n",
    "            , {\"INDICATOR\": \"total-liabilities\", \"RULE\": 2, \"UNIT\": \"$\"}\n",
    "            , {\"INDICATOR\": \"total-share-holder-equity\", \"RULE\": 2, \"UNIT\": \"$\"}]\n",
    "    },\n",
    "    {\n",
    "        \"CATEGORY\": \"Margins\",\n",
    "        \"INDICATORS\": [\n",
    "            {\"INDICATOR\": \"profit-margins\", \"RULE\": 2, \"UNIT\": \"%\"}\n",
    "            , {\"INDICATOR\": \"gross-margin\", \"RULE\": 1, \"UNIT\": \"%\"}\n",
    "            , {\"INDICATOR\": \"operating-margin\", \"RULE\": 1, \"UNIT\": \"%\"}\n",
    "            , {\"INDICATOR\": \"ebitda-margin\", \"RULE\": 1, \"UNIT\": \"%\"}\n",
    "            , {\"INDICATOR\": \"pre-tax-profit-margin\", \"RULE\": 1, \"UNIT\": \"%\"}\n",
    "            , {\"INDICATOR\": \"net-profit-margin\", \"RULE\": 1, \"UNIT\": \"%\"}]\n",
    "    },\n",
    "    {\n",
    "        \"CATEGORY\": \"Price_Ratios\",\n",
    "        \"INDICATORS\": [\n",
    "            {\"INDICATOR\": \"pe-ratio\", \"RULE\": 1, \"UNIT\": \"\"}\n",
    "            , {\"INDICATOR\": \"price-sales\", \"RULE\": 1, \"UNIT\": \"\"}\n",
    "            , {\"INDICATOR\": \"price-book\", \"RULE\": 1, \"UNIT\": \"\"}\n",
    "            , {\"INDICATOR\": \"price-fcf\", \"RULE\": 1, \"UNIT\": \"\"}]\n",
    "    },\n",
    "    {\n",
    "        \"CATEGORY\": \"Other_Ratios\",\n",
    "        \"INDICATORS\": [\n",
    "            {\"INDICATOR\": \"current-ratio\", \"RULE\": 1, \"UNIT\": \"\"}\n",
    "            , {\"INDICATOR\": \"quick-ratio\", \"RULE\": 1, \"UNIT\": \"\"}\n",
    "            , {\"INDICATOR\": \"debt-equity-ratio\", \"RULE\": 1, \"UNIT\": \"\"}\n",
    "            , {\"INDICATOR\": \"roe\", \"RULE\": 1, \"UNIT\": \"%\"}\n",
    "            , {\"INDICATOR\": \"roa\", \"RULE\": 1, \"UNIT\": \"%\"}\n",
    "            , {\"INDICATOR\": \"roi\", \"RULE\": 1, \"UNIT\": \"%\"}\n",
    "            , {\"INDICATOR\": \"return-on-tangible-equity\", \"RULE\": 1, \"UNIT\": \"%\"}]\n",
    "    }\n",
    "]"
   ]
  },
  {
   "cell_type": "markdown",
   "metadata": {},
   "source": [
    "# S&P銘柄の情報をmacrotrendsから取得する関数を定義"
   ]
  },
  {
   "cell_type": "code",
   "execution_count": 10,
   "metadata": {},
   "outputs": [],
   "source": [
    "## 必要なパッケージのインストール\n",
    "import numpy as np\n",
    "import time"
   ]
  },
  {
   "cell_type": "code",
   "execution_count": 11,
   "metadata": {},
   "outputs": [],
   "source": [
    "# 銘柄の情報を引数のDataFrameへ登録\n",
    "## dfはのcolumnsは、[\"SYMBOL\", \"INDICATOR\", \"DATE\", \"VALUE\", \"UNIT\"]を想定。（それ以外の場合はエラー）\n",
    "def addMacrotrendsInfoBySymbol(symbol, driver, macrotrends_rules):\n",
    "    df =pd.DataFrame([], columns=[\"SYMBOL\", \"INDICATOR\", \"DATE\", \"VALUE\", \"UNIT\"])\n",
    "    base_url = \"https://www.macrotrends.net/stocks/charts/\"\n",
    "    driver.get(os.path.join(base_url, symbol))\n",
    "    target_url = driver.current_url\n",
    "    \n",
    "    start = time.time()\n",
    "    rap_start = start\n",
    "    print(\"# [START] symbol: {0}\".format(symbol))\n",
    "    for i in range(0, len(macrotrends_rules)):\n",
    "        for j in range(0, len(macrotrends_rules[i][\"INDICATORS\"])):\n",
    "            indicator, rule, unit = macrotrends_rules[i][\"INDICATORS\"][j].values()\n",
    "            if rule == 1:\n",
    "                driver.get(os.path.join(target_url, indicator))\n",
    "                elements = driver.find_elements_by_css_selector('#style-1 > .table:nth-child(1) > tbody > tr')\n",
    "                for k in range(0, len(elements)):\n",
    "                    date_val, _, _, val = list(map(lambda f: f.text, elements[k].find_elements_by_css_selector('td')))\n",
    "                    val = val.replace(unit, \"\")\n",
    "                    df = df.append({'SYMBOL': symbol, 'INDICATOR': indicator, 'DATE': date_val, 'VALUE': val, \"UNIT\": unit}, ignore_index=True)\n",
    "            else:\n",
    "                if rule == 2:\n",
    "                    driver.get(os.path.join(target_url, indicator))\n",
    "                    elements = driver.find_elements_by_css_selector('#style-1 > .col-xs-6:nth-child(2) > .historical_data_table.table > tbody > tr')\n",
    "                    for k in range(0, len(elements)):\n",
    "                        date_val, val = list(map(lambda f: f.text, elements[k].find_elements_by_css_selector('td')))\n",
    "                        val = val.replace(unit, \"\")\n",
    "                        df = df.append({'SYMBOL': symbol, 'INDICATOR': indicator, 'DATE': date_val, 'VALUE': val, \"UNIT\": unit}, ignore_index=True)\n",
    "                else:\n",
    "                    raise Exception(\"macrotrends_rules is incorrect. rule: {0}, {1}\".format(indicator, rule))\n",
    "            \n",
    "#             elapsed_time = time.time() - rap_start\n",
    "#             print (\"## [RAP] indicator: {0} / elapsed_time: {1:.2f}\".format(indicator, elapsed_time) + \"[sec]\")\n",
    "#             rap_start = time.time()\n",
    "    print(\"# [END] symbol: {0} / total_time: {1:.2f}\".format(symbol, time.time() - start) + \"[sec]\")\n",
    "    return df"
   ]
  },
  {
   "cell_type": "markdown",
   "metadata": {},
   "source": [
    "# S&Pのsymbolを取得"
   ]
  },
  {
   "cell_type": "code",
   "execution_count": 17,
   "metadata": {},
   "outputs": [],
   "source": [
    "df_s_and_p_stock_list = pd.read_csv(\"./output/s_and_p_stock_list.csv\", sep=\",\", header=0)"
   ]
  },
  {
   "cell_type": "code",
   "execution_count": 18,
   "metadata": {},
   "outputs": [],
   "source": [
    "s_and_p_stock_list = df_s_and_p_stock_list[\"Symbol\"].unique()"
   ]
  },
  {
   "cell_type": "code",
   "execution_count": 19,
   "metadata": {},
   "outputs": [
    {
     "data": {
      "text/plain": [
       "505"
      ]
     },
     "execution_count": 19,
     "metadata": {},
     "output_type": "execute_result"
    }
   ],
   "source": [
    "len(s_and_p_stock_list)"
   ]
  },
  {
   "cell_type": "markdown",
   "metadata": {},
   "source": [
    "# 1970~2018年のストックデータに含まれる銘柄の確認"
   ]
  },
  {
   "cell_type": "code",
   "execution_count": 375,
   "metadata": {
    "scrolled": true
   },
   "outputs": [],
   "source": [
    "df_historical_stocks = pd.read_csv(\"./resource_files/historical_stock_prices.csv.zip\", sep=\",\", header=0)"
   ]
  },
  {
   "cell_type": "code",
   "execution_count": 376,
   "metadata": {},
   "outputs": [
    {
     "data": {
      "text/html": [
       "<div>\n",
       "<style scoped>\n",
       "    .dataframe tbody tr th:only-of-type {\n",
       "        vertical-align: middle;\n",
       "    }\n",
       "\n",
       "    .dataframe tbody tr th {\n",
       "        vertical-align: top;\n",
       "    }\n",
       "\n",
       "    .dataframe thead th {\n",
       "        text-align: right;\n",
       "    }\n",
       "</style>\n",
       "<table border=\"1\" class=\"dataframe\">\n",
       "  <thead>\n",
       "    <tr style=\"text-align: right;\">\n",
       "      <th></th>\n",
       "      <th>ticker</th>\n",
       "      <th>open</th>\n",
       "      <th>close</th>\n",
       "      <th>adj_close</th>\n",
       "      <th>low</th>\n",
       "      <th>high</th>\n",
       "      <th>volume</th>\n",
       "      <th>date</th>\n",
       "    </tr>\n",
       "  </thead>\n",
       "  <tbody>\n",
       "    <tr>\n",
       "      <th>0</th>\n",
       "      <td>AHH</td>\n",
       "      <td>11.50</td>\n",
       "      <td>11.58</td>\n",
       "      <td>8.493155</td>\n",
       "      <td>11.25</td>\n",
       "      <td>11.68</td>\n",
       "      <td>4633900</td>\n",
       "      <td>2013-05-08</td>\n",
       "    </tr>\n",
       "    <tr>\n",
       "      <th>1</th>\n",
       "      <td>AHH</td>\n",
       "      <td>11.66</td>\n",
       "      <td>11.55</td>\n",
       "      <td>8.471151</td>\n",
       "      <td>11.50</td>\n",
       "      <td>11.66</td>\n",
       "      <td>275800</td>\n",
       "      <td>2013-05-09</td>\n",
       "    </tr>\n",
       "    <tr>\n",
       "      <th>2</th>\n",
       "      <td>AHH</td>\n",
       "      <td>11.55</td>\n",
       "      <td>11.60</td>\n",
       "      <td>8.507822</td>\n",
       "      <td>11.50</td>\n",
       "      <td>11.60</td>\n",
       "      <td>277100</td>\n",
       "      <td>2013-05-10</td>\n",
       "    </tr>\n",
       "    <tr>\n",
       "      <th>3</th>\n",
       "      <td>AHH</td>\n",
       "      <td>11.63</td>\n",
       "      <td>11.65</td>\n",
       "      <td>8.544494</td>\n",
       "      <td>11.55</td>\n",
       "      <td>11.65</td>\n",
       "      <td>147400</td>\n",
       "      <td>2013-05-13</td>\n",
       "    </tr>\n",
       "    <tr>\n",
       "      <th>4</th>\n",
       "      <td>AHH</td>\n",
       "      <td>11.60</td>\n",
       "      <td>11.53</td>\n",
       "      <td>8.456484</td>\n",
       "      <td>11.50</td>\n",
       "      <td>11.60</td>\n",
       "      <td>184100</td>\n",
       "      <td>2013-05-14</td>\n",
       "    </tr>\n",
       "  </tbody>\n",
       "</table>\n",
       "</div>"
      ],
      "text/plain": [
       "  ticker   open  close  adj_close    low   high   volume        date\n",
       "0    AHH  11.50  11.58   8.493155  11.25  11.68  4633900  2013-05-08\n",
       "1    AHH  11.66  11.55   8.471151  11.50  11.66   275800  2013-05-09\n",
       "2    AHH  11.55  11.60   8.507822  11.50  11.60   277100  2013-05-10\n",
       "3    AHH  11.63  11.65   8.544494  11.55  11.65   147400  2013-05-13\n",
       "4    AHH  11.60  11.53   8.456484  11.50  11.60   184100  2013-05-14"
      ]
     },
     "execution_count": 376,
     "metadata": {},
     "output_type": "execute_result"
    }
   ],
   "source": [
    "df_historical_stocks.head()"
   ]
  },
  {
   "cell_type": "code",
   "execution_count": 377,
   "metadata": {},
   "outputs": [
    {
     "data": {
      "text/plain": [
       "(484, 1)"
      ]
     },
     "execution_count": 377,
     "metadata": {},
     "output_type": "execute_result"
    }
   ],
   "source": [
    "df_historical_stocks[[\"ticker\"]] \\\n",
    "    .drop_duplicates() \\\n",
    "    .query(\"ticker in @s_and_p_stock_list\") \\\n",
    "    .shape"
   ]
  },
  {
   "cell_type": "markdown",
   "metadata": {},
   "source": [
    "# カテゴリごとにデータを取得"
   ]
  },
  {
   "cell_type": "code",
   "execution_count": 20,
   "metadata": {},
   "outputs": [
    {
     "name": "stderr",
     "output_type": "stream",
     "text": [
      "/usr/local/var/pyenv/versions/3.7.3/lib/python3.7/site-packages/ipykernel_launcher.py:4: DeprecationWarning: use options instead of chrome_options\n",
      "  after removing the cwd from sys.path.\n"
     ]
    }
   ],
   "source": [
    "## 事前定義のオブジェクトを準備\n",
    "options = Options()\n",
    "options.add_argument(\"--headless\");\n",
    "driver = webdriver.Chrome(executable_path=\"./resource_files/chromedriver\", chrome_options=options)\n",
    "# df =pd.DataFrame([], columns=[\"SYMBOL\", \"INDICATOR\", \"DATE\", \"VALUE\", \"UNIT\"])"
   ]
  },
  {
   "cell_type": "code",
   "execution_count": 1,
   "metadata": {},
   "outputs": [],
   "source": [
    "# index = 0\n",
    "# rules = [macrotrends_scrapying_rules[index]]\n",
    "# category = rules[0][\"CATEGORY\"]\n",
    "\n",
    "# ## 実行\n",
    "# for i in range(0, len(s_and_p_stock_list)):\n",
    "#     df = df.append(addMacrotrendsInfoBySymbol(s_and_p_stock_list[i], driver, rules))\n",
    "# df.to_csv(\"./output/macrotrends_{0}.csv\".format(category))"
   ]
  },
  {
   "cell_type": "code",
   "execution_count": 2,
   "metadata": {},
   "outputs": [],
   "source": [
    "# index = 1\n",
    "# rules = [macrotrends_scrapying_rules[index]]\n",
    "# category = rules[0][\"CATEGORY\"]\n",
    "\n",
    "# ## 実行\n",
    "# for i in range(0, len(s_and_p_stock_list)):\n",
    "#     df = df.append(addMacrotrendsInfoBySymbol(s_and_p_stock_list[i], driver, rules))\n",
    "# df.to_csv(\"./output/macrotrends_{0}.csv\".format(category))"
   ]
  },
  {
   "cell_type": "code",
   "execution_count": 3,
   "metadata": {},
   "outputs": [],
   "source": [
    "# index = 2\n",
    "# rules = [macrotrends_scrapying_rules[index]]\n",
    "# category = rules[0][\"CATEGORY\"]\n",
    "\n",
    "# ## 実行\n",
    "# for i in range(0, len(s_and_p_stock_list)):\n",
    "#     df = df.append(addMacrotrendsInfoBySymbol(s_and_p_stock_list[i], driver, rules))\n",
    "# df.to_csv(\"./output/macrotrends_{0}.csv\".format(category))"
   ]
  },
  {
   "cell_type": "code",
   "execution_count": 4,
   "metadata": {},
   "outputs": [],
   "source": [
    "# index = 3\n",
    "# rules = [macrotrends_scrapying_rules[index]]\n",
    "# category = rules[0][\"CATEGORY\"]\n",
    "\n",
    "# ## 実行\n",
    "# for i in range(0, len(s_and_p_stock_list)):\n",
    "#     df = df.append(addMacrotrendsInfoBySymbol(s_and_p_stock_list[i], driver, rules))\n",
    "# df.to_csv(\"./output/macrotrends_{0}.csv\".format(category))"
   ]
  },
  {
   "cell_type": "code",
   "execution_count": 5,
   "metadata": {},
   "outputs": [],
   "source": [
    "# index = 4\n",
    "# rules = [macrotrends_scrapying_rules[index]]\n",
    "# category = rules[0][\"CATEGORY\"]\n",
    "\n",
    "# ## 実行\n",
    "# for i in range(443, len(s_and_p_stock_list)):\n",
    "#     df = df.append(addMacrotrendsInfoBySymbol(s_and_p_stock_list[i], driver, rules))\n",
    "# df.to_csv(\"./output/macrotrends_{0}.csv\".format(category))"
   ]
  },
  {
   "cell_type": "code",
   "execution_count": null,
   "metadata": {},
   "outputs": [],
   "source": []
  }
 ],
 "metadata": {
  "kernelspec": {
   "display_name": "Python 3",
   "language": "python",
   "name": "python3"
  },
  "language_info": {
   "codemirror_mode": {
    "name": "ipython",
    "version": 3
   },
   "file_extension": ".py",
   "mimetype": "text/x-python",
   "name": "python",
   "nbconvert_exporter": "python",
   "pygments_lexer": "ipython3",
   "version": "3.7.3"
  },
  "toc-autonumbering": true
 },
 "nbformat": 4,
 "nbformat_minor": 4
}
